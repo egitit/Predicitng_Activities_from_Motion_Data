{
 "cells": [
  {
   "cell_type": "code",
   "execution_count": 1,
   "metadata": {},
   "outputs": [],
   "source": [
    "import pandas as pd"
   ]
  },
  {
   "cell_type": "code",
   "execution_count": 2,
   "metadata": {},
   "outputs": [],
   "source": [
    "# File Path\n",
    "file = '/Users/Lisa/Sports_Activity_Capstone/sports_activity_data/a01_sitting/p1/s01.txt'"
   ]
  },
  {
   "cell_type": "markdown",
   "metadata": {},
   "source": [
    "# Structure of the Data"
   ]
  },
  {
   "cell_type": "markdown",
   "metadata": {},
   "source": [
    "- In each text file, there are 5 units x 9 sensors = 45 columns\n",
    "- Each column contains the 125 samples of data acquired from one of the sensors of one of the units over a period of 5 sec."
   ]
  },
  {
   "cell_type": "markdown",
   "metadata": {},
   "source": [
    "9 sensors on each unit:\n",
    "- (3 x 3 sensors) x 5 body parts = 45 columns of data\n",
    "- x,y,z accelerometers\n",
    "- x,y,z gyroscopes\n",
    "- x,y,z magnetometers"
   ]
  },
  {
   "cell_type": "markdown",
   "metadata": {},
   "source": [
    "Columns 1-45 correspond to: \n",
    "- T_xacc, T_yacc, T_zacc, T_xgyro, ..., T_ymag, T_zmag, \n",
    "- RA_xacc, RA_yacc, RA_zacc, RA_xgyro, ..., RA_ymag, RA_zmag, \n",
    "- LA_xacc, LA_yacc, LA_zacc, LA_xgyro, ..., LA_ymag, LA_zmag, \n",
    "- RL_xacc, RL_yacc, RL_zacc, RL_xgyro, ..., RL_ymag, RL_zmag, \n",
    "- LL_xacc, LL_yacc, LL_zacc, LL_xgyro, ..., LL_ymag, LL_zmag. "
   ]
  },
  {
   "cell_type": "markdown",
   "metadata": {},
   "source": [
    "# Create a list of column names for pandas import"
   ]
  },
  {
   "cell_type": "code",
   "execution_count": 3,
   "metadata": {},
   "outputs": [],
   "source": [
    "# Torso list\n",
    "t = ['T_xacc', 'T_yacc', 'T_zacc', 'T_xgyro', 'T_ygyro', 'T_zgyro', 'T_xmag', 'T_ymag', 'T_zmag']\n",
    "# Right Arm list\n",
    "ra = ['RA_xacc', 'RA_yacc', 'RA_zacc', 'RA_xgyro', 'RA_ygyro', 'RA_zgyro', 'RA_xmag', 'RA_ymag', 'RA_zmag']\n",
    "# Left Arm list\n",
    "la = ['LA_xacc', 'LA_yacc', 'LA_zacc', 'LA_xgyro', 'LA_ygyro', 'LA_zgyro', 'LA_xmag', 'LA_ymag', 'LA_zmag']\n",
    "# Right Leg list\n",
    "rl = ['RL_xacc', 'RL_yacc', 'RL_zacc', 'RL_xgyro', 'RL_ygyro', 'RL_zgyro', 'RL_xmag', 'RL_ymag', 'RL_zmag']\n",
    "# Left Leg list\n",
    "ll = ['LL_xacc', 'LL_yacc', 'LL_zacc', 'LL_xgyro', 'LL_ygyro', 'LL_zgyro', 'LL_xmag', 'LL_ymag', 'LL_zmag']"
   ]
  },
  {
   "cell_type": "code",
   "execution_count": 4,
   "metadata": {},
   "outputs": [],
   "source": [
    "# Complete colun list variable to use for dataframe imports\n",
    "columns = t + ra + la + rl + ll"
   ]
  },
  {
   "cell_type": "markdown",
   "metadata": {},
   "source": [
    "# Test import using columns"
   ]
  },
  {
   "cell_type": "code",
   "execution_count": 5,
   "metadata": {},
   "outputs": [],
   "source": [
    "a01_p1 = pd.read_csv(file, names=columns)\n",
    "# Works just fine!"
   ]
  },
  {
   "cell_type": "markdown",
   "metadata": {},
   "source": [
    "# Functions to aggregate the distributed data"
   ]
  },
  {
   "cell_type": "code",
   "execution_count": 6,
   "metadata": {},
   "outputs": [],
   "source": [
    "# extract links for data import\n",
    "def make_lst(a):\n",
    "    '''\n",
    "    Enter a string that will be plugged into spot {a}, which is a folders title\n",
    "    spot {x} will address the individual files within {y}'s folder, which is in folder {a}\n",
    "    \n",
    "    parameter:\n",
    "    a = string of a folders name\n",
    "    \n",
    "    returns:\n",
    "    a list of strings with all the necessary links for all 480 file imports per activity\n",
    "    '''\n",
    "    lst = []\n",
    "    url = f\"/Users/Lisa/Sports_Activity_Capstone/sports_activity_data/{a}/p1/s01.txt\"\n",
    "    for x in range(1,61):\n",
    "        for y in range(1,9):\n",
    "            if x < 10:\n",
    "                lst.append(f\"/Users/Lisa/Sports_Activity_Capstone/sports_activity_data/{a}/p{y}/s0{x}.txt\")\n",
    "            else:\n",
    "                lst.append(f\"/Users/Lisa/Sports_Activity_Capstone/sports_activity_data/{a}/p{y}/s{x}.txt\")\n",
    "    return lst"
   ]
  },
  {
   "cell_type": "code",
   "execution_count": 7,
   "metadata": {},
   "outputs": [],
   "source": [
    "# Test the function of the first activity\n",
    "a01 = make_lst('a01_sitting')\n",
    "# Returns a list of all 480 strings needed for data import"
   ]
  },
  {
   "cell_type": "code",
   "execution_count": 8,
   "metadata": {},
   "outputs": [],
   "source": [
    "# Create a list of folder strings to make the complete list of 9,120 imports\n",
    "fold_strings = [\"a01_sitting\", \n",
    "                \"a02_standing\", \n",
    "                \"a03_laying_on_back\", \n",
    "                \"a04_laying_on_right_side\",\n",
    "                \"a05_ascending_stairs\",\n",
    "                \"a06_ descending_stairs\",\n",
    "                \"a07_still_in_elevator\",\n",
    "                \"a08_moving_in_elevator\",\n",
    "                \"a09_parking_lot_walking\",\n",
    "                \"a10_walking_flat_treadmill\",\n",
    "                \"a11_walking_incline_treadmill\",\n",
    "                \"a12_running_treadmill\",\n",
    "                \"a13_stepper\",\n",
    "                \"a14_cross_trainer\",\n",
    "                \"a15_horizontal_exercise_bike\",\n",
    "                \"a16_vertical_exercise_bike\",\n",
    "                \"a17_rowing\",\n",
    "                \"a18_jumping\",\n",
    "                \"a19_basketball\"\n",
    "               ]"
   ]
  },
  {
   "cell_type": "code",
   "execution_count": 9,
   "metadata": {},
   "outputs": [],
   "source": [
    "# Create a complete list with all of the file paths for data ingestion\n",
    "def make_final_lst(n):\n",
    "    '''\n",
    "    Enter in a list of folder strings in order to create the 480 imports for each folder\n",
    "    parameter:\n",
    "    n = a list of folder strings\n",
    "    \n",
    "    returns:\n",
    "    a list of lists containing all of the file paths for the 9,120 imports\n",
    "    '''\n",
    "    lst = []\n",
    "    for x in n:\n",
    "        lst.append(make_lst(x))\n",
    "    return lst"
   ]
  },
  {
   "cell_type": "code",
   "execution_count": 10,
   "metadata": {},
   "outputs": [],
   "source": [
    "# Creating a final list variable which will have 19 lists, each list will contain 480 strings\n",
    "fin_lst = make_final_lst(fold_strings)\n",
    "# lists of lists works and has 9,120 items in it"
   ]
  },
  {
   "cell_type": "code",
   "execution_count": 11,
   "metadata": {},
   "outputs": [],
   "source": [
    "# Now attempt to turn an activity into a dataframe\n",
    "def make_dataframes(lst):\n",
    "    '''\n",
    "    Enter in a list to iterate through to turn file imports into an activity dataframe\n",
    "    parameters:\n",
    "    lst = a list of strings (file paths)\n",
    "    \n",
    "    returns:\n",
    "    a dataframe of a particular sports activity \n",
    "    '''\n",
    "    df = pd.DataFrame(columns=columns)\n",
    "    for x in lst:\n",
    "        data = pd.read_csv(x, names=columns)\n",
    "        df = df.append(data, ignore_index = True)\n",
    "    return df"
   ]
  },
  {
   "cell_type": "code",
   "execution_count": 12,
   "metadata": {},
   "outputs": [],
   "source": [
    "# Test function\n",
    "# sitting_df = make_dataframes(fin_lst[0])\n",
    "# Works! returns a dataframe for an activity with the appropriate column names"
   ]
  },
  {
   "cell_type": "code",
   "execution_count": 13,
   "metadata": {},
   "outputs": [],
   "source": [
    "# Create a FINAL dataframe of ALL the sports activities\n",
    "def make_dataframes_2(lst):\n",
    "    '''\n",
    "    Enter in a list of lists that contain the file path strings for the data ingestion\n",
    "    parameters:\n",
    "    lst = a list of lists containing the file path strings for data ingestions\n",
    "    \n",
    "    returns:\n",
    "    a complete dataframe with all the sports activity data\n",
    "    '''\n",
    "    df = pd.DataFrame(columns=columns)\n",
    "    for x in lst:\n",
    "        for y in x:\n",
    "            data = pd.read_csv(y, names=columns)\n",
    "            df = df.append(data, ignore_index = True)\n",
    "    return df"
   ]
  },
  {
   "cell_type": "code",
   "execution_count": 14,
   "metadata": {},
   "outputs": [],
   "source": [
    "# Test out making the dataframe \n",
    "# df = make_dataframes_2(fin_lst)\n",
    "# Works! Commenting out since it takes a minute to run"
   ]
  },
  {
   "cell_type": "code",
   "execution_count": 15,
   "metadata": {},
   "outputs": [],
   "source": [
    "# Create a CSV to add on sports activity data later\n",
    "# df.to_csv('complete_dataset.csv')\n",
    "# Works! Commented out not to keep creating csv's"
   ]
  },
  {
   "cell_type": "code",
   "execution_count": null,
   "metadata": {},
   "outputs": [],
   "source": []
  }
 ],
 "metadata": {
  "kernelspec": {
   "display_name": "Python 3",
   "language": "python",
   "name": "python3"
  },
  "language_info": {
   "codemirror_mode": {
    "name": "ipython",
    "version": 3
   },
   "file_extension": ".py",
   "mimetype": "text/x-python",
   "name": "python",
   "nbconvert_exporter": "python",
   "pygments_lexer": "ipython3",
   "version": "3.7.7"
  }
 },
 "nbformat": 4,
 "nbformat_minor": 4
}
