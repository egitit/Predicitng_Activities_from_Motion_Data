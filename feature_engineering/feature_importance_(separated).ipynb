{
 "cells": [
  {
   "cell_type": "code",
   "execution_count": 1,
   "metadata": {
    "ExecuteTime": {
     "end_time": "2020-05-14T14:16:50.864006Z",
     "start_time": "2020-05-14T14:16:48.391835Z"
    }
   },
   "outputs": [],
   "source": [
    "%run my_split_func2.ipynb\n",
    "# Function = my_train_test_split(X, y)\n",
    "%run plot_features_importance.ipynb\n",
    "#Function = plot_features_importance(model)"
   ]
  },
  {
   "cell_type": "code",
   "execution_count": 2,
   "metadata": {
    "ExecuteTime": {
     "end_time": "2020-05-14T14:16:50.887964Z",
     "start_time": "2020-05-14T14:16:50.866854Z"
    }
   },
   "outputs": [],
   "source": [
    "# df will return grouped dataframe to act on"
   ]
  },
  {
   "cell_type": "markdown",
   "metadata": {},
   "source": [
    "### Establish each body part dataframe for modeling"
   ]
  },
  {
   "cell_type": "code",
   "execution_count": 3,
   "metadata": {
    "ExecuteTime": {
     "end_time": "2020-05-14T14:16:50.921360Z",
     "start_time": "2020-05-14T14:16:50.894335Z"
    },
    "code_folding": []
   },
   "outputs": [],
   "source": [
    "# This will drop Arms & Torso columns\n",
    "legs = df.drop(['LA_xacc', 'LA_yacc', 'LA_zacc', 'LA_xgyro', 'LA_ygyro',\n",
    "                'LA_zgyro', 'LA_xmag', 'LA_ymag', 'LA_zmag', 'RA_xacc', \n",
    "                'RA_yacc', 'RA_zacc', 'RA_xgyro', 'RA_ygyro', 'RA_zgyro', 'RA_xmag', \n",
    "                'RA_ymag', 'RA_zmag', 'T_xacc', 'T_yacc', 'T_zacc', 'T_xgyro', 'T_ygyro',\n",
    "                'T_zgyro', 'T_xmag', 'T_ymag', 'T_zmag'], axis=1)"
   ]
  },
  {
   "cell_type": "code",
   "execution_count": 4,
   "metadata": {
    "ExecuteTime": {
     "end_time": "2020-05-14T14:16:50.948641Z",
     "start_time": "2020-05-14T14:16:50.927607Z"
    },
    "code_folding": []
   },
   "outputs": [],
   "source": [
    "# This will drop Legs & Torso\n",
    "arms = df.drop(['T_xacc', 'T_yacc', 'T_zacc', 'T_xgyro', 'T_ygyro', 'T_zgyro', \n",
    "                'T_xmag', 'T_ymag', 'T_zmag', 'RL_xacc', 'RL_yacc', 'RL_zacc', \n",
    "                'RL_xgyro', 'RL_ygyro', 'RL_zgyro', 'RL_xmag', 'RL_ymag', 'RL_zmag', \n",
    "                'LL_xacc', 'LL_yacc', 'LL_zacc', 'LL_xgyro', 'LL_ygyro', 'LL_zgyro', \n",
    "                'LL_xmag', 'LL_ymag', 'LL_zmag'], axis=1)"
   ]
  },
  {
   "cell_type": "code",
   "execution_count": 5,
   "metadata": {
    "ExecuteTime": {
     "end_time": "2020-05-14T14:16:50.977997Z",
     "start_time": "2020-05-14T14:16:50.960023Z"
    },
    "code_folding": []
   },
   "outputs": [],
   "source": [
    "# This will drop arms & Legs\n",
    "torso = df.drop(['RA_xacc', 'RA_yacc', 'RA_zacc', 'RA_xgyro', 'RA_ygyro', 'RA_zgyro', \n",
    "                 'RA_xmag', 'RA_ymag', 'RA_zmag', 'LA_xacc', 'LA_yacc', 'LA_zacc', \n",
    "                 'LA_xgyro', 'LA_ygyro', 'LA_zgyro', 'LA_xmag', 'LA_ymag', 'LA_zmag', \n",
    "                 'RL_xacc', 'RL_yacc', 'RL_zacc', 'RL_xgyro', 'RL_ygyro', 'RL_zgyro', \n",
    "                 'RL_xmag', 'RL_ymag', 'RL_zmag', 'LL_xacc', 'LL_yacc', 'LL_zacc', \n",
    "                 'LL_xgyro', 'LL_ygyro', 'LL_zgyro', 'LL_xmag', 'LL_ymag', 'LL_zmag'], axis=1)"
   ]
  },
  {
   "cell_type": "markdown",
   "metadata": {},
   "source": [
    "# Train Model on Torso"
   ]
  },
  {
   "cell_type": "code",
   "execution_count": 6,
   "metadata": {
    "ExecuteTime": {
     "end_time": "2020-05-14T14:16:50.998853Z",
     "start_time": "2020-05-14T14:16:50.986211Z"
    }
   },
   "outputs": [],
   "source": [
    "rf_torso = RandomForestClassifier()"
   ]
  },
  {
   "cell_type": "code",
   "execution_count": 7,
   "metadata": {
    "ExecuteTime": {
     "end_time": "2020-05-14T14:16:51.059761Z",
     "start_time": "2020-05-14T14:16:51.020090Z"
    }
   },
   "outputs": [],
   "source": [
    "y = torso['activity_number']\n",
    "X = torso.drop('activity_number', axis=1)"
   ]
  },
  {
   "cell_type": "code",
   "execution_count": 8,
   "metadata": {
    "ExecuteTime": {
     "end_time": "2020-05-14T14:16:51.122705Z",
     "start_time": "2020-05-14T14:16:51.079994Z"
    }
   },
   "outputs": [],
   "source": [
    "X_train, X_test, y_train, y_test, random_values = my_train_test_split(X, y)"
   ]
  },
  {
   "cell_type": "code",
   "execution_count": 9,
   "metadata": {
    "ExecuteTime": {
     "end_time": "2020-05-14T14:16:51.749794Z",
     "start_time": "2020-05-14T14:16:51.134034Z"
    },
    "collapsed": true
   },
   "outputs": [
    {
     "data": {
      "text/plain": [
       "RandomForestClassifier(bootstrap=True, ccp_alpha=0.0, class_weight=None,\n",
       "                       criterion='gini', max_depth=None, max_features='auto',\n",
       "                       max_leaf_nodes=None, max_samples=None,\n",
       "                       min_impurity_decrease=0.0, min_impurity_split=None,\n",
       "                       min_samples_leaf=1, min_samples_split=2,\n",
       "                       min_weight_fraction_leaf=0.0, n_estimators=100,\n",
       "                       n_jobs=None, oob_score=False, random_state=None,\n",
       "                       verbose=0, warm_start=False)"
      ]
     },
     "execution_count": 9,
     "metadata": {},
     "output_type": "execute_result"
    }
   ],
   "source": [
    "rf_torso.fit(X_train, y_train)"
   ]
  },
  {
   "cell_type": "code",
   "execution_count": 10,
   "metadata": {
    "ExecuteTime": {
     "end_time": "2020-05-14T14:16:51.860837Z",
     "start_time": "2020-05-14T14:16:51.753106Z"
    }
   },
   "outputs": [
    {
     "data": {
      "text/plain": [
       "0.5578947368421052"
      ]
     },
     "execution_count": 10,
     "metadata": {},
     "output_type": "execute_result"
    }
   ],
   "source": [
    "rf_torso.score(X_test, y_test)"
   ]
  },
  {
   "cell_type": "code",
   "execution_count": 11,
   "metadata": {
    "ExecuteTime": {
     "end_time": "2020-05-14T14:16:53.151239Z",
     "start_time": "2020-05-14T14:16:51.871276Z"
    },
    "collapsed": true
   },
   "outputs": [
    {
     "data": {
      "image/png": "[encoded data removed]",
      "text/plain": [
       "<Figure size 1080x720 with 1 Axes>"
      ]
     },
     "metadata": {
      "needs_background": "light"
     },
     "output_type": "display_data"
    }
   ],
   "source": [
    "plot_features_importance(rf_torso, 'teal')"
   ]
  },
  {
   "cell_type": "markdown",
   "metadata": {},
   "source": [
    "# Train model on Arms"
   ]
  },
  {
   "cell_type": "code",
   "execution_count": 12,
   "metadata": {
    "ExecuteTime": {
     "end_time": "2020-05-14T14:16:53.164880Z",
     "start_time": "2020-05-14T14:16:53.154020Z"
    }
   },
   "outputs": [],
   "source": [
    "rf_arms = RandomForestClassifier()"
   ]
  },
  {
   "cell_type": "code",
   "execution_count": 13,
   "metadata": {
    "ExecuteTime": {
     "end_time": "2020-05-14T14:16:53.202631Z",
     "start_time": "2020-05-14T14:16:53.170514Z"
    }
   },
   "outputs": [],
   "source": [
    "y = arms['activity_number']\n",
    "X = arms.drop('activity_number', axis=1)"
   ]
  },
  {
   "cell_type": "code",
   "execution_count": 14,
   "metadata": {
    "ExecuteTime": {
     "end_time": "2020-05-14T14:16:53.263032Z",
     "start_time": "2020-05-14T14:16:53.217182Z"
    }
   },
   "outputs": [],
   "source": [
    "X_train, X_test, y_train, y_test, random_values = my_train_test_split(X, y)"
   ]
  },
  {
   "cell_type": "code",
   "execution_count": 15,
   "metadata": {
    "ExecuteTime": {
     "end_time": "2020-05-14T14:16:53.757619Z",
     "start_time": "2020-05-14T14:16:53.268223Z"
    },
    "collapsed": true
   },
   "outputs": [
    {
     "data": {
      "text/plain": [
       "RandomForestClassifier(bootstrap=True, ccp_alpha=0.0, class_weight=None,\n",
       "                       criterion='gini', max_depth=None, max_features='auto',\n",
       "                       max_leaf_nodes=None, max_samples=None,\n",
       "                       min_impurity_decrease=0.0, min_impurity_split=None,\n",
       "                       min_samples_leaf=1, min_samples_split=2,\n",
       "                       min_weight_fraction_leaf=0.0, n_estimators=100,\n",
       "                       n_jobs=None, oob_score=False, random_state=None,\n",
       "                       verbose=0, warm_start=False)"
      ]
     },
     "execution_count": 15,
     "metadata": {},
     "output_type": "execute_result"
    }
   ],
   "source": [
    "rf_arms.fit(X_train, y_train)"
   ]
  },
  {
   "cell_type": "code",
   "execution_count": 16,
   "metadata": {
    "ExecuteTime": {
     "end_time": "2020-05-14T14:16:53.834839Z",
     "start_time": "2020-05-14T14:16:53.768352Z"
    }
   },
   "outputs": [
    {
     "data": {
      "text/plain": [
       "0.7684210526315789"
      ]
     },
     "execution_count": 16,
     "metadata": {},
     "output_type": "execute_result"
    }
   ],
   "source": [
    "rf_arms.score(X_test, y_test)"
   ]
  },
  {
   "cell_type": "code",
   "execution_count": 17,
   "metadata": {
    "ExecuteTime": {
     "end_time": "2020-05-14T14:16:54.374409Z",
     "start_time": "2020-05-14T14:16:53.851463Z"
    },
    "collapsed": true
   },
   "outputs": [
    {
     "data": {
      "image/png": "[encoded data removed]",
      "text/plain": [
       "<Figure size 1080x720 with 1 Axes>"
      ]
     },
     "metadata": {
      "needs_background": "light"
     },
     "output_type": "display_data"
    }
   ],
   "source": [
    "plot_features_importance(rf_arms, 'red')"
   ]
  },
  {
   "cell_type": "markdown",
   "metadata": {},
   "source": [
    "# Train model on Legs"
   ]
  },
  {
   "cell_type": "code",
   "execution_count": 18,
   "metadata": {
    "ExecuteTime": {
     "end_time": "2020-05-14T14:16:54.419485Z",
     "start_time": "2020-05-14T14:16:54.398645Z"
    }
   },
   "outputs": [],
   "source": [
    "rf_legs = RandomForestClassifier()"
   ]
  },
  {
   "cell_type": "code",
   "execution_count": 19,
   "metadata": {
    "ExecuteTime": {
     "end_time": "2020-05-14T14:16:54.445078Z",
     "start_time": "2020-05-14T14:16:54.421832Z"
    }
   },
   "outputs": [],
   "source": [
    "y = legs['activity_number']\n",
    "X = legs.drop('activity_number', axis=1)"
   ]
  },
  {
   "cell_type": "code",
   "execution_count": 20,
   "metadata": {
    "ExecuteTime": {
     "end_time": "2020-05-14T14:16:54.486697Z",
     "start_time": "2020-05-14T14:16:54.451239Z"
    }
   },
   "outputs": [],
   "source": [
    "X_train, X_test, y_train, y_test, random_values = my_train_test_split(X, y)"
   ]
  },
  {
   "cell_type": "code",
   "execution_count": 21,
   "metadata": {
    "ExecuteTime": {
     "end_time": "2020-05-14T14:16:55.004940Z",
     "start_time": "2020-05-14T14:16:54.498718Z"
    },
    "collapsed": true
   },
   "outputs": [
    {
     "data": {
      "text/plain": [
       "RandomForestClassifier(bootstrap=True, ccp_alpha=0.0, class_weight=None,\n",
       "                       criterion='gini', max_depth=None, max_features='auto',\n",
       "                       max_leaf_nodes=None, max_samples=None,\n",
       "                       min_impurity_decrease=0.0, min_impurity_split=None,\n",
       "                       min_samples_leaf=1, min_samples_split=2,\n",
       "                       min_weight_fraction_leaf=0.0, n_estimators=100,\n",
       "                       n_jobs=None, oob_score=False, random_state=None,\n",
       "                       verbose=0, warm_start=False)"
      ]
     },
     "execution_count": 21,
     "metadata": {},
     "output_type": "execute_result"
    }
   ],
   "source": [
    "rf_legs.fit(X_train, y_train)"
   ]
  },
  {
   "cell_type": "code",
   "execution_count": 22,
   "metadata": {
    "ExecuteTime": {
     "end_time": "2020-05-14T14:16:55.074855Z",
     "start_time": "2020-05-14T14:16:55.007623Z"
    },
    "scrolled": true
   },
   "outputs": [
    {
     "data": {
      "text/plain": [
       "0.8105263157894737"
      ]
     },
     "execution_count": 22,
     "metadata": {},
     "output_type": "execute_result"
    }
   ],
   "source": [
    "rf_legs.score(X_test, y_test)"
   ]
  },
  {
   "cell_type": "code",
   "execution_count": 23,
   "metadata": {
    "ExecuteTime": {
     "end_time": "2020-05-14T14:16:55.692745Z",
     "start_time": "2020-05-14T14:16:55.088003Z"
    },
    "collapsed": true
   },
   "outputs": [
    {
     "data": {
      "image/png": "[encoded data removed]",
      "text/plain": [
       "<Figure size 1080x720 with 1 Axes>"
      ]
     },
     "metadata": {
      "needs_background": "light"
     },
     "output_type": "display_data"
    }
   ],
   "source": [
    "plot_features_importance(rf_legs, 'blue')"
   ]
  },
  {
   "cell_type": "markdown",
   "metadata": {},
   "source": [
    "# Torso conclusion:\n",
    "- Ranking of sensor importance for Torso:\n",
    "    - 1st mag(netometers)\n",
    "    - 2nd acc(elerometers)\n",
    "    - 3rd gyro(scopes)\n",
    "    \n",
    "### Leverage the Torso's x,y,z mag(netometers)"
   ]
  },
  {
   "cell_type": "markdown",
   "metadata": {},
   "source": [
    "# Arms conclusion:\n",
    "- Ranking of sensor importance for Arms:\n",
    "    - 1st mag(netometers)\n",
    "    - 2nd acc(elerometers)\n",
    "    - 3rd gyro(scopes)\n",
    "    \n",
    "### Leverage the Arms's x,y,z mag(netometers), mabe acc(elerometers) as a close 2nd..."
   ]
  },
  {
   "cell_type": "markdown",
   "metadata": {},
   "source": [
    "# Legs conclusion:\n",
    "- Ranking of sensor importance for Legs:\n",
    "    - 1st - TIE - mag(netometers) & acc(elerometers)\n",
    "    - 2nd - gyro(scopes)"
   ]
  },
  {
   "cell_type": "markdown",
   "metadata": {},
   "source": [
    "# Train model on limited combination\n",
    "Going to pull the following features from the dataframe:\n",
    "- Torso mag features (x,y,z)\n",
    "- Arms mag features (x,y,z)\n",
    "- Legs mag & acc (x,y,z)"
   ]
  },
  {
   "cell_type": "code",
   "execution_count": 24,
   "metadata": {
    "ExecuteTime": {
     "end_time": "2020-05-14T14:16:55.717567Z",
     "start_time": "2020-05-14T14:16:55.712629Z"
    }
   },
   "outputs": [],
   "source": [
    "rf_combo = RandomForestClassifier()"
   ]
  },
  {
   "cell_type": "code",
   "execution_count": 25,
   "metadata": {
    "ExecuteTime": {
     "end_time": "2020-05-14T14:16:55.766132Z",
     "start_time": "2020-05-14T14:16:55.756956Z"
    },
    "code_folding": [
     0
    ]
   },
   "outputs": [],
   "source": [
    "drop_these = [\n",
    "    # Torso features to drop\n",
    "    'T_xacc', 'T_yacc', 'T_zacc', 'T_xgyro', 'T_ygyro', 'T_zgyro',\n",
    "    # Arm features to drop\n",
    "    'RA_xacc', 'RA_yacc', 'RA_zacc', 'RA_xgyro', 'RA_ygyro', 'RA_zgyro',\n",
    "    'LA_xacc', 'LA_yacc', 'LA_zacc', 'LA_xgyro', 'LA_ygyro', 'LA_zgyro',\n",
    "    #Leg features to drop\n",
    "    'RL_xacc', 'RL_yacc', 'RL_zacc', 'RL_xmag', 'RL_ymag', 'RL_zmag',\n",
    "    'LL_xacc', 'LL_yacc', 'LL_zacc', 'LL_xmag', 'LL_ymag', 'LL_zmag',\n",
    "    # Dropping person & time since it almost has 0 feature importance\n",
    "    'time', 'person'\n",
    "]"
   ]
  },
  {
   "cell_type": "code",
   "execution_count": 26,
   "metadata": {
    "ExecuteTime": {
     "end_time": "2020-05-14T14:16:55.799243Z",
     "start_time": "2020-05-14T14:16:55.770928Z"
    }
   },
   "outputs": [],
   "source": [
    "combo_df = df.drop(drop_these, axis=1)"
   ]
  },
  {
   "cell_type": "code",
   "execution_count": 27,
   "metadata": {
    "ExecuteTime": {
     "end_time": "2020-05-14T14:16:55.828704Z",
     "start_time": "2020-05-14T14:16:55.804466Z"
    }
   },
   "outputs": [],
   "source": [
    "y = combo_df['activity_number']\n",
    "X = combo_df.drop('activity_number', axis=1)"
   ]
  },
  {
   "cell_type": "code",
   "execution_count": 28,
   "metadata": {
    "ExecuteTime": {
     "end_time": "2020-05-14T14:16:55.876646Z",
     "start_time": "2020-05-14T14:16:55.849353Z"
    }
   },
   "outputs": [],
   "source": [
    "X_train, X_test, y_train, y_test, random_values = my_train_test_split(X, y)"
   ]
  },
  {
   "cell_type": "code",
   "execution_count": 29,
   "metadata": {
    "ExecuteTime": {
     "end_time": "2020-05-14T14:16:56.336347Z",
     "start_time": "2020-05-14T14:16:55.881477Z"
    },
    "collapsed": true
   },
   "outputs": [
    {
     "data": {
      "text/plain": [
       "RandomForestClassifier(bootstrap=True, ccp_alpha=0.0, class_weight=None,\n",
       "                       criterion='gini', max_depth=None, max_features='auto',\n",
       "                       max_leaf_nodes=None, max_samples=None,\n",
       "                       min_impurity_decrease=0.0, min_impurity_split=None,\n",
       "                       min_samples_leaf=1, min_samples_split=2,\n",
       "                       min_weight_fraction_leaf=0.0, n_estimators=100,\n",
       "                       n_jobs=None, oob_score=False, random_state=None,\n",
       "                       verbose=0, warm_start=False)"
      ]
     },
     "execution_count": 29,
     "metadata": {},
     "output_type": "execute_result"
    }
   ],
   "source": [
    "rf_combo.fit(X_train, y_train)"
   ]
  },
  {
   "cell_type": "code",
   "execution_count": 30,
   "metadata": {
    "ExecuteTime": {
     "end_time": "2020-05-14T14:16:56.405243Z",
     "start_time": "2020-05-14T14:16:56.339364Z"
    }
   },
   "outputs": [
    {
     "data": {
      "text/plain": [
       "0.7263157894736842"
      ]
     },
     "execution_count": 30,
     "metadata": {},
     "output_type": "execute_result"
    }
   ],
   "source": [
    "rf_combo.score(X_test, y_test)"
   ]
  },
  {
   "cell_type": "code",
   "execution_count": 31,
   "metadata": {
    "ExecuteTime": {
     "end_time": "2020-05-14T14:16:56.903080Z",
     "start_time": "2020-05-14T14:16:56.409226Z"
    },
    "collapsed": true
   },
   "outputs": [
    {
     "data": {
      "image/png": "[encoded data removed]",
      "text/plain": [
       "<Figure size 1080x720 with 1 Axes>"
      ]
     },
     "metadata": {
      "needs_background": "light"
     },
     "output_type": "display_data"
    }
   ],
   "source": [
    "plot_features_importance(rf_combo, 'purple')"
   ]
  },
  {
   "cell_type": "markdown",
   "metadata": {},
   "source": [
    "# Seems like the Torso sensors may have brought down the score... <br/> Will try combo with Arms & Legs"
   ]
  },
  {
   "cell_type": "code",
   "execution_count": null,
   "metadata": {},
   "outputs": [],
   "source": [
    "rf_combo2 = RandomForestClassifier()"
   ]
  },
  {
   "cell_type": "code",
   "execution_count": 48,
   "metadata": {
    "ExecuteTime": {
     "end_time": "2020-05-14T14:27:54.875610Z",
     "start_time": "2020-05-14T14:27:54.857753Z"
    }
   },
   "outputs": [],
   "source": [
    "y = df['activity_number']\n",
    "X = df.drop(['T_xacc', 'T_yacc', 'T_zacc', \n",
    "     'T_xgyro', 'T_ygyro', 'T_zgyro', \n",
    "     'T_xmag', 'T_ymag', 'T_zmag'], axis=1)"
   ]
  },
  {
   "cell_type": "code",
   "execution_count": 49,
   "metadata": {
    "ExecuteTime": {
     "end_time": "2020-05-14T14:28:03.884580Z",
     "start_time": "2020-05-14T14:28:03.863324Z"
    }
   },
   "outputs": [],
   "source": [
    "X_train, X_test, y_train, y_test, random_values = my_train_test_split(X, y)"
   ]
  },
  {
   "cell_type": "code",
   "execution_count": null,
   "metadata": {},
   "outputs": [],
   "source": [
    "rf_combo2.fit(X_train, y_train)"
   ]
  },
  {
   "cell_type": "code",
   "execution_count": null,
   "metadata": {},
   "outputs": [],
   "source": [
    "rf_combo2.score(X_test, y_test)"
   ]
  },
  {
   "cell_type": "code",
   "execution_count": null,
   "metadata": {},
   "outputs": [],
   "source": [
    "plot_features_importance(rf_combo2, 'yellow')"
   ]
  },
  {
   "cell_type": "code",
   "execution_count": null,
   "metadata": {},
   "outputs": [],
   "source": []
  },
  {
   "cell_type": "markdown",
   "metadata": {},
   "source": [
    "### Train models on standard deviation & variance of the data"
   ]
  },
  {
   "cell_type": "code",
   "execution_count": 32,
   "metadata": {
    "ExecuteTime": {
     "end_time": "2020-05-14T14:16:56.933435Z",
     "start_time": "2020-05-14T14:16:56.926577Z"
    }
   },
   "outputs": [],
   "source": [
    "std = '/Users/Lisa/_Sports_Activity_Capstone/grouped_data/grouped_std_data.csv'\n",
    "var = '/Users/Lisa/_Sports_Activity_Capstone/grouped_data/grouped_variance_data.csv'"
   ]
  },
  {
   "cell_type": "code",
   "execution_count": 33,
   "metadata": {
    "ExecuteTime": {
     "end_time": "2020-05-14T14:16:57.028609Z",
     "start_time": "2020-05-14T14:16:56.954139Z"
    }
   },
   "outputs": [],
   "source": [
    "df_std = pd.read_csv(std)\n",
    "df_var = pd.read_csv(var)"
   ]
  },
  {
   "cell_type": "markdown",
   "metadata": {},
   "source": [
    "## Check feature importance for each dataframe"
   ]
  },
  {
   "cell_type": "markdown",
   "metadata": {},
   "source": [
    "### Checking feature importance for standard deviation data"
   ]
  },
  {
   "cell_type": "code",
   "execution_count": 34,
   "metadata": {
    "ExecuteTime": {
     "end_time": "2020-05-14T14:16:57.054581Z",
     "start_time": "2020-05-14T14:16:57.031251Z"
    }
   },
   "outputs": [],
   "source": [
    "rf_std = RandomForestClassifier()"
   ]
  },
  {
   "cell_type": "code",
   "execution_count": 35,
   "metadata": {
    "ExecuteTime": {
     "end_time": "2020-05-14T14:16:57.085890Z",
     "start_time": "2020-05-14T14:16:57.060312Z"
    }
   },
   "outputs": [],
   "source": [
    "y = df_std['activity_number']\n",
    "X = df_std.drop('activity_number', axis=1)"
   ]
  },
  {
   "cell_type": "code",
   "execution_count": 36,
   "metadata": {
    "ExecuteTime": {
     "end_time": "2020-05-14T14:16:57.126772Z",
     "start_time": "2020-05-14T14:16:57.089000Z"
    }
   },
   "outputs": [],
   "source": [
    "X_train, X_test, y_train, y_test, random_values = my_train_test_split(X, y)"
   ]
  },
  {
   "cell_type": "code",
   "execution_count": 37,
   "metadata": {
    "ExecuteTime": {
     "end_time": "2020-05-14T14:16:57.719344Z",
     "start_time": "2020-05-14T14:16:57.129288Z"
    }
   },
   "outputs": [
    {
     "data": {
      "text/plain": [
       "RandomForestClassifier(bootstrap=True, ccp_alpha=0.0, class_weight=None,\n",
       "                       criterion='gini', max_depth=None, max_features='auto',\n",
       "                       max_leaf_nodes=None, max_samples=None,\n",
       "                       min_impurity_decrease=0.0, min_impurity_split=None,\n",
       "                       min_samples_leaf=1, min_samples_split=2,\n",
       "                       min_weight_fraction_leaf=0.0, n_estimators=100,\n",
       "                       n_jobs=None, oob_score=False, random_state=None,\n",
       "                       verbose=0, warm_start=False)"
      ]
     },
     "execution_count": 37,
     "metadata": {},
     "output_type": "execute_result"
    }
   ],
   "source": [
    "rf_std.fit(X_train, y_train)"
   ]
  },
  {
   "cell_type": "code",
   "execution_count": 38,
   "metadata": {
    "ExecuteTime": {
     "end_time": "2020-05-14T14:16:57.792171Z",
     "start_time": "2020-05-14T14:16:57.723752Z"
    }
   },
   "outputs": [
    {
     "data": {
      "text/plain": [
       "0.8947368421052632"
      ]
     },
     "execution_count": 38,
     "metadata": {},
     "output_type": "execute_result"
    }
   ],
   "source": [
    "rf_std.score(X_test, y_test)"
   ]
  },
  {
   "cell_type": "code",
   "execution_count": 39,
   "metadata": {
    "ExecuteTime": {
     "end_time": "2020-05-14T14:16:58.741130Z",
     "start_time": "2020-05-14T14:16:57.820985Z"
    }
   },
   "outputs": [
    {
     "data": {
      "image/png": "[encoded data removed]",
      "text/plain": [
       "<Figure size 1080x720 with 1 Axes>"
      ]
     },
     "metadata": {
      "needs_background": "light"
     },
     "output_type": "display_data"
    }
   ],
   "source": [
    "plot_features_importance(rf_std, 'orange')"
   ]
  },
  {
   "cell_type": "markdown",
   "metadata": {},
   "source": [
    "### Checking feature importance for variance data"
   ]
  },
  {
   "cell_type": "code",
   "execution_count": 40,
   "metadata": {
    "ExecuteTime": {
     "end_time": "2020-05-14T14:16:58.786145Z",
     "start_time": "2020-05-14T14:16:58.780375Z"
    }
   },
   "outputs": [],
   "source": [
    "rf_var = RandomForestClassifier()"
   ]
  },
  {
   "cell_type": "code",
   "execution_count": 42,
   "metadata": {
    "ExecuteTime": {
     "end_time": "2020-05-14T14:22:25.482527Z",
     "start_time": "2020-05-14T14:22:25.470316Z"
    }
   },
   "outputs": [],
   "source": [
    "y = df_var['activity_number']\n",
    "X = df_var.drop('activity_number', axis=1)"
   ]
  },
  {
   "cell_type": "code",
   "execution_count": 43,
   "metadata": {
    "ExecuteTime": {
     "end_time": "2020-05-14T14:22:26.465522Z",
     "start_time": "2020-05-14T14:22:26.444504Z"
    }
   },
   "outputs": [],
   "source": [
    "X_train, X_test, y_train, y_test, random_values = my_train_test_split(X, y)"
   ]
  },
  {
   "cell_type": "code",
   "execution_count": 44,
   "metadata": {
    "ExecuteTime": {
     "end_time": "2020-05-14T14:22:27.467594Z",
     "start_time": "2020-05-14T14:22:26.919484Z"
    }
   },
   "outputs": [
    {
     "data": {
      "text/plain": [
       "RandomForestClassifier(bootstrap=True, ccp_alpha=0.0, class_weight=None,\n",
       "                       criterion='gini', max_depth=None, max_features='auto',\n",
       "                       max_leaf_nodes=None, max_samples=None,\n",
       "                       min_impurity_decrease=0.0, min_impurity_split=None,\n",
       "                       min_samples_leaf=1, min_samples_split=2,\n",
       "                       min_weight_fraction_leaf=0.0, n_estimators=100,\n",
       "                       n_jobs=None, oob_score=False, random_state=None,\n",
       "                       verbose=0, warm_start=False)"
      ]
     },
     "execution_count": 44,
     "metadata": {},
     "output_type": "execute_result"
    }
   ],
   "source": [
    "rf_var.fit(X_train, y_train)"
   ]
  },
  {
   "cell_type": "code",
   "execution_count": 45,
   "metadata": {
    "ExecuteTime": {
     "end_time": "2020-05-14T14:22:27.551055Z",
     "start_time": "2020-05-14T14:22:27.478236Z"
    }
   },
   "outputs": [
    {
     "data": {
      "text/plain": [
       "0.8578947368421053"
      ]
     },
     "execution_count": 45,
     "metadata": {},
     "output_type": "execute_result"
    }
   ],
   "source": [
    "rf_var.score(X_test, y_test)"
   ]
  },
  {
   "cell_type": "code",
   "execution_count": 46,
   "metadata": {
    "ExecuteTime": {
     "end_time": "2020-05-14T14:22:30.619281Z",
     "start_time": "2020-05-14T14:22:29.397307Z"
    }
   },
   "outputs": [
    {
     "data": {
      "image/png": "[encoded data removed]",
      "text/plain": [
       "<Figure size 1080x720 with 1 Axes>"
      ]
     },
     "metadata": {
      "needs_background": "light"
     },
     "output_type": "display_data"
    }
   ],
   "source": [
    "plot_features_importance(rf_var, 'pink')"
   ]
  },
  {
   "cell_type": "code",
   "execution_count": null,
   "metadata": {},
   "outputs": [],
   "source": []
  }
 ],
 "metadata": {
  "kernelspec": {
   "display_name": "Python 3",
   "language": "python",
   "name": "python3"
  },
  "language_info": {
   "codemirror_mode": {
    "name": "ipython",
    "version": 3
   },
   "file_extension": ".py",
   "mimetype": "text/x-python",
   "name": "python",
   "nbconvert_exporter": "python",
   "pygments_lexer": "ipython3",
   "version": "3.7.7"
  }
 },
 "nbformat": 4,
 "nbformat_minor": 4
}
