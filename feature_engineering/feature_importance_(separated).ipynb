{
 "cells": [
  {
   "cell_type": "code",
   "execution_count": 1,
   "metadata": {
    "ExecuteTime": {
     "end_time": "2020-05-13T22:29:54.161633Z",
     "start_time": "2020-05-13T22:29:52.077869Z"
    }
   },
   "outputs": [],
   "source": [
    "%run my_split_func2.ipynb\n",
    "# Function = my_train_test_split(X, y)\n",
    "%run plot_features_importance.ipynb\n",
    "#Function = plot_features_importance(model)"
   ]
  },
  {
   "cell_type": "code",
   "execution_count": 2,
   "metadata": {
    "ExecuteTime": {
     "end_time": "2020-05-13T22:29:54.182440Z",
     "start_time": "2020-05-13T22:29:54.164049Z"
    }
   },
   "outputs": [],
   "source": [
    "# df will return grouped dataframe to act on"
   ]
  },
  {
   "cell_type": "markdown",
   "metadata": {},
   "source": [
    "### Establish each body part dataframe for modeling"
   ]
  },
  {
   "cell_type": "code",
   "execution_count": 3,
   "metadata": {
    "ExecuteTime": {
     "end_time": "2020-05-13T22:29:54.213751Z",
     "start_time": "2020-05-13T22:29:54.192074Z"
    },
    "code_folding": [
     1
    ]
   },
   "outputs": [],
   "source": [
    "# This will drop Arms & Torso columns\n",
    "legs = df.drop(['LA_xacc', 'LA_yacc', 'LA_zacc', 'LA_xgyro', 'LA_ygyro',\n",
    "                'LA_zgyro', 'LA_xmag', 'LA_ymag', 'LA_zmag', 'RA_xacc', \n",
    "                'RA_yacc', 'RA_zacc', 'RA_xgyro', 'RA_ygyro', 'RA_zgyro', 'RA_xmag', \n",
    "                'RA_ymag', 'RA_zmag', 'T_xacc', 'T_yacc', 'T_zacc', 'T_xgyro', 'T_ygyro',\n",
    "                'T_zgyro', 'T_xmag', 'T_ymag', 'T_zmag'], axis=1)"
   ]
  },
  {
   "cell_type": "code",
   "execution_count": 4,
   "metadata": {
    "ExecuteTime": {
     "end_time": "2020-05-13T22:29:54.233801Z",
     "start_time": "2020-05-13T22:29:54.218871Z"
    },
    "code_folding": [
     1
    ]
   },
   "outputs": [],
   "source": [
    "# This will drop Legs & Torso\n",
    "arms = df.drop(['T_xacc', 'T_yacc', 'T_zacc', 'T_xgyro', 'T_ygyro', 'T_zgyro', \n",
    "                'T_xmag', 'T_ymag', 'T_zmag', 'RL_xacc', 'RL_yacc', 'RL_zacc', \n",
    "                'RL_xgyro', 'RL_ygyro', 'RL_zgyro', 'RL_xmag', 'RL_ymag', 'RL_zmag', \n",
    "                'LL_xacc', 'LL_yacc', 'LL_zacc', 'LL_xgyro', 'LL_ygyro', 'LL_zgyro', \n",
    "                'LL_xmag', 'LL_ymag', 'LL_zmag'], axis=1)"
   ]
  },
  {
   "cell_type": "code",
   "execution_count": 5,
   "metadata": {
    "ExecuteTime": {
     "end_time": "2020-05-13T22:29:54.260270Z",
     "start_time": "2020-05-13T22:29:54.238578Z"
    },
    "code_folding": [
     1
    ]
   },
   "outputs": [],
   "source": [
    "# This will drop arms & Legs\n",
    "torso = df.drop(['RA_xacc', 'RA_yacc', 'RA_zacc', 'RA_xgyro', 'RA_ygyro', 'RA_zgyro', \n",
    "                 'RA_xmag', 'RA_ymag', 'RA_zmag', 'LA_xacc', 'LA_yacc', 'LA_zacc', \n",
    "                 'LA_xgyro', 'LA_ygyro', 'LA_zgyro', 'LA_xmag', 'LA_ymag', 'LA_zmag', \n",
    "                 'RL_xacc', 'RL_yacc', 'RL_zacc', 'RL_xgyro', 'RL_ygyro', 'RL_zgyro', \n",
    "                 'RL_xmag', 'RL_ymag', 'RL_zmag', 'LL_xacc', 'LL_yacc', 'LL_zacc', \n",
    "                 'LL_xgyro', 'LL_ygyro', 'LL_zgyro', 'LL_xmag', 'LL_ymag', 'LL_zmag'], axis=1)"
   ]
  },
  {
   "cell_type": "markdown",
   "metadata": {},
   "source": [
    "# Train Model on Torso"
   ]
  },
  {
   "cell_type": "code",
   "execution_count": 6,
   "metadata": {
    "ExecuteTime": {
     "end_time": "2020-05-13T22:29:54.276313Z",
     "start_time": "2020-05-13T22:29:54.264122Z"
    }
   },
   "outputs": [],
   "source": [
    "rf_torso = RandomForestClassifier()"
   ]
  },
  {
   "cell_type": "code",
   "execution_count": 7,
   "metadata": {
    "ExecuteTime": {
     "end_time": "2020-05-13T22:29:54.286895Z",
     "start_time": "2020-05-13T22:29:54.279573Z"
    }
   },
   "outputs": [],
   "source": [
    "y = torso['activity_number']"
   ]
  },
  {
   "cell_type": "code",
   "execution_count": 8,
   "metadata": {
    "ExecuteTime": {
     "end_time": "2020-05-13T22:29:54.305456Z",
     "start_time": "2020-05-13T22:29:54.297700Z"
    }
   },
   "outputs": [],
   "source": [
    "X = torso.drop('activity_number', axis=1)"
   ]
  },
  {
   "cell_type": "code",
   "execution_count": 9,
   "metadata": {
    "ExecuteTime": {
     "end_time": "2020-05-13T22:29:54.368175Z",
     "start_time": "2020-05-13T22:29:54.333103Z"
    }
   },
   "outputs": [],
   "source": [
    "X_train, X_test, y_train, y_test, random_values = my_train_test_split(X, y)"
   ]
  },
  {
   "cell_type": "code",
   "execution_count": 10,
   "metadata": {
    "ExecuteTime": {
     "end_time": "2020-05-13T22:29:54.816241Z",
     "start_time": "2020-05-13T22:29:54.371915Z"
    }
   },
   "outputs": [
    {
     "data": {
      "text/plain": [
       "RandomForestClassifier(bootstrap=True, ccp_alpha=0.0, class_weight=None,\n",
       "                       criterion='gini', max_depth=None, max_features='auto',\n",
       "                       max_leaf_nodes=None, max_samples=None,\n",
       "                       min_impurity_decrease=0.0, min_impurity_split=None,\n",
       "                       min_samples_leaf=1, min_samples_split=2,\n",
       "                       min_weight_fraction_leaf=0.0, n_estimators=100,\n",
       "                       n_jobs=None, oob_score=False, random_state=None,\n",
       "                       verbose=0, warm_start=False)"
      ]
     },
     "execution_count": 10,
     "metadata": {},
     "output_type": "execute_result"
    }
   ],
   "source": [
    "rf_torso.fit(X_train, y_train)"
   ]
  },
  {
   "cell_type": "code",
   "execution_count": 11,
   "metadata": {
    "ExecuteTime": {
     "end_time": "2020-05-13T22:29:54.882302Z",
     "start_time": "2020-05-13T22:29:54.821781Z"
    }
   },
   "outputs": [
    {
     "data": {
      "text/plain": [
       "0.5947368421052631"
      ]
     },
     "execution_count": 11,
     "metadata": {},
     "output_type": "execute_result"
    }
   ],
   "source": [
    "rf_torso.score(X_test, y_test)"
   ]
  },
  {
   "cell_type": "code",
   "execution_count": 12,
   "metadata": {
    "ExecuteTime": {
     "end_time": "2020-05-13T22:29:55.838492Z",
     "start_time": "2020-05-13T22:29:54.888317Z"
    }
   },
   "outputs": [
    {
     "data": {
      "image/png": "[encoded data removed]",
      "text/plain": [
       "<Figure size 1080x720 with 1 Axes>"
      ]
     },
     "metadata": {
      "needs_background": "light"
     },
     "output_type": "display_data"
    }
   ],
   "source": [
    "plot_features_importance(rf_torso, 'teal')"
   ]
  },
  {
   "cell_type": "markdown",
   "metadata": {},
   "source": [
    "# Train model on Arms"
   ]
  },
  {
   "cell_type": "code",
   "execution_count": 13,
   "metadata": {
    "ExecuteTime": {
     "end_time": "2020-05-13T22:29:55.851150Z",
     "start_time": "2020-05-13T22:29:55.842327Z"
    }
   },
   "outputs": [],
   "source": [
    "rf_arms = RandomForestClassifier()"
   ]
  },
  {
   "cell_type": "code",
   "execution_count": 14,
   "metadata": {
    "ExecuteTime": {
     "end_time": "2020-05-13T22:29:55.880376Z",
     "start_time": "2020-05-13T22:29:55.862131Z"
    }
   },
   "outputs": [],
   "source": [
    "y = arms['activity_number']"
   ]
  },
  {
   "cell_type": "code",
   "execution_count": 15,
   "metadata": {
    "ExecuteTime": {
     "end_time": "2020-05-13T22:29:55.913103Z",
     "start_time": "2020-05-13T22:29:55.883976Z"
    }
   },
   "outputs": [],
   "source": [
    "X = arms.drop('activity_number', axis=1)"
   ]
  },
  {
   "cell_type": "code",
   "execution_count": 16,
   "metadata": {
    "ExecuteTime": {
     "end_time": "2020-05-13T22:29:55.948462Z",
     "start_time": "2020-05-13T22:29:55.916781Z"
    }
   },
   "outputs": [],
   "source": [
    "X_train, X_test, y_train, y_test, random_values = my_train_test_split(X, y)"
   ]
  },
  {
   "cell_type": "code",
   "execution_count": 17,
   "metadata": {
    "ExecuteTime": {
     "end_time": "2020-05-13T22:29:56.418767Z",
     "start_time": "2020-05-13T22:29:55.954241Z"
    }
   },
   "outputs": [
    {
     "data": {
      "text/plain": [
       "RandomForestClassifier(bootstrap=True, ccp_alpha=0.0, class_weight=None,\n",
       "                       criterion='gini', max_depth=None, max_features='auto',\n",
       "                       max_leaf_nodes=None, max_samples=None,\n",
       "                       min_impurity_decrease=0.0, min_impurity_split=None,\n",
       "                       min_samples_leaf=1, min_samples_split=2,\n",
       "                       min_weight_fraction_leaf=0.0, n_estimators=100,\n",
       "                       n_jobs=None, oob_score=False, random_state=None,\n",
       "                       verbose=0, warm_start=False)"
      ]
     },
     "execution_count": 17,
     "metadata": {},
     "output_type": "execute_result"
    }
   ],
   "source": [
    "rf_arms.fit(X_train, y_train)"
   ]
  },
  {
   "cell_type": "code",
   "execution_count": 18,
   "metadata": {
    "ExecuteTime": {
     "end_time": "2020-05-13T22:29:56.486692Z",
     "start_time": "2020-05-13T22:29:56.424141Z"
    }
   },
   "outputs": [
    {
     "data": {
      "text/plain": [
       "0.7105263157894737"
      ]
     },
     "execution_count": 18,
     "metadata": {},
     "output_type": "execute_result"
    }
   ],
   "source": [
    "rf_arms.score(X_test, y_test)"
   ]
  },
  {
   "cell_type": "code",
   "execution_count": 19,
   "metadata": {
    "ExecuteTime": {
     "end_time": "2020-05-13T22:29:56.987208Z",
     "start_time": "2020-05-13T22:29:56.503952Z"
    }
   },
   "outputs": [
    {
     "data": {
      "image/png": "[encoded data removed]",
      "text/plain": [
       "<Figure size 1080x720 with 1 Axes>"
      ]
     },
     "metadata": {
      "needs_background": "light"
     },
     "output_type": "display_data"
    }
   ],
   "source": [
    "plot_features_importance(rf_arms, 'red')"
   ]
  },
  {
   "cell_type": "markdown",
   "metadata": {},
   "source": [
    "# Train model on Legs"
   ]
  },
  {
   "cell_type": "code",
   "execution_count": 20,
   "metadata": {
    "ExecuteTime": {
     "end_time": "2020-05-13T22:29:57.017064Z",
     "start_time": "2020-05-13T22:29:57.008605Z"
    }
   },
   "outputs": [],
   "source": [
    "rf_legs = RandomForestClassifier()"
   ]
  },
  {
   "cell_type": "code",
   "execution_count": 21,
   "metadata": {
    "ExecuteTime": {
     "end_time": "2020-05-13T22:29:57.052934Z",
     "start_time": "2020-05-13T22:29:57.021541Z"
    }
   },
   "outputs": [],
   "source": [
    "y = legs['activity_number']"
   ]
  },
  {
   "cell_type": "code",
   "execution_count": 22,
   "metadata": {
    "ExecuteTime": {
     "end_time": "2020-05-13T22:29:57.081272Z",
     "start_time": "2020-05-13T22:29:57.061736Z"
    }
   },
   "outputs": [],
   "source": [
    "X = legs.drop('activity_number', axis=1)"
   ]
  },
  {
   "cell_type": "code",
   "execution_count": 23,
   "metadata": {
    "ExecuteTime": {
     "end_time": "2020-05-13T22:29:57.115593Z",
     "start_time": "2020-05-13T22:29:57.097133Z"
    }
   },
   "outputs": [],
   "source": [
    "X_train, X_test, y_train, y_test, random_values = my_train_test_split(X, y)"
   ]
  },
  {
   "cell_type": "code",
   "execution_count": 24,
   "metadata": {
    "ExecuteTime": {
     "end_time": "2020-05-13T22:29:57.631058Z",
     "start_time": "2020-05-13T22:29:57.119571Z"
    }
   },
   "outputs": [
    {
     "data": {
      "text/plain": [
       "RandomForestClassifier(bootstrap=True, ccp_alpha=0.0, class_weight=None,\n",
       "                       criterion='gini', max_depth=None, max_features='auto',\n",
       "                       max_leaf_nodes=None, max_samples=None,\n",
       "                       min_impurity_decrease=0.0, min_impurity_split=None,\n",
       "                       min_samples_leaf=1, min_samples_split=2,\n",
       "                       min_weight_fraction_leaf=0.0, n_estimators=100,\n",
       "                       n_jobs=None, oob_score=False, random_state=None,\n",
       "                       verbose=0, warm_start=False)"
      ]
     },
     "execution_count": 24,
     "metadata": {},
     "output_type": "execute_result"
    }
   ],
   "source": [
    "rf_legs.fit(X_train, y_train)"
   ]
  },
  {
   "cell_type": "code",
   "execution_count": 25,
   "metadata": {
    "ExecuteTime": {
     "end_time": "2020-05-13T22:29:57.699223Z",
     "start_time": "2020-05-13T22:29:57.639813Z"
    }
   },
   "outputs": [
    {
     "data": {
      "text/plain": [
       "0.7052631578947368"
      ]
     },
     "execution_count": 25,
     "metadata": {},
     "output_type": "execute_result"
    }
   ],
   "source": [
    "rf_legs.score(X_test, y_test)"
   ]
  },
  {
   "cell_type": "code",
   "execution_count": 26,
   "metadata": {
    "ExecuteTime": {
     "end_time": "2020-05-13T22:29:58.225282Z",
     "start_time": "2020-05-13T22:29:57.709836Z"
    }
   },
   "outputs": [
    {
     "data": {
      "image/png": "[encoded data removed]",
      "text/plain": [
       "<Figure size 1080x720 with 1 Axes>"
      ]
     },
     "metadata": {
      "needs_background": "light"
     },
     "output_type": "display_data"
    }
   ],
   "source": [
    "plot_features_importance(rf_legs, 'blue')"
   ]
  },
  {
   "cell_type": "markdown",
   "metadata": {},
   "source": [
    "# Torso conclusion:\n",
    "- Ranking of sensor importance for Torso:\n",
    "    - 1st mag(netometers)\n",
    "    - 2nd acc(elerometers)\n",
    "    - 3rd gyro(scopes)\n",
    "    \n",
    "### Leverage the Torso's x,y,z mag(netometers)"
   ]
  },
  {
   "cell_type": "markdown",
   "metadata": {},
   "source": [
    "# Arms conclusion:\n",
    "- Ranking of sensor importance for Arms:\n",
    "    - 1st mag(netometers)\n",
    "    - 2nd acc(elerometers)\n",
    "    - 3rd gyro(scopes)\n",
    "    \n",
    "### Leverage the Arms's x,y,z mag(netometers), mabe acc(elerometers) as a close 2nd..."
   ]
  },
  {
   "cell_type": "markdown",
   "metadata": {},
   "source": [
    "# Legs conclusion:\n",
    "- Ranking of sensor importance for Legs:\n",
    "    - 1st - TIE - mag(netometers) & acc(elerometers)\n",
    "    - 2nd - gyro(scopes)"
   ]
  },
  {
   "cell_type": "markdown",
   "metadata": {},
   "source": [
    "# Train model on limited combination\n",
    "Going to pull the following features from the dataframe:\n",
    "- Torso mag features (x,y,z)\n",
    "- Arms mag features (x,y,z)\n",
    "- Legs mag & acc (x,y,z)"
   ]
  },
  {
   "cell_type": "code",
   "execution_count": 27,
   "metadata": {
    "ExecuteTime": {
     "end_time": "2020-05-13T22:29:58.240767Z",
     "start_time": "2020-05-13T22:29:58.236461Z"
    }
   },
   "outputs": [],
   "source": [
    "rf_combo = RandomForestClassifier()"
   ]
  },
  {
   "cell_type": "code",
   "execution_count": 28,
   "metadata": {
    "ExecuteTime": {
     "end_time": "2020-05-13T22:29:58.273842Z",
     "start_time": "2020-05-13T22:29:58.252825Z"
    },
    "code_folding": []
   },
   "outputs": [],
   "source": [
    "drop_these = [\n",
    "    # Torso features to drop\n",
    "    'T_xacc', 'T_yacc', 'T_zacc', 'T_xgyro', 'T_ygyro', 'T_zgyro',\n",
    "    # Arm features to drop\n",
    "    'RA_xacc', 'RA_yacc', 'RA_zacc', 'RA_xgyro', 'RA_ygyro', 'RA_zgyro',\n",
    "    'LA_xacc', 'LA_yacc', 'LA_zacc', 'LA_xgyro', 'LA_ygyro', 'LA_zgyro',\n",
    "    #Leg features to drop\n",
    "    'RL_xacc', 'RL_yacc', 'RL_zacc', 'RL_xmag', 'RL_ymag', 'RL_zmag',\n",
    "    'LL_xacc', 'LL_yacc', 'LL_zacc', 'LL_xmag', 'LL_ymag', 'LL_zmag',\n",
    "    # Dropping person & time since it almost has 0 feature importance\n",
    "    'time', 'person'\n",
    "]"
   ]
  },
  {
   "cell_type": "code",
   "execution_count": 29,
   "metadata": {
    "ExecuteTime": {
     "end_time": "2020-05-13T22:29:58.304068Z",
     "start_time": "2020-05-13T22:29:58.283631Z"
    }
   },
   "outputs": [],
   "source": [
    "combo_df = df.drop(drop_these, axis=1)"
   ]
  },
  {
   "cell_type": "code",
   "execution_count": 30,
   "metadata": {
    "ExecuteTime": {
     "end_time": "2020-05-13T22:29:58.319868Z",
     "start_time": "2020-05-13T22:29:58.310961Z"
    }
   },
   "outputs": [],
   "source": [
    "y = combo_df['activity_number']"
   ]
  },
  {
   "cell_type": "code",
   "execution_count": 31,
   "metadata": {
    "ExecuteTime": {
     "end_time": "2020-05-13T22:29:58.341674Z",
     "start_time": "2020-05-13T22:29:58.323054Z"
    }
   },
   "outputs": [],
   "source": [
    "X = combo_df.drop('activity_number', axis=1)"
   ]
  },
  {
   "cell_type": "code",
   "execution_count": 32,
   "metadata": {
    "ExecuteTime": {
     "end_time": "2020-05-13T22:29:58.375664Z",
     "start_time": "2020-05-13T22:29:58.351378Z"
    }
   },
   "outputs": [],
   "source": [
    "X_train, X_test, y_train, y_test, random_values = my_train_test_split(X, y)"
   ]
  },
  {
   "cell_type": "code",
   "execution_count": 33,
   "metadata": {
    "ExecuteTime": {
     "end_time": "2020-05-13T22:29:58.835930Z",
     "start_time": "2020-05-13T22:29:58.378934Z"
    }
   },
   "outputs": [
    {
     "data": {
      "text/plain": [
       "RandomForestClassifier(bootstrap=True, ccp_alpha=0.0, class_weight=None,\n",
       "                       criterion='gini', max_depth=None, max_features='auto',\n",
       "                       max_leaf_nodes=None, max_samples=None,\n",
       "                       min_impurity_decrease=0.0, min_impurity_split=None,\n",
       "                       min_samples_leaf=1, min_samples_split=2,\n",
       "                       min_weight_fraction_leaf=0.0, n_estimators=100,\n",
       "                       n_jobs=None, oob_score=False, random_state=None,\n",
       "                       verbose=0, warm_start=False)"
      ]
     },
     "execution_count": 33,
     "metadata": {},
     "output_type": "execute_result"
    }
   ],
   "source": [
    "rf_combo.fit(X_train, y_train)"
   ]
  },
  {
   "cell_type": "code",
   "execution_count": 34,
   "metadata": {
    "ExecuteTime": {
     "end_time": "2020-05-13T22:29:58.892671Z",
     "start_time": "2020-05-13T22:29:58.849021Z"
    }
   },
   "outputs": [
    {
     "data": {
      "text/plain": [
       "0.7736842105263158"
      ]
     },
     "execution_count": 34,
     "metadata": {},
     "output_type": "execute_result"
    }
   ],
   "source": [
    "rf_combo.score(X_test, y_test)"
   ]
  },
  {
   "cell_type": "code",
   "execution_count": 35,
   "metadata": {
    "ExecuteTime": {
     "end_time": "2020-05-13T22:29:59.326583Z",
     "start_time": "2020-05-13T22:29:58.900650Z"
    }
   },
   "outputs": [
    {
     "data": {
      "image/png": "[encoded data removed]",
      "text/plain": [
       "<Figure size 1080x720 with 1 Axes>"
      ]
     },
     "metadata": {
      "needs_background": "light"
     },
     "output_type": "display_data"
    }
   ],
   "source": [
    "plot_features_importance(rf_combo, 'purple')"
   ]
  },
  {
   "cell_type": "code",
   "execution_count": null,
   "metadata": {},
   "outputs": [],
   "source": []
  }
 ],
 "metadata": {
  "kernelspec": {
   "display_name": "Python 3",
   "language": "python",
   "name": "python3"
  },
  "language_info": {
   "codemirror_mode": {
    "name": "ipython",
    "version": 3
   },
   "file_extension": ".py",
   "mimetype": "text/x-python",
   "name": "python",
   "nbconvert_exporter": "python",
   "pygments_lexer": "ipython3",
   "version": "3.7.7"
  }
 },
 "nbformat": 4,
 "nbformat_minor": 4
}
