{
 "cells": [
  {
   "cell_type": "code",
   "execution_count": 1,
   "metadata": {
    "ExecuteTime": {
     "end_time": "2020-05-14T15:59:45.496935Z",
     "start_time": "2020-05-14T15:59:41.554988Z"
    }
   },
   "outputs": [],
   "source": [
    "%run my_split_func2.ipynb\n",
    "# Function = my_train_test_split(X, y)\n",
    "%run plot_features_importance.ipynb\n",
    "#Function = plot_features_importance(model)"
   ]
  },
  {
   "cell_type": "code",
   "execution_count": 2,
   "metadata": {
    "ExecuteTime": {
     "end_time": "2020-05-14T15:59:45.535616Z",
     "start_time": "2020-05-14T15:59:45.499531Z"
    }
   },
   "outputs": [],
   "source": [
    "# df will return grouped dataframe to act on"
   ]
  },
  {
   "cell_type": "markdown",
   "metadata": {},
   "source": [
    "### Establish each body part dataframe for modeling"
   ]
  },
  {
   "cell_type": "code",
   "execution_count": 3,
   "metadata": {
    "ExecuteTime": {
     "end_time": "2020-05-14T15:59:45.573386Z",
     "start_time": "2020-05-14T15:59:45.549624Z"
    },
    "code_folding": []
   },
   "outputs": [],
   "source": [
    "# This will drop Arms & Torso columns\n",
    "legs = df.drop(['LA_xacc', 'LA_yacc', 'LA_zacc', 'LA_xgyro', 'LA_ygyro',\n",
    "                'LA_zgyro', 'LA_xmag', 'LA_ymag', 'LA_zmag', 'RA_xacc', \n",
    "                'RA_yacc', 'RA_zacc', 'RA_xgyro', 'RA_ygyro', 'RA_zgyro', 'RA_xmag', \n",
    "                'RA_ymag', 'RA_zmag', 'T_xacc', 'T_yacc', 'T_zacc', 'T_xgyro', 'T_ygyro',\n",
    "                'T_zgyro', 'T_xmag', 'T_ymag', 'T_zmag'], axis=1)"
   ]
  },
  {
   "cell_type": "code",
   "execution_count": 4,
   "metadata": {
    "ExecuteTime": {
     "end_time": "2020-05-14T15:59:45.609803Z",
     "start_time": "2020-05-14T15:59:45.584199Z"
    },
    "code_folding": [
     1
    ]
   },
   "outputs": [],
   "source": [
    "# This will drop Legs & Torso\n",
    "arms = df.drop(['T_xacc', 'T_yacc', 'T_zacc', 'T_xgyro', 'T_ygyro', 'T_zgyro', \n",
    "                'T_xmag', 'T_ymag', 'T_zmag', 'RL_xacc', 'RL_yacc', 'RL_zacc', \n",
    "                'RL_xgyro', 'RL_ygyro', 'RL_zgyro', 'RL_xmag', 'RL_ymag', 'RL_zmag', \n",
    "                'LL_xacc', 'LL_yacc', 'LL_zacc', 'LL_xgyro', 'LL_ygyro', 'LL_zgyro', \n",
    "                'LL_xmag', 'LL_ymag', 'LL_zmag'], axis=1)"
   ]
  },
  {
   "cell_type": "code",
   "execution_count": 5,
   "metadata": {
    "ExecuteTime": {
     "end_time": "2020-05-14T15:59:45.643200Z",
     "start_time": "2020-05-14T15:59:45.615630Z"
    },
    "code_folding": [
     1
    ]
   },
   "outputs": [],
   "source": [
    "# This will drop arms & Legs\n",
    "torso = df.drop(['RA_xacc', 'RA_yacc', 'RA_zacc', 'RA_xgyro', 'RA_ygyro', 'RA_zgyro', \n",
    "                 'RA_xmag', 'RA_ymag', 'RA_zmag', 'LA_xacc', 'LA_yacc', 'LA_zacc', \n",
    "                 'LA_xgyro', 'LA_ygyro', 'LA_zgyro', 'LA_xmag', 'LA_ymag', 'LA_zmag', \n",
    "                 'RL_xacc', 'RL_yacc', 'RL_zacc', 'RL_xgyro', 'RL_ygyro', 'RL_zgyro', \n",
    "                 'RL_xmag', 'RL_ymag', 'RL_zmag', 'LL_xacc', 'LL_yacc', 'LL_zacc', \n",
    "                 'LL_xgyro', 'LL_ygyro', 'LL_zgyro', 'LL_xmag', 'LL_ymag', 'LL_zmag'], axis=1)"
   ]
  },
  {
   "cell_type": "markdown",
   "metadata": {},
   "source": [
    "# Train Model on Torso"
   ]
  },
  {
   "cell_type": "code",
   "execution_count": 6,
   "metadata": {
    "ExecuteTime": {
     "end_time": "2020-05-14T15:59:45.671586Z",
     "start_time": "2020-05-14T15:59:45.651163Z"
    }
   },
   "outputs": [],
   "source": [
    "rf_torso = RandomForestClassifier()"
   ]
  },
  {
   "cell_type": "code",
   "execution_count": 7,
   "metadata": {
    "ExecuteTime": {
     "end_time": "2020-05-14T15:59:45.699051Z",
     "start_time": "2020-05-14T15:59:45.674526Z"
    }
   },
   "outputs": [],
   "source": [
    "y = torso['activity_number']\n",
    "X = torso.drop('activity_number', axis=1)"
   ]
  },
  {
   "cell_type": "code",
   "execution_count": 8,
   "metadata": {
    "ExecuteTime": {
     "end_time": "2020-05-14T15:59:45.736422Z",
     "start_time": "2020-05-14T15:59:45.701251Z"
    }
   },
   "outputs": [],
   "source": [
    "X_train, X_test, y_train, y_test, random_values = my_train_test_split(X, y)"
   ]
  },
  {
   "cell_type": "code",
   "execution_count": 9,
   "metadata": {
    "ExecuteTime": {
     "end_time": "2020-05-14T15:59:46.241222Z",
     "start_time": "2020-05-14T15:59:45.759141Z"
    },
    "collapsed": true
   },
   "outputs": [
    {
     "data": {
      "text/plain": [
       "RandomForestClassifier(bootstrap=True, ccp_alpha=0.0, class_weight=None,\n",
       "                       criterion='gini', max_depth=None, max_features='auto',\n",
       "                       max_leaf_nodes=None, max_samples=None,\n",
       "                       min_impurity_decrease=0.0, min_impurity_split=None,\n",
       "                       min_samples_leaf=1, min_samples_split=2,\n",
       "                       min_weight_fraction_leaf=0.0, n_estimators=100,\n",
       "                       n_jobs=None, oob_score=False, random_state=None,\n",
       "                       verbose=0, warm_start=False)"
      ]
     },
     "execution_count": 9,
     "metadata": {},
     "output_type": "execute_result"
    }
   ],
   "source": [
    "rf_torso.fit(X_train, y_train)"
   ]
  },
  {
   "cell_type": "code",
   "execution_count": 10,
   "metadata": {
    "ExecuteTime": {
     "end_time": "2020-05-14T15:59:46.331274Z",
     "start_time": "2020-05-14T15:59:46.261315Z"
    }
   },
   "outputs": [
    {
     "data": {
      "text/plain": [
       "0.4789473684210526"
      ]
     },
     "execution_count": 10,
     "metadata": {},
     "output_type": "execute_result"
    }
   ],
   "source": [
    "rf_torso.score(X_test, y_test)"
   ]
  },
  {
   "cell_type": "code",
   "execution_count": 11,
   "metadata": {
    "ExecuteTime": {
     "end_time": "2020-05-14T15:59:47.359719Z",
     "start_time": "2020-05-14T15:59:46.335146Z"
    }
   },
   "outputs": [
    {
     "data": {
      "image/png": "[encoded data removed]",
      "text/plain": [
       "<Figure size 1080x720 with 1 Axes>"
      ]
     },
     "metadata": {
      "needs_background": "light"
     },
     "output_type": "display_data"
    }
   ],
   "source": [
    "plot_features_importance(rf_torso, 'teal')"
   ]
  },
  {
   "cell_type": "markdown",
   "metadata": {},
   "source": [
    "# Train model on Arms"
   ]
  },
  {
   "cell_type": "code",
   "execution_count": 12,
   "metadata": {
    "ExecuteTime": {
     "end_time": "2020-05-14T15:59:47.380802Z",
     "start_time": "2020-05-14T15:59:47.363792Z"
    }
   },
   "outputs": [],
   "source": [
    "rf_arms = RandomForestClassifier()"
   ]
  },
  {
   "cell_type": "code",
   "execution_count": 13,
   "metadata": {
    "ExecuteTime": {
     "end_time": "2020-05-14T15:59:47.399286Z",
     "start_time": "2020-05-14T15:59:47.387469Z"
    }
   },
   "outputs": [],
   "source": [
    "y = arms['activity_number']\n",
    "X = arms.drop('activity_number', axis=1)"
   ]
  },
  {
   "cell_type": "code",
   "execution_count": 14,
   "metadata": {
    "ExecuteTime": {
     "end_time": "2020-05-14T15:59:47.449473Z",
     "start_time": "2020-05-14T15:59:47.403711Z"
    }
   },
   "outputs": [],
   "source": [
    "X_train, X_test, y_train, y_test, random_values = my_train_test_split(X, y)"
   ]
  },
  {
   "cell_type": "code",
   "execution_count": 15,
   "metadata": {
    "ExecuteTime": {
     "end_time": "2020-05-14T15:59:47.989007Z",
     "start_time": "2020-05-14T15:59:47.456818Z"
    }
   },
   "outputs": [
    {
     "data": {
      "text/plain": [
       "RandomForestClassifier(bootstrap=True, ccp_alpha=0.0, class_weight=None,\n",
       "                       criterion='gini', max_depth=None, max_features='auto',\n",
       "                       max_leaf_nodes=None, max_samples=None,\n",
       "                       min_impurity_decrease=0.0, min_impurity_split=None,\n",
       "                       min_samples_leaf=1, min_samples_split=2,\n",
       "                       min_weight_fraction_leaf=0.0, n_estimators=100,\n",
       "                       n_jobs=None, oob_score=False, random_state=None,\n",
       "                       verbose=0, warm_start=False)"
      ]
     },
     "execution_count": 15,
     "metadata": {},
     "output_type": "execute_result"
    }
   ],
   "source": [
    "rf_arms.fit(X_train, y_train)"
   ]
  },
  {
   "cell_type": "code",
   "execution_count": 16,
   "metadata": {
    "ExecuteTime": {
     "end_time": "2020-05-14T15:59:48.068218Z",
     "start_time": "2020-05-14T15:59:47.995930Z"
    }
   },
   "outputs": [
    {
     "data": {
      "text/plain": [
       "0.7157894736842105"
      ]
     },
     "execution_count": 16,
     "metadata": {},
     "output_type": "execute_result"
    }
   ],
   "source": [
    "rf_arms.score(X_test, y_test)"
   ]
  },
  {
   "cell_type": "code",
   "execution_count": 17,
   "metadata": {
    "ExecuteTime": {
     "end_time": "2020-05-14T15:59:48.612273Z",
     "start_time": "2020-05-14T15:59:48.073386Z"
    }
   },
   "outputs": [
    {
     "data": {
      "image/png": "[encoded data removed]",
      "text/plain": [
       "<Figure size 1080x720 with 1 Axes>"
      ]
     },
     "metadata": {
      "needs_background": "light"
     },
     "output_type": "display_data"
    }
   ],
   "source": [
    "plot_features_importance(rf_arms, 'red')"
   ]
  },
  {
   "cell_type": "markdown",
   "metadata": {},
   "source": [
    "# Train model on Legs"
   ]
  },
  {
   "cell_type": "code",
   "execution_count": 18,
   "metadata": {
    "ExecuteTime": {
     "end_time": "2020-05-14T15:59:48.675806Z",
     "start_time": "2020-05-14T15:59:48.643568Z"
    }
   },
   "outputs": [],
   "source": [
    "rf_legs = RandomForestClassifier()"
   ]
  },
  {
   "cell_type": "code",
   "execution_count": 19,
   "metadata": {
    "ExecuteTime": {
     "end_time": "2020-05-14T15:59:48.707940Z",
     "start_time": "2020-05-14T15:59:48.678327Z"
    }
   },
   "outputs": [],
   "source": [
    "y = legs['activity_number']\n",
    "X = legs.drop('activity_number', axis=1)"
   ]
  },
  {
   "cell_type": "code",
   "execution_count": 20,
   "metadata": {
    "ExecuteTime": {
     "end_time": "2020-05-14T15:59:48.747441Z",
     "start_time": "2020-05-14T15:59:48.710760Z"
    }
   },
   "outputs": [],
   "source": [
    "X_train, X_test, y_train, y_test, random_values = my_train_test_split(X, y)"
   ]
  },
  {
   "cell_type": "code",
   "execution_count": 21,
   "metadata": {
    "ExecuteTime": {
     "end_time": "2020-05-14T15:59:49.214223Z",
     "start_time": "2020-05-14T15:59:48.753214Z"
    }
   },
   "outputs": [
    {
     "data": {
      "text/plain": [
       "RandomForestClassifier(bootstrap=True, ccp_alpha=0.0, class_weight=None,\n",
       "                       criterion='gini', max_depth=None, max_features='auto',\n",
       "                       max_leaf_nodes=None, max_samples=None,\n",
       "                       min_impurity_decrease=0.0, min_impurity_split=None,\n",
       "                       min_samples_leaf=1, min_samples_split=2,\n",
       "                       min_weight_fraction_leaf=0.0, n_estimators=100,\n",
       "                       n_jobs=None, oob_score=False, random_state=None,\n",
       "                       verbose=0, warm_start=False)"
      ]
     },
     "execution_count": 21,
     "metadata": {},
     "output_type": "execute_result"
    }
   ],
   "source": [
    "rf_legs.fit(X_train, y_train)"
   ]
  },
  {
   "cell_type": "code",
   "execution_count": 22,
   "metadata": {
    "ExecuteTime": {
     "end_time": "2020-05-14T15:59:49.305222Z",
     "start_time": "2020-05-14T15:59:49.235819Z"
    },
    "scrolled": true
   },
   "outputs": [
    {
     "data": {
      "text/plain": [
       "0.7684210526315789"
      ]
     },
     "execution_count": 22,
     "metadata": {},
     "output_type": "execute_result"
    }
   ],
   "source": [
    "rf_legs.score(X_test, y_test)"
   ]
  },
  {
   "cell_type": "code",
   "execution_count": 23,
   "metadata": {
    "ExecuteTime": {
     "end_time": "2020-05-14T15:59:49.904099Z",
     "start_time": "2020-05-14T15:59:49.311650Z"
    }
   },
   "outputs": [
    {
     "data": {
      "image/png": "[encoded data removed]",
      "text/plain": [
       "<Figure size 1080x720 with 1 Axes>"
      ]
     },
     "metadata": {
      "needs_background": "light"
     },
     "output_type": "display_data"
    }
   ],
   "source": [
    "plot_features_importance(rf_legs, 'blue')"
   ]
  },
  {
   "cell_type": "markdown",
   "metadata": {},
   "source": [
    "## Torso conclusion:\n",
    "- Ranking of sensor importance for Torso:\n",
    "    - 1st mag(netometers)\n",
    "    - 2nd acc(elerometers)\n",
    "    - 3rd gyro(scopes)\n",
    "    \n",
    "### Leverage the Torso's x,y,z mag(netometers)"
   ]
  },
  {
   "cell_type": "markdown",
   "metadata": {},
   "source": [
    "## Arms conclusion:\n",
    "- Ranking of sensor importance for Arms:\n",
    "    - 1st mag(netometers)\n",
    "    - 2nd acc(elerometers)\n",
    "    - 3rd gyro(scopes)\n",
    "    \n",
    "### Leverage the Arms's x,y,z mag(netometers), mabe acc(elerometers) as a close 2nd..."
   ]
  },
  {
   "cell_type": "markdown",
   "metadata": {},
   "source": [
    "## Legs conclusion:\n",
    "- Ranking of sensor importance for Legs:\n",
    "    - 1st - TIE - mag(netometers) & acc(elerometers)\n",
    "    - 2nd - gyro(scopes)"
   ]
  },
  {
   "cell_type": "markdown",
   "metadata": {},
   "source": [
    "## Train model on limited combination\n",
    "Going to pull the following features from the dataframe:\n",
    "- Torso mag features (x,y,z)\n",
    "- Arms mag features (x,y,z)\n",
    "- Legs mag & acc (x,y,z)"
   ]
  },
  {
   "cell_type": "code",
   "execution_count": 24,
   "metadata": {
    "ExecuteTime": {
     "end_time": "2020-05-14T15:59:49.934280Z",
     "start_time": "2020-05-14T15:59:49.924976Z"
    }
   },
   "outputs": [],
   "source": [
    "rf_combo = RandomForestClassifier()"
   ]
  },
  {
   "cell_type": "code",
   "execution_count": 25,
   "metadata": {
    "ExecuteTime": {
     "end_time": "2020-05-14T15:59:49.973136Z",
     "start_time": "2020-05-14T15:59:49.955700Z"
    },
    "code_folding": [
     0
    ]
   },
   "outputs": [],
   "source": [
    "drop_these = [\n",
    "    # Torso features to drop\n",
    "    'T_xacc', 'T_yacc', 'T_zacc', 'T_xgyro', 'T_ygyro', 'T_zgyro',\n",
    "    # Arm features to drop\n",
    "    'RA_xacc', 'RA_yacc', 'RA_zacc', 'RA_xgyro', 'RA_ygyro', 'RA_zgyro',\n",
    "    'LA_xacc', 'LA_yacc', 'LA_zacc', 'LA_xgyro', 'LA_ygyro', 'LA_zgyro',\n",
    "    #Leg features to drop\n",
    "    'RL_xacc', 'RL_yacc', 'RL_zacc', 'RL_xmag', 'RL_ymag', 'RL_zmag',\n",
    "    'LL_xacc', 'LL_yacc', 'LL_zacc', 'LL_xmag', 'LL_ymag', 'LL_zmag',\n",
    "    # Dropping person & time since it almost has 0 feature importance\n",
    "    'time', 'person'\n",
    "]"
   ]
  },
  {
   "cell_type": "code",
   "execution_count": 26,
   "metadata": {
    "ExecuteTime": {
     "end_time": "2020-05-14T15:59:50.005406Z",
     "start_time": "2020-05-14T15:59:49.985974Z"
    }
   },
   "outputs": [],
   "source": [
    "combo_df = df.drop(drop_these, axis=1)"
   ]
  },
  {
   "cell_type": "code",
   "execution_count": 27,
   "metadata": {
    "ExecuteTime": {
     "end_time": "2020-05-14T15:59:50.061571Z",
     "start_time": "2020-05-14T15:59:50.030850Z"
    }
   },
   "outputs": [],
   "source": [
    "y = combo_df['activity_number']\n",
    "X = combo_df.drop('activity_number', axis=1)"
   ]
  },
  {
   "cell_type": "code",
   "execution_count": 28,
   "metadata": {
    "ExecuteTime": {
     "end_time": "2020-05-14T15:59:50.113532Z",
     "start_time": "2020-05-14T15:59:50.073551Z"
    }
   },
   "outputs": [],
   "source": [
    "X_train, X_test, y_train, y_test, random_values = my_train_test_split(X, y)"
   ]
  },
  {
   "cell_type": "code",
   "execution_count": 29,
   "metadata": {
    "ExecuteTime": {
     "end_time": "2020-05-14T15:59:50.610148Z",
     "start_time": "2020-05-14T15:59:50.116079Z"
    }
   },
   "outputs": [
    {
     "data": {
      "text/plain": [
       "RandomForestClassifier(bootstrap=True, ccp_alpha=0.0, class_weight=None,\n",
       "                       criterion='gini', max_depth=None, max_features='auto',\n",
       "                       max_leaf_nodes=None, max_samples=None,\n",
       "                       min_impurity_decrease=0.0, min_impurity_split=None,\n",
       "                       min_samples_leaf=1, min_samples_split=2,\n",
       "                       min_weight_fraction_leaf=0.0, n_estimators=100,\n",
       "                       n_jobs=None, oob_score=False, random_state=None,\n",
       "                       verbose=0, warm_start=False)"
      ]
     },
     "execution_count": 29,
     "metadata": {},
     "output_type": "execute_result"
    }
   ],
   "source": [
    "rf_combo.fit(X_train, y_train)"
   ]
  },
  {
   "cell_type": "code",
   "execution_count": 30,
   "metadata": {
    "ExecuteTime": {
     "end_time": "2020-05-14T15:59:50.679464Z",
     "start_time": "2020-05-14T15:59:50.614526Z"
    }
   },
   "outputs": [
    {
     "data": {
      "text/plain": [
       "0.7526315789473684"
      ]
     },
     "execution_count": 30,
     "metadata": {},
     "output_type": "execute_result"
    }
   ],
   "source": [
    "rf_combo.score(X_test, y_test)"
   ]
  },
  {
   "cell_type": "code",
   "execution_count": 31,
   "metadata": {
    "ExecuteTime": {
     "end_time": "2020-05-14T15:59:51.149392Z",
     "start_time": "2020-05-14T15:59:50.695092Z"
    }
   },
   "outputs": [
    {
     "data": {
      "image/png": "[encoded data removed]",
      "text/plain": [
       "<Figure size 1080x720 with 1 Axes>"
      ]
     },
     "metadata": {
      "needs_background": "light"
     },
     "output_type": "display_data"
    }
   ],
   "source": [
    "plot_features_importance(rf_combo, 'purple')"
   ]
  },
  {
   "cell_type": "markdown",
   "metadata": {},
   "source": [
    "# Seems like the Torso sensors may have brought down the score... <br/> Will try combo with Arms & Legs"
   ]
  },
  {
   "cell_type": "code",
   "execution_count": 32,
   "metadata": {
    "ExecuteTime": {
     "end_time": "2020-05-14T15:59:51.181922Z",
     "start_time": "2020-05-14T15:59:51.158196Z"
    }
   },
   "outputs": [],
   "source": [
    "rf_combo2 = RandomForestClassifier()"
   ]
  },
  {
   "cell_type": "code",
   "execution_count": 33,
   "metadata": {
    "ExecuteTime": {
     "end_time": "2020-05-14T15:59:51.215162Z",
     "start_time": "2020-05-14T15:59:51.191510Z"
    }
   },
   "outputs": [],
   "source": [
    "y = df['activity_number']\n",
    "X = df.drop(['T_xacc', 'T_yacc', 'T_zacc', \n",
    "     'T_xgyro', 'T_ygyro', 'T_zgyro', \n",
    "     'T_xmag', 'T_ymag', 'T_zmag', 'activity_number'], axis=1)"
   ]
  },
  {
   "cell_type": "code",
   "execution_count": 34,
   "metadata": {
    "ExecuteTime": {
     "end_time": "2020-05-14T15:59:51.247889Z",
     "start_time": "2020-05-14T15:59:51.217472Z"
    }
   },
   "outputs": [],
   "source": [
    "X_train, X_test, y_train, y_test, random_values = my_train_test_split(X, y)"
   ]
  },
  {
   "cell_type": "code",
   "execution_count": 35,
   "metadata": {
    "ExecuteTime": {
     "end_time": "2020-05-14T15:59:51.811746Z",
     "start_time": "2020-05-14T15:59:51.250057Z"
    }
   },
   "outputs": [
    {
     "data": {
      "text/plain": [
       "RandomForestClassifier(bootstrap=True, ccp_alpha=0.0, class_weight=None,\n",
       "                       criterion='gini', max_depth=None, max_features='auto',\n",
       "                       max_leaf_nodes=None, max_samples=None,\n",
       "                       min_impurity_decrease=0.0, min_impurity_split=None,\n",
       "                       min_samples_leaf=1, min_samples_split=2,\n",
       "                       min_weight_fraction_leaf=0.0, n_estimators=100,\n",
       "                       n_jobs=None, oob_score=False, random_state=None,\n",
       "                       verbose=0, warm_start=False)"
      ]
     },
     "execution_count": 35,
     "metadata": {},
     "output_type": "execute_result"
    }
   ],
   "source": [
    "rf_combo2.fit(X_train, y_train)"
   ]
  },
  {
   "cell_type": "code",
   "execution_count": 36,
   "metadata": {
    "ExecuteTime": {
     "end_time": "2020-05-14T15:59:51.858338Z",
     "start_time": "2020-05-14T15:59:51.818703Z"
    }
   },
   "outputs": [
    {
     "data": {
      "text/plain": [
       "0.8052631578947368"
      ]
     },
     "execution_count": 36,
     "metadata": {},
     "output_type": "execute_result"
    }
   ],
   "source": [
    "rf_combo2.score(X_test, y_test)"
   ]
  },
  {
   "cell_type": "code",
   "execution_count": 37,
   "metadata": {
    "ExecuteTime": {
     "end_time": "2020-05-14T15:59:52.720307Z",
     "start_time": "2020-05-14T15:59:51.865776Z"
    }
   },
   "outputs": [
    {
     "data": {
      "image/png": "[encoded data removed]",
      "text/plain": [
       "<Figure size 1080x720 with 1 Axes>"
      ]
     },
     "metadata": {
      "needs_background": "light"
     },
     "output_type": "display_data"
    }
   ],
   "source": [
    "plot_features_importance(rf_combo2, 'black')"
   ]
  },
  {
   "cell_type": "markdown",
   "metadata": {},
   "source": [
    "### Train models on standard deviation & variance of the data"
   ]
  },
  {
   "cell_type": "code",
   "execution_count": 38,
   "metadata": {
    "ExecuteTime": {
     "end_time": "2020-05-14T15:59:52.746269Z",
     "start_time": "2020-05-14T15:59:52.738458Z"
    }
   },
   "outputs": [],
   "source": [
    "std = '/Users/Lisa/_Sports_Activity_Capstone/grouped_data/grouped_std_data.csv'\n",
    "var = '/Users/Lisa/_Sports_Activity_Capstone/grouped_data/grouped_variance_data.csv'"
   ]
  },
  {
   "cell_type": "code",
   "execution_count": 39,
   "metadata": {
    "ExecuteTime": {
     "end_time": "2020-05-14T15:59:52.812227Z",
     "start_time": "2020-05-14T15:59:52.750735Z"
    }
   },
   "outputs": [],
   "source": [
    "df_std = pd.read_csv(std)\n",
    "df_var = pd.read_csv(var)"
   ]
  },
  {
   "cell_type": "markdown",
   "metadata": {},
   "source": [
    "## Check feature importance for each dataframe"
   ]
  },
  {
   "cell_type": "markdown",
   "metadata": {},
   "source": [
    "### Checking feature importance for standard deviation data"
   ]
  },
  {
   "cell_type": "code",
   "execution_count": 40,
   "metadata": {
    "ExecuteTime": {
     "end_time": "2020-05-14T15:59:52.833659Z",
     "start_time": "2020-05-14T15:59:52.814857Z"
    }
   },
   "outputs": [],
   "source": [
    "rf_std = RandomForestClassifier()"
   ]
  },
  {
   "cell_type": "code",
   "execution_count": 41,
   "metadata": {
    "ExecuteTime": {
     "end_time": "2020-05-14T15:59:52.861914Z",
     "start_time": "2020-05-14T15:59:52.841035Z"
    }
   },
   "outputs": [],
   "source": [
    "y = df_std['activity_number']\n",
    "X = df_std.drop('activity_number', axis=1)"
   ]
  },
  {
   "cell_type": "code",
   "execution_count": 42,
   "metadata": {
    "ExecuteTime": {
     "end_time": "2020-05-14T15:59:52.908795Z",
     "start_time": "2020-05-14T15:59:52.864346Z"
    }
   },
   "outputs": [],
   "source": [
    "X_train, X_test, y_train, y_test, random_values = my_train_test_split(X, y)"
   ]
  },
  {
   "cell_type": "code",
   "execution_count": 43,
   "metadata": {
    "ExecuteTime": {
     "end_time": "2020-05-14T15:59:53.500473Z",
     "start_time": "2020-05-14T15:59:52.911050Z"
    }
   },
   "outputs": [
    {
     "data": {
      "text/plain": [
       "RandomForestClassifier(bootstrap=True, ccp_alpha=0.0, class_weight=None,\n",
       "                       criterion='gini', max_depth=None, max_features='auto',\n",
       "                       max_leaf_nodes=None, max_samples=None,\n",
       "                       min_impurity_decrease=0.0, min_impurity_split=None,\n",
       "                       min_samples_leaf=1, min_samples_split=2,\n",
       "                       min_weight_fraction_leaf=0.0, n_estimators=100,\n",
       "                       n_jobs=None, oob_score=False, random_state=None,\n",
       "                       verbose=0, warm_start=False)"
      ]
     },
     "execution_count": 43,
     "metadata": {},
     "output_type": "execute_result"
    }
   ],
   "source": [
    "rf_std.fit(X_train, y_train)"
   ]
  },
  {
   "cell_type": "code",
   "execution_count": 44,
   "metadata": {
    "ExecuteTime": {
     "end_time": "2020-05-14T15:59:53.570886Z",
     "start_time": "2020-05-14T15:59:53.509362Z"
    }
   },
   "outputs": [
    {
     "data": {
      "text/plain": [
       "0.8947368421052632"
      ]
     },
     "execution_count": 44,
     "metadata": {},
     "output_type": "execute_result"
    }
   ],
   "source": [
    "rf_std.score(X_test, y_test)"
   ]
  },
  {
   "cell_type": "code",
   "execution_count": 45,
   "metadata": {
    "ExecuteTime": {
     "end_time": "2020-05-14T15:59:54.450271Z",
     "start_time": "2020-05-14T15:59:53.574627Z"
    }
   },
   "outputs": [
    {
     "data": {
      "image/png": "[encoded data removed]",
      "text/plain": [
       "<Figure size 1080x720 with 1 Axes>"
      ]
     },
     "metadata": {
      "needs_background": "light"
     },
     "output_type": "display_data"
    }
   ],
   "source": [
    "plot_features_importance(rf_std, 'orange')"
   ]
  },
  {
   "cell_type": "markdown",
   "metadata": {},
   "source": [
    "### Checking feature importance for variance data"
   ]
  },
  {
   "cell_type": "code",
   "execution_count": 46,
   "metadata": {
    "ExecuteTime": {
     "end_time": "2020-05-14T15:59:54.480622Z",
     "start_time": "2020-05-14T15:59:54.474614Z"
    }
   },
   "outputs": [],
   "source": [
    "rf_var = RandomForestClassifier()"
   ]
  },
  {
   "cell_type": "code",
   "execution_count": 47,
   "metadata": {
    "ExecuteTime": {
     "end_time": "2020-05-14T15:59:54.515018Z",
     "start_time": "2020-05-14T15:59:54.493677Z"
    }
   },
   "outputs": [],
   "source": [
    "y = df_var['activity_number']\n",
    "X = df_var.drop('activity_number', axis=1)"
   ]
  },
  {
   "cell_type": "code",
   "execution_count": 48,
   "metadata": {
    "ExecuteTime": {
     "end_time": "2020-05-14T15:59:54.558264Z",
     "start_time": "2020-05-14T15:59:54.527375Z"
    }
   },
   "outputs": [],
   "source": [
    "X_train, X_test, y_train, y_test, random_values = my_train_test_split(X, y)"
   ]
  },
  {
   "cell_type": "code",
   "execution_count": 49,
   "metadata": {
    "ExecuteTime": {
     "end_time": "2020-05-14T15:59:55.811373Z",
     "start_time": "2020-05-14T15:59:54.560756Z"
    }
   },
   "outputs": [
    {
     "data": {
      "text/plain": [
       "RandomForestClassifier(bootstrap=True, ccp_alpha=0.0, class_weight=None,\n",
       "                       criterion='gini', max_depth=None, max_features='auto',\n",
       "                       max_leaf_nodes=None, max_samples=None,\n",
       "                       min_impurity_decrease=0.0, min_impurity_split=None,\n",
       "                       min_samples_leaf=1, min_samples_split=2,\n",
       "                       min_weight_fraction_leaf=0.0, n_estimators=100,\n",
       "                       n_jobs=None, oob_score=False, random_state=None,\n",
       "                       verbose=0, warm_start=False)"
      ]
     },
     "execution_count": 49,
     "metadata": {},
     "output_type": "execute_result"
    }
   ],
   "source": [
    "rf_var.fit(X_train, y_train)"
   ]
  },
  {
   "cell_type": "code",
   "execution_count": 50,
   "metadata": {
    "ExecuteTime": {
     "end_time": "2020-05-14T15:59:55.893309Z",
     "start_time": "2020-05-14T15:59:55.832630Z"
    }
   },
   "outputs": [
    {
     "data": {
      "text/plain": [
       "0.9052631578947369"
      ]
     },
     "execution_count": 50,
     "metadata": {},
     "output_type": "execute_result"
    }
   ],
   "source": [
    "rf_var.score(X_test, y_test)"
   ]
  },
  {
   "cell_type": "code",
   "execution_count": 51,
   "metadata": {
    "ExecuteTime": {
     "end_time": "2020-05-14T15:59:57.554036Z",
     "start_time": "2020-05-14T15:59:55.897833Z"
    }
   },
   "outputs": [
    {
     "data": {
      "image/png": "[encoded data removed]",
      "text/plain": [
       "<Figure size 1080x720 with 1 Axes>"
      ]
     },
     "metadata": {
      "needs_background": "light"
     },
     "output_type": "display_data"
    }
   ],
   "source": [
    "plot_features_importance(rf_var, 'pink')"
   ]
  },
  {
   "cell_type": "markdown",
   "metadata": {},
   "source": [
    "## Interesting performance on Legs & Variance - will combine the two dataframes"
   ]
  },
  {
   "cell_type": "code",
   "execution_count": 52,
   "metadata": {
    "ExecuteTime": {
     "end_time": "2020-05-14T15:59:57.589854Z",
     "start_time": "2020-05-14T15:59:57.571334Z"
    }
   },
   "outputs": [],
   "source": [
    "# Combine the df_var & legs dataframe for modeling"
   ]
  },
  {
   "cell_type": "code",
   "execution_count": 53,
   "metadata": {
    "ExecuteTime": {
     "end_time": "2020-05-14T15:59:57.638603Z",
     "start_time": "2020-05-14T15:59:57.597903Z"
    }
   },
   "outputs": [],
   "source": [
    "legs_and_var = pd.merge(df_var, legs, how='inner', on=['person', 'activity_number', 'time'])"
   ]
  },
  {
   "cell_type": "code",
   "execution_count": 54,
   "metadata": {
    "ExecuteTime": {
     "end_time": "2020-05-14T15:59:57.754432Z",
     "start_time": "2020-05-14T15:59:57.642599Z"
    }
   },
   "outputs": [
    {
     "data": {
      "text/html": [
       "<div>\n",
       "<style scoped>\n",
       "    .dataframe tbody tr th:only-of-type {\n",
       "        vertical-align: middle;\n",
       "    }\n",
       "\n",
       "    .dataframe tbody tr th {\n",
       "        vertical-align: top;\n",
       "    }\n",
       "\n",
       "    .dataframe thead th {\n",
       "        text-align: right;\n",
       "    }\n",
       "</style>\n",
       "<table border=\"1\" class=\"dataframe\">\n",
       "  <thead>\n",
       "    <tr style=\"text-align: right;\">\n",
       "      <th></th>\n",
       "      <th>person</th>\n",
       "      <th>activity_number</th>\n",
       "      <th>time</th>\n",
       "      <th>T_xacc_variance</th>\n",
       "      <th>T_yacc_variance</th>\n",
       "      <th>T_zacc_variance</th>\n",
       "      <th>T_xgyro_variance</th>\n",
       "      <th>T_ygyro_variance</th>\n",
       "      <th>T_zgyro_variance</th>\n",
       "      <th>T_xmag_variance</th>\n",
       "      <th>...</th>\n",
       "      <th>RL_zmag</th>\n",
       "      <th>LL_xacc</th>\n",
       "      <th>LL_yacc</th>\n",
       "      <th>LL_zacc</th>\n",
       "      <th>LL_xgyro</th>\n",
       "      <th>LL_ygyro</th>\n",
       "      <th>LL_zgyro</th>\n",
       "      <th>LL_xmag</th>\n",
       "      <th>LL_ymag</th>\n",
       "      <th>LL_zmag</th>\n",
       "    </tr>\n",
       "  </thead>\n",
       "  <tbody>\n",
       "    <tr>\n",
       "      <th>0</th>\n",
       "      <td>1</td>\n",
       "      <td>1</td>\n",
       "      <td>1.0</td>\n",
       "      <td>0.005741</td>\n",
       "      <td>0.002339</td>\n",
       "      <td>0.012997</td>\n",
       "      <td>0.000178</td>\n",
       "      <td>0.000574</td>\n",
       "      <td>0.000062</td>\n",
       "      <td>0.000003</td>\n",
       "      <td>...</td>\n",
       "      <td>-0.039000</td>\n",
       "      <td>-2.809729</td>\n",
       "      <td>-9.083978</td>\n",
       "      <td>2.626679</td>\n",
       "      <td>-0.005303</td>\n",
       "      <td>0.001935</td>\n",
       "      <td>-0.003317</td>\n",
       "      <td>0.740718</td>\n",
       "      <td>0.302500</td>\n",
       "      <td>-0.056373</td>\n",
       "    </tr>\n",
       "    <tr>\n",
       "      <th>1</th>\n",
       "      <td>1</td>\n",
       "      <td>1</td>\n",
       "      <td>2.0</td>\n",
       "      <td>0.004102</td>\n",
       "      <td>0.001865</td>\n",
       "      <td>0.011156</td>\n",
       "      <td>0.000215</td>\n",
       "      <td>0.000467</td>\n",
       "      <td>0.000056</td>\n",
       "      <td>0.000003</td>\n",
       "      <td>...</td>\n",
       "      <td>-0.039301</td>\n",
       "      <td>-2.796961</td>\n",
       "      <td>-9.086883</td>\n",
       "      <td>2.631203</td>\n",
       "      <td>-0.005166</td>\n",
       "      <td>0.001797</td>\n",
       "      <td>-0.003232</td>\n",
       "      <td>0.739271</td>\n",
       "      <td>0.302034</td>\n",
       "      <td>-0.056720</td>\n",
       "    </tr>\n",
       "    <tr>\n",
       "      <th>2</th>\n",
       "      <td>1</td>\n",
       "      <td>1</td>\n",
       "      <td>3.0</td>\n",
       "      <td>0.004223</td>\n",
       "      <td>0.003275</td>\n",
       "      <td>0.010230</td>\n",
       "      <td>0.000198</td>\n",
       "      <td>0.000504</td>\n",
       "      <td>0.000063</td>\n",
       "      <td>0.000003</td>\n",
       "      <td>...</td>\n",
       "      <td>-0.040353</td>\n",
       "      <td>-2.789059</td>\n",
       "      <td>-9.090416</td>\n",
       "      <td>2.629437</td>\n",
       "      <td>-0.005496</td>\n",
       "      <td>0.001615</td>\n",
       "      <td>-0.003151</td>\n",
       "      <td>0.738746</td>\n",
       "      <td>0.302321</td>\n",
       "      <td>-0.056930</td>\n",
       "    </tr>\n",
       "    <tr>\n",
       "      <th>3</th>\n",
       "      <td>1</td>\n",
       "      <td>1</td>\n",
       "      <td>4.0</td>\n",
       "      <td>0.004859</td>\n",
       "      <td>0.001235</td>\n",
       "      <td>0.011574</td>\n",
       "      <td>0.000159</td>\n",
       "      <td>0.000519</td>\n",
       "      <td>0.000055</td>\n",
       "      <td>0.000003</td>\n",
       "      <td>...</td>\n",
       "      <td>-0.041032</td>\n",
       "      <td>-2.780424</td>\n",
       "      <td>-9.095914</td>\n",
       "      <td>2.624423</td>\n",
       "      <td>-0.005100</td>\n",
       "      <td>0.001762</td>\n",
       "      <td>-0.002923</td>\n",
       "      <td>0.738183</td>\n",
       "      <td>0.302999</td>\n",
       "      <td>-0.057246</td>\n",
       "    </tr>\n",
       "    <tr>\n",
       "      <th>4</th>\n",
       "      <td>1</td>\n",
       "      <td>1</td>\n",
       "      <td>5.0</td>\n",
       "      <td>0.003466</td>\n",
       "      <td>0.002267</td>\n",
       "      <td>0.008412</td>\n",
       "      <td>0.000180</td>\n",
       "      <td>0.000410</td>\n",
       "      <td>0.000057</td>\n",
       "      <td>0.000003</td>\n",
       "      <td>...</td>\n",
       "      <td>-0.041533</td>\n",
       "      <td>-2.773596</td>\n",
       "      <td>-9.101732</td>\n",
       "      <td>2.611724</td>\n",
       "      <td>-0.005464</td>\n",
       "      <td>0.002143</td>\n",
       "      <td>-0.003231</td>\n",
       "      <td>0.737841</td>\n",
       "      <td>0.304157</td>\n",
       "      <td>-0.056492</td>\n",
       "    </tr>\n",
       "    <tr>\n",
       "      <th>...</th>\n",
       "      <td>...</td>\n",
       "      <td>...</td>\n",
       "      <td>...</td>\n",
       "      <td>...</td>\n",
       "      <td>...</td>\n",
       "      <td>...</td>\n",
       "      <td>...</td>\n",
       "      <td>...</td>\n",
       "      <td>...</td>\n",
       "      <td>...</td>\n",
       "      <td>...</td>\n",
       "      <td>...</td>\n",
       "      <td>...</td>\n",
       "      <td>...</td>\n",
       "      <td>...</td>\n",
       "      <td>...</td>\n",
       "      <td>...</td>\n",
       "      <td>...</td>\n",
       "      <td>...</td>\n",
       "      <td>...</td>\n",
       "      <td>...</td>\n",
       "    </tr>\n",
       "    <tr>\n",
       "      <th>755</th>\n",
       "      <td>8</td>\n",
       "      <td>19</td>\n",
       "      <td>1.0</td>\n",
       "      <td>20.346031</td>\n",
       "      <td>5.434005</td>\n",
       "      <td>7.929109</td>\n",
       "      <td>1.396252</td>\n",
       "      <td>0.750682</td>\n",
       "      <td>0.219510</td>\n",
       "      <td>0.005460</td>\n",
       "      <td>...</td>\n",
       "      <td>0.006729</td>\n",
       "      <td>-10.063521</td>\n",
       "      <td>-0.619705</td>\n",
       "      <td>-1.140875</td>\n",
       "      <td>0.011341</td>\n",
       "      <td>-0.023558</td>\n",
       "      <td>-0.000605</td>\n",
       "      <td>0.642958</td>\n",
       "      <td>0.236710</td>\n",
       "      <td>0.255006</td>\n",
       "    </tr>\n",
       "    <tr>\n",
       "      <th>756</th>\n",
       "      <td>8</td>\n",
       "      <td>19</td>\n",
       "      <td>2.0</td>\n",
       "      <td>29.010929</td>\n",
       "      <td>5.839315</td>\n",
       "      <td>9.267388</td>\n",
       "      <td>2.009230</td>\n",
       "      <td>0.995331</td>\n",
       "      <td>0.294226</td>\n",
       "      <td>0.009709</td>\n",
       "      <td>...</td>\n",
       "      <td>-0.106791</td>\n",
       "      <td>-10.025448</td>\n",
       "      <td>-1.088265</td>\n",
       "      <td>-1.242026</td>\n",
       "      <td>0.004165</td>\n",
       "      <td>0.019041</td>\n",
       "      <td>-0.021512</td>\n",
       "      <td>0.634369</td>\n",
       "      <td>0.256596</td>\n",
       "      <td>0.364230</td>\n",
       "    </tr>\n",
       "    <tr>\n",
       "      <th>757</th>\n",
       "      <td>8</td>\n",
       "      <td>19</td>\n",
       "      <td>3.0</td>\n",
       "      <td>29.027454</td>\n",
       "      <td>6.393135</td>\n",
       "      <td>12.866779</td>\n",
       "      <td>2.169993</td>\n",
       "      <td>1.274551</td>\n",
       "      <td>0.322862</td>\n",
       "      <td>0.011601</td>\n",
       "      <td>...</td>\n",
       "      <td>-0.009925</td>\n",
       "      <td>-10.018549</td>\n",
       "      <td>-0.919432</td>\n",
       "      <td>-1.106094</td>\n",
       "      <td>0.002843</td>\n",
       "      <td>-0.010134</td>\n",
       "      <td>-0.030319</td>\n",
       "      <td>0.660857</td>\n",
       "      <td>0.400970</td>\n",
       "      <td>0.208620</td>\n",
       "    </tr>\n",
       "    <tr>\n",
       "      <th>758</th>\n",
       "      <td>8</td>\n",
       "      <td>19</td>\n",
       "      <td>4.0</td>\n",
       "      <td>21.914694</td>\n",
       "      <td>9.160095</td>\n",
       "      <td>17.705974</td>\n",
       "      <td>1.975469</td>\n",
       "      <td>1.203614</td>\n",
       "      <td>0.320562</td>\n",
       "      <td>0.006344</td>\n",
       "      <td>...</td>\n",
       "      <td>0.183034</td>\n",
       "      <td>-9.946248</td>\n",
       "      <td>-0.881898</td>\n",
       "      <td>-0.750747</td>\n",
       "      <td>0.065316</td>\n",
       "      <td>0.019333</td>\n",
       "      <td>0.006914</td>\n",
       "      <td>0.685286</td>\n",
       "      <td>-0.156595</td>\n",
       "      <td>0.134312</td>\n",
       "    </tr>\n",
       "    <tr>\n",
       "      <th>759</th>\n",
       "      <td>8</td>\n",
       "      <td>19</td>\n",
       "      <td>5.0</td>\n",
       "      <td>36.549750</td>\n",
       "      <td>6.307192</td>\n",
       "      <td>12.423620</td>\n",
       "      <td>2.986938</td>\n",
       "      <td>1.178842</td>\n",
       "      <td>0.392041</td>\n",
       "      <td>0.009122</td>\n",
       "      <td>...</td>\n",
       "      <td>-0.009218</td>\n",
       "      <td>-10.017905</td>\n",
       "      <td>-1.102235</td>\n",
       "      <td>-1.109637</td>\n",
       "      <td>0.076048</td>\n",
       "      <td>0.012068</td>\n",
       "      <td>-0.036647</td>\n",
       "      <td>0.664741</td>\n",
       "      <td>0.283675</td>\n",
       "      <td>0.271119</td>\n",
       "    </tr>\n",
       "  </tbody>\n",
       "</table>\n",
       "<p>760 rows × 66 columns</p>\n",
       "</div>"
      ],
      "text/plain": [
       "     person  activity_number  time  T_xacc_variance  T_yacc_variance  \\\n",
       "0         1                1   1.0         0.005741         0.002339   \n",
       "1         1                1   2.0         0.004102         0.001865   \n",
       "2         1                1   3.0         0.004223         0.003275   \n",
       "3         1                1   4.0         0.004859         0.001235   \n",
       "4         1                1   5.0         0.003466         0.002267   \n",
       "..      ...              ...   ...              ...              ...   \n",
       "755       8               19   1.0        20.346031         5.434005   \n",
       "756       8               19   2.0        29.010929         5.839315   \n",
       "757       8               19   3.0        29.027454         6.393135   \n",
       "758       8               19   4.0        21.914694         9.160095   \n",
       "759       8               19   5.0        36.549750         6.307192   \n",
       "\n",
       "     T_zacc_variance  T_xgyro_variance  T_ygyro_variance  T_zgyro_variance  \\\n",
       "0           0.012997          0.000178          0.000574          0.000062   \n",
       "1           0.011156          0.000215          0.000467          0.000056   \n",
       "2           0.010230          0.000198          0.000504          0.000063   \n",
       "3           0.011574          0.000159          0.000519          0.000055   \n",
       "4           0.008412          0.000180          0.000410          0.000057   \n",
       "..               ...               ...               ...               ...   \n",
       "755         7.929109          1.396252          0.750682          0.219510   \n",
       "756         9.267388          2.009230          0.995331          0.294226   \n",
       "757        12.866779          2.169993          1.274551          0.322862   \n",
       "758        17.705974          1.975469          1.203614          0.320562   \n",
       "759        12.423620          2.986938          1.178842          0.392041   \n",
       "\n",
       "     T_xmag_variance  ...   RL_zmag    LL_xacc   LL_yacc   LL_zacc  LL_xgyro  \\\n",
       "0           0.000003  ... -0.039000  -2.809729 -9.083978  2.626679 -0.005303   \n",
       "1           0.000003  ... -0.039301  -2.796961 -9.086883  2.631203 -0.005166   \n",
       "2           0.000003  ... -0.040353  -2.789059 -9.090416  2.629437 -0.005496   \n",
       "3           0.000003  ... -0.041032  -2.780424 -9.095914  2.624423 -0.005100   \n",
       "4           0.000003  ... -0.041533  -2.773596 -9.101732  2.611724 -0.005464   \n",
       "..               ...  ...       ...        ...       ...       ...       ...   \n",
       "755         0.005460  ...  0.006729 -10.063521 -0.619705 -1.140875  0.011341   \n",
       "756         0.009709  ... -0.106791 -10.025448 -1.088265 -1.242026  0.004165   \n",
       "757         0.011601  ... -0.009925 -10.018549 -0.919432 -1.106094  0.002843   \n",
       "758         0.006344  ...  0.183034  -9.946248 -0.881898 -0.750747  0.065316   \n",
       "759         0.009122  ... -0.009218 -10.017905 -1.102235 -1.109637  0.076048   \n",
       "\n",
       "     LL_ygyro  LL_zgyro   LL_xmag   LL_ymag   LL_zmag  \n",
       "0    0.001935 -0.003317  0.740718  0.302500 -0.056373  \n",
       "1    0.001797 -0.003232  0.739271  0.302034 -0.056720  \n",
       "2    0.001615 -0.003151  0.738746  0.302321 -0.056930  \n",
       "3    0.001762 -0.002923  0.738183  0.302999 -0.057246  \n",
       "4    0.002143 -0.003231  0.737841  0.304157 -0.056492  \n",
       "..        ...       ...       ...       ...       ...  \n",
       "755 -0.023558 -0.000605  0.642958  0.236710  0.255006  \n",
       "756  0.019041 -0.021512  0.634369  0.256596  0.364230  \n",
       "757 -0.010134 -0.030319  0.660857  0.400970  0.208620  \n",
       "758  0.019333  0.006914  0.685286 -0.156595  0.134312  \n",
       "759  0.012068 -0.036647  0.664741  0.283675  0.271119  \n",
       "\n",
       "[760 rows x 66 columns]"
      ]
     },
     "execution_count": 54,
     "metadata": {},
     "output_type": "execute_result"
    }
   ],
   "source": [
    "legs_and_var"
   ]
  },
  {
   "cell_type": "code",
   "execution_count": null,
   "metadata": {},
   "outputs": [],
   "source": []
  }
 ],
 "metadata": {
  "kernelspec": {
   "display_name": "Python 3",
   "language": "python",
   "name": "python3"
  },
  "language_info": {
   "codemirror_mode": {
    "name": "ipython",
    "version": 3
   },
   "file_extension": ".py",
   "mimetype": "text/x-python",
   "name": "python",
   "nbconvert_exporter": "python",
   "pygments_lexer": "ipython3",
   "version": "3.7.7"
  }
 },
 "nbformat": 4,
 "nbformat_minor": 4
}
