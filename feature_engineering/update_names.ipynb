{
 "cells": [
  {
   "cell_type": "code",
   "execution_count": 1,
   "metadata": {
    "ExecuteTime": {
     "end_time": "2020-05-13T15:19:40.813428Z",
     "start_time": "2020-05-13T15:19:40.801367Z"
    }
   },
   "outputs": [],
   "source": [
    "def update_names(df, string):\n",
    "    '''\n",
    "    updates the column names in my df\n",
    "    \n",
    "    parameters:\n",
    "    df - dataframe to adjust\n",
    "    string - the word that will be added on to the existing column name\n",
    "    \n",
    "    returns:\n",
    "    a dictionary of key:values to update in the dataframe\n",
    "    '''\n",
    "    d = {}\n",
    "    df.columns\n",
    "    for x in df.columns:\n",
    "        d[x] = x+string\n",
    "    df.rename(columns=d, inplace=True)\n",
    "    return df"
   ]
  }
 ],
 "metadata": {
  "kernelspec": {
   "display_name": "Python 3",
   "language": "python",
   "name": "python3"
  },
  "language_info": {
   "codemirror_mode": {
    "name": "ipython",
    "version": 3
   },
   "file_extension": ".py",
   "mimetype": "text/x-python",
   "name": "python",
   "nbconvert_exporter": "python",
   "pygments_lexer": "ipython3",
   "version": "3.7.7"
  }
 },
 "nbformat": 4,
 "nbformat_minor": 4
}
