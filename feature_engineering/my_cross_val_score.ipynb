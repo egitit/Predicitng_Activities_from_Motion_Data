{
 "cells": [
  {
   "cell_type": "code",
   "execution_count": null,
   "metadata": {},
   "outputs": [],
   "source": [
    "%run my_split_func2.ipynb\n",
    "# Function = my_train_test_split(X, y)\n",
    "%run plot_features_importance.ipynb\n",
    "# Function = plot_features_importance(model)\n",
    "%run feature_importance_EDA.ipynb\n",
    "# running the notebook so I can access all of my other dataframes for my scoring notebook"
   ]
  },
  {
   "cell_type": "code",
   "execution_count": null,
   "metadata": {},
   "outputs": [],
   "source": [
    "def my_cross_val_score(df):\n",
    "    '''\n",
    "    Create a function that will train/test my model with EVERY possible combination of participants\n",
    "    \n",
    "    parameters:\n",
    "    df - the dataframe where the training and testing sets will come from \n",
    "    \n",
    "    returns:\n",
    "    testing_sets, scores\n",
    "    '''\n",
    "    testing_sets = []\n",
    "    scores = []\n",
    "    for x in range(1,9):\n",
    "        for y in range(1,9):\n",
    "            if x == y:\n",
    "                continue\n",
    "            elif (y, x) in testing_sets:\n",
    "                continue\n",
    "            else:\n",
    "                testing_sets.append((x,y))\n",
    "    for a in testing_sets:\n",
    "        mask = (df['person'] == a[0]) | (df['person'] == a[1])\n",
    "        mask2 = (df['person'] != a[0]) & (df['person'] != a[1])\n",
    "        X_train = df[mask2].drop('activity_number', axis=1)\n",
    "        X_test = df[mask].drop('activity_number', axis=1)\n",
    "        y_train = df[mask2]['activity_number']\n",
    "        y_test = df[mask]['activity_number']\n",
    "        \n",
    "        rf = RandomForestClassifier()\n",
    "        rf.fit(X_train, y_train)\n",
    "        score = rf.score(X_test, y_test)\n",
    "        scores.append(score)\n",
    "    return testing_sets, scores"
   ]
  }
 ],
 "metadata": {
  "kernelspec": {
   "display_name": "Python 3",
   "language": "python",
   "name": "python3"
  },
  "language_info": {
   "codemirror_mode": {
    "name": "ipython",
    "version": 3
   },
   "file_extension": ".py",
   "mimetype": "text/x-python",
   "name": "python",
   "nbconvert_exporter": "python",
   "pygments_lexer": "ipython3",
   "version": "3.7.7"
  }
 },
 "nbformat": 4,
 "nbformat_minor": 4
}
