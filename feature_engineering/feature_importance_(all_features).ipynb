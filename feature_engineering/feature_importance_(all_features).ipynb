{
 "cells": [
  {
   "cell_type": "code",
   "execution_count": 1,
   "metadata": {
    "ExecuteTime": {
     "end_time": "2020-05-14T18:48:23.487537Z",
     "start_time": "2020-05-14T18:48:21.856626Z"
    }
   },
   "outputs": [],
   "source": [
    "import pandas as pd\n",
    "import numpy as np\n",
    "from collections import Counter\n",
    "from sklearn.ensemble import RandomForestClassifier\n",
    "from sklearn.model_selection import train_test_split\n",
    "from sklearn.metrics import confusion_matrix, accuracy_score, recall_score, precision_score, roc_curve, roc_auc_score\n",
    "from sklearn.metrics import mean_squared_error as MSE\n",
    "from sklearn.model_selection import GridSearchCV\n",
    "%run my_split_func2.ipynb\n",
    "# Function = my_train_test_split(X, y)\n",
    "%run plot_features_importance.ipynb\n",
    "#Function = plot_features_importance(model)"
   ]
  },
  {
   "cell_type": "code",
   "execution_count": 2,
   "metadata": {
    "ExecuteTime": {
     "end_time": "2020-05-14T18:48:23.554033Z",
     "start_time": "2020-05-14T18:48:23.492276Z"
    }
   },
   "outputs": [],
   "source": [
    "df = pd.read_csv('/Users/Lisa/_Sports_Activity_Capstone/grouped_data/grouped_data.csv')"
   ]
  },
  {
   "cell_type": "code",
   "execution_count": 3,
   "metadata": {
    "ExecuteTime": {
     "end_time": "2020-05-14T18:48:23.641023Z",
     "start_time": "2020-05-14T18:48:23.556901Z"
    }
   },
   "outputs": [
    {
     "data": {
      "text/html": [
       "<div>\n",
       "<style scoped>\n",
       "    .dataframe tbody tr th:only-of-type {\n",
       "        vertical-align: middle;\n",
       "    }\n",
       "\n",
       "    .dataframe tbody tr th {\n",
       "        vertical-align: top;\n",
       "    }\n",
       "\n",
       "    .dataframe thead th {\n",
       "        text-align: right;\n",
       "    }\n",
       "</style>\n",
       "<table border=\"1\" class=\"dataframe\">\n",
       "  <thead>\n",
       "    <tr style=\"text-align: right;\">\n",
       "      <th></th>\n",
       "      <th>person</th>\n",
       "      <th>activity_number</th>\n",
       "      <th>time</th>\n",
       "      <th>T_xacc</th>\n",
       "      <th>T_yacc</th>\n",
       "      <th>T_zacc</th>\n",
       "      <th>T_xgyro</th>\n",
       "      <th>T_ygyro</th>\n",
       "      <th>T_zgyro</th>\n",
       "      <th>T_xmag</th>\n",
       "      <th>...</th>\n",
       "      <th>RL_zmag</th>\n",
       "      <th>LL_xacc</th>\n",
       "      <th>LL_yacc</th>\n",
       "      <th>LL_zacc</th>\n",
       "      <th>LL_xgyro</th>\n",
       "      <th>LL_ygyro</th>\n",
       "      <th>LL_zgyro</th>\n",
       "      <th>LL_xmag</th>\n",
       "      <th>LL_ymag</th>\n",
       "      <th>LL_zmag</th>\n",
       "    </tr>\n",
       "  </thead>\n",
       "  <tbody>\n",
       "    <tr>\n",
       "      <th>0</th>\n",
       "      <td>1</td>\n",
       "      <td>1</td>\n",
       "      <td>1.0</td>\n",
       "      <td>7.930544</td>\n",
       "      <td>1.169095</td>\n",
       "      <td>5.654536</td>\n",
       "      <td>0.002940</td>\n",
       "      <td>0.020659</td>\n",
       "      <td>-0.003139</td>\n",
       "      <td>-0.793103</td>\n",
       "      <td>...</td>\n",
       "      <td>-0.039000</td>\n",
       "      <td>-2.809729</td>\n",
       "      <td>-9.083978</td>\n",
       "      <td>2.626679</td>\n",
       "      <td>-0.005303</td>\n",
       "      <td>0.001935</td>\n",
       "      <td>-0.003317</td>\n",
       "      <td>0.740718</td>\n",
       "      <td>0.302500</td>\n",
       "      <td>-0.056373</td>\n",
       "    </tr>\n",
       "    <tr>\n",
       "      <th>1</th>\n",
       "      <td>1</td>\n",
       "      <td>1</td>\n",
       "      <td>2.0</td>\n",
       "      <td>7.883222</td>\n",
       "      <td>1.271661</td>\n",
       "      <td>5.700059</td>\n",
       "      <td>0.002205</td>\n",
       "      <td>0.020347</td>\n",
       "      <td>-0.003381</td>\n",
       "      <td>-0.792056</td>\n",
       "      <td>...</td>\n",
       "      <td>-0.039301</td>\n",
       "      <td>-2.796961</td>\n",
       "      <td>-9.086883</td>\n",
       "      <td>2.631203</td>\n",
       "      <td>-0.005166</td>\n",
       "      <td>0.001797</td>\n",
       "      <td>-0.003232</td>\n",
       "      <td>0.739271</td>\n",
       "      <td>0.302034</td>\n",
       "      <td>-0.056720</td>\n",
       "    </tr>\n",
       "    <tr>\n",
       "      <th>2</th>\n",
       "      <td>1</td>\n",
       "      <td>1</td>\n",
       "      <td>3.0</td>\n",
       "      <td>7.825126</td>\n",
       "      <td>1.340783</td>\n",
       "      <td>5.766320</td>\n",
       "      <td>0.002818</td>\n",
       "      <td>0.019563</td>\n",
       "      <td>-0.002821</td>\n",
       "      <td>-0.792395</td>\n",
       "      <td>...</td>\n",
       "      <td>-0.040353</td>\n",
       "      <td>-2.789059</td>\n",
       "      <td>-9.090416</td>\n",
       "      <td>2.629437</td>\n",
       "      <td>-0.005496</td>\n",
       "      <td>0.001615</td>\n",
       "      <td>-0.003151</td>\n",
       "      <td>0.738746</td>\n",
       "      <td>0.302321</td>\n",
       "      <td>-0.056930</td>\n",
       "    </tr>\n",
       "    <tr>\n",
       "      <th>3</th>\n",
       "      <td>1</td>\n",
       "      <td>1</td>\n",
       "      <td>4.0</td>\n",
       "      <td>7.838236</td>\n",
       "      <td>1.442390</td>\n",
       "      <td>5.724239</td>\n",
       "      <td>0.003405</td>\n",
       "      <td>0.020111</td>\n",
       "      <td>-0.003152</td>\n",
       "      <td>-0.791418</td>\n",
       "      <td>...</td>\n",
       "      <td>-0.041032</td>\n",
       "      <td>-2.780424</td>\n",
       "      <td>-9.095914</td>\n",
       "      <td>2.624423</td>\n",
       "      <td>-0.005100</td>\n",
       "      <td>0.001762</td>\n",
       "      <td>-0.002923</td>\n",
       "      <td>0.738183</td>\n",
       "      <td>0.302999</td>\n",
       "      <td>-0.057246</td>\n",
       "    </tr>\n",
       "    <tr>\n",
       "      <th>4</th>\n",
       "      <td>1</td>\n",
       "      <td>1</td>\n",
       "      <td>5.0</td>\n",
       "      <td>7.839314</td>\n",
       "      <td>1.497704</td>\n",
       "      <td>5.708884</td>\n",
       "      <td>0.003103</td>\n",
       "      <td>0.020234</td>\n",
       "      <td>-0.003310</td>\n",
       "      <td>-0.791132</td>\n",
       "      <td>...</td>\n",
       "      <td>-0.041533</td>\n",
       "      <td>-2.773596</td>\n",
       "      <td>-9.101732</td>\n",
       "      <td>2.611724</td>\n",
       "      <td>-0.005464</td>\n",
       "      <td>0.002143</td>\n",
       "      <td>-0.003231</td>\n",
       "      <td>0.737841</td>\n",
       "      <td>0.304157</td>\n",
       "      <td>-0.056492</td>\n",
       "    </tr>\n",
       "    <tr>\n",
       "      <th>...</th>\n",
       "      <td>...</td>\n",
       "      <td>...</td>\n",
       "      <td>...</td>\n",
       "      <td>...</td>\n",
       "      <td>...</td>\n",
       "      <td>...</td>\n",
       "      <td>...</td>\n",
       "      <td>...</td>\n",
       "      <td>...</td>\n",
       "      <td>...</td>\n",
       "      <td>...</td>\n",
       "      <td>...</td>\n",
       "      <td>...</td>\n",
       "      <td>...</td>\n",
       "      <td>...</td>\n",
       "      <td>...</td>\n",
       "      <td>...</td>\n",
       "      <td>...</td>\n",
       "      <td>...</td>\n",
       "      <td>...</td>\n",
       "      <td>...</td>\n",
       "    </tr>\n",
       "    <tr>\n",
       "      <th>755</th>\n",
       "      <td>8</td>\n",
       "      <td>19</td>\n",
       "      <td>1.0</td>\n",
       "      <td>9.557651</td>\n",
       "      <td>-0.270247</td>\n",
       "      <td>0.889742</td>\n",
       "      <td>-0.018187</td>\n",
       "      <td>-0.025092</td>\n",
       "      <td>-0.004337</td>\n",
       "      <td>-0.679222</td>\n",
       "      <td>...</td>\n",
       "      <td>0.006729</td>\n",
       "      <td>-10.063521</td>\n",
       "      <td>-0.619705</td>\n",
       "      <td>-1.140875</td>\n",
       "      <td>0.011341</td>\n",
       "      <td>-0.023558</td>\n",
       "      <td>-0.000605</td>\n",
       "      <td>0.642958</td>\n",
       "      <td>0.236710</td>\n",
       "      <td>0.255006</td>\n",
       "    </tr>\n",
       "    <tr>\n",
       "      <th>756</th>\n",
       "      <td>8</td>\n",
       "      <td>19</td>\n",
       "      <td>2.0</td>\n",
       "      <td>9.543666</td>\n",
       "      <td>-0.256911</td>\n",
       "      <td>1.084630</td>\n",
       "      <td>-0.024946</td>\n",
       "      <td>0.003205</td>\n",
       "      <td>0.001218</td>\n",
       "      <td>-0.688656</td>\n",
       "      <td>...</td>\n",
       "      <td>-0.106791</td>\n",
       "      <td>-10.025448</td>\n",
       "      <td>-1.088265</td>\n",
       "      <td>-1.242026</td>\n",
       "      <td>0.004165</td>\n",
       "      <td>0.019041</td>\n",
       "      <td>-0.021512</td>\n",
       "      <td>0.634369</td>\n",
       "      <td>0.256596</td>\n",
       "      <td>0.364230</td>\n",
       "    </tr>\n",
       "    <tr>\n",
       "      <th>757</th>\n",
       "      <td>8</td>\n",
       "      <td>19</td>\n",
       "      <td>3.0</td>\n",
       "      <td>9.511916</td>\n",
       "      <td>-0.201919</td>\n",
       "      <td>1.075178</td>\n",
       "      <td>-0.001791</td>\n",
       "      <td>0.004643</td>\n",
       "      <td>-0.017372</td>\n",
       "      <td>-0.660721</td>\n",
       "      <td>...</td>\n",
       "      <td>-0.009925</td>\n",
       "      <td>-10.018549</td>\n",
       "      <td>-0.919432</td>\n",
       "      <td>-1.106094</td>\n",
       "      <td>0.002843</td>\n",
       "      <td>-0.010134</td>\n",
       "      <td>-0.030319</td>\n",
       "      <td>0.660857</td>\n",
       "      <td>0.400970</td>\n",
       "      <td>0.208620</td>\n",
       "    </tr>\n",
       "    <tr>\n",
       "      <th>758</th>\n",
       "      <td>8</td>\n",
       "      <td>19</td>\n",
       "      <td>4.0</td>\n",
       "      <td>9.375888</td>\n",
       "      <td>-0.536230</td>\n",
       "      <td>0.363037</td>\n",
       "      <td>-0.067781</td>\n",
       "      <td>-0.004438</td>\n",
       "      <td>-0.033103</td>\n",
       "      <td>-0.718401</td>\n",
       "      <td>...</td>\n",
       "      <td>0.183034</td>\n",
       "      <td>-9.946248</td>\n",
       "      <td>-0.881898</td>\n",
       "      <td>-0.750747</td>\n",
       "      <td>0.065316</td>\n",
       "      <td>0.019333</td>\n",
       "      <td>0.006914</td>\n",
       "      <td>0.685286</td>\n",
       "      <td>-0.156595</td>\n",
       "      <td>0.134312</td>\n",
       "    </tr>\n",
       "    <tr>\n",
       "      <th>759</th>\n",
       "      <td>8</td>\n",
       "      <td>19</td>\n",
       "      <td>5.0</td>\n",
       "      <td>9.431383</td>\n",
       "      <td>-0.274984</td>\n",
       "      <td>0.553847</td>\n",
       "      <td>-0.093606</td>\n",
       "      <td>0.005759</td>\n",
       "      <td>-0.005918</td>\n",
       "      <td>-0.697486</td>\n",
       "      <td>...</td>\n",
       "      <td>-0.009218</td>\n",
       "      <td>-10.017905</td>\n",
       "      <td>-1.102235</td>\n",
       "      <td>-1.109637</td>\n",
       "      <td>0.076048</td>\n",
       "      <td>0.012068</td>\n",
       "      <td>-0.036647</td>\n",
       "      <td>0.664741</td>\n",
       "      <td>0.283675</td>\n",
       "      <td>0.271119</td>\n",
       "    </tr>\n",
       "  </tbody>\n",
       "</table>\n",
       "<p>760 rows × 48 columns</p>\n",
       "</div>"
      ],
      "text/plain": [
       "     person  activity_number  time    T_xacc    T_yacc    T_zacc   T_xgyro  \\\n",
       "0         1                1   1.0  7.930544  1.169095  5.654536  0.002940   \n",
       "1         1                1   2.0  7.883222  1.271661  5.700059  0.002205   \n",
       "2         1                1   3.0  7.825126  1.340783  5.766320  0.002818   \n",
       "3         1                1   4.0  7.838236  1.442390  5.724239  0.003405   \n",
       "4         1                1   5.0  7.839314  1.497704  5.708884  0.003103   \n",
       "..      ...              ...   ...       ...       ...       ...       ...   \n",
       "755       8               19   1.0  9.557651 -0.270247  0.889742 -0.018187   \n",
       "756       8               19   2.0  9.543666 -0.256911  1.084630 -0.024946   \n",
       "757       8               19   3.0  9.511916 -0.201919  1.075178 -0.001791   \n",
       "758       8               19   4.0  9.375888 -0.536230  0.363037 -0.067781   \n",
       "759       8               19   5.0  9.431383 -0.274984  0.553847 -0.093606   \n",
       "\n",
       "      T_ygyro   T_zgyro    T_xmag  ...   RL_zmag    LL_xacc   LL_yacc  \\\n",
       "0    0.020659 -0.003139 -0.793103  ... -0.039000  -2.809729 -9.083978   \n",
       "1    0.020347 -0.003381 -0.792056  ... -0.039301  -2.796961 -9.086883   \n",
       "2    0.019563 -0.002821 -0.792395  ... -0.040353  -2.789059 -9.090416   \n",
       "3    0.020111 -0.003152 -0.791418  ... -0.041032  -2.780424 -9.095914   \n",
       "4    0.020234 -0.003310 -0.791132  ... -0.041533  -2.773596 -9.101732   \n",
       "..        ...       ...       ...  ...       ...        ...       ...   \n",
       "755 -0.025092 -0.004337 -0.679222  ...  0.006729 -10.063521 -0.619705   \n",
       "756  0.003205  0.001218 -0.688656  ... -0.106791 -10.025448 -1.088265   \n",
       "757  0.004643 -0.017372 -0.660721  ... -0.009925 -10.018549 -0.919432   \n",
       "758 -0.004438 -0.033103 -0.718401  ...  0.183034  -9.946248 -0.881898   \n",
       "759  0.005759 -0.005918 -0.697486  ... -0.009218 -10.017905 -1.102235   \n",
       "\n",
       "      LL_zacc  LL_xgyro  LL_ygyro  LL_zgyro   LL_xmag   LL_ymag   LL_zmag  \n",
       "0    2.626679 -0.005303  0.001935 -0.003317  0.740718  0.302500 -0.056373  \n",
       "1    2.631203 -0.005166  0.001797 -0.003232  0.739271  0.302034 -0.056720  \n",
       "2    2.629437 -0.005496  0.001615 -0.003151  0.738746  0.302321 -0.056930  \n",
       "3    2.624423 -0.005100  0.001762 -0.002923  0.738183  0.302999 -0.057246  \n",
       "4    2.611724 -0.005464  0.002143 -0.003231  0.737841  0.304157 -0.056492  \n",
       "..        ...       ...       ...       ...       ...       ...       ...  \n",
       "755 -1.140875  0.011341 -0.023558 -0.000605  0.642958  0.236710  0.255006  \n",
       "756 -1.242026  0.004165  0.019041 -0.021512  0.634369  0.256596  0.364230  \n",
       "757 -1.106094  0.002843 -0.010134 -0.030319  0.660857  0.400970  0.208620  \n",
       "758 -0.750747  0.065316  0.019333  0.006914  0.685286 -0.156595  0.134312  \n",
       "759 -1.109637  0.076048  0.012068 -0.036647  0.664741  0.283675  0.271119  \n",
       "\n",
       "[760 rows x 48 columns]"
      ]
     },
     "execution_count": 3,
     "metadata": {},
     "output_type": "execute_result"
    }
   ],
   "source": [
    "df"
   ]
  },
  {
   "cell_type": "code",
   "execution_count": 4,
   "metadata": {
    "ExecuteTime": {
     "end_time": "2020-05-14T18:48:23.674735Z",
     "start_time": "2020-05-14T18:48:23.650526Z"
    }
   },
   "outputs": [],
   "source": [
    "X = df.drop('activity_number', axis=1)"
   ]
  },
  {
   "cell_type": "code",
   "execution_count": 5,
   "metadata": {
    "ExecuteTime": {
     "end_time": "2020-05-14T18:48:23.728068Z",
     "start_time": "2020-05-14T18:48:23.700372Z"
    }
   },
   "outputs": [],
   "source": [
    "y = df['activity_number']"
   ]
  },
  {
   "cell_type": "code",
   "execution_count": 6,
   "metadata": {
    "ExecuteTime": {
     "end_time": "2020-05-14T18:48:23.803503Z",
     "start_time": "2020-05-14T18:48:23.742393Z"
    }
   },
   "outputs": [],
   "source": [
    "X_train, X_test, y_train, y_test, random_values = my_train_test_split(X, y)"
   ]
  },
  {
   "cell_type": "code",
   "execution_count": 7,
   "metadata": {
    "ExecuteTime": {
     "end_time": "2020-05-14T18:48:23.841533Z",
     "start_time": "2020-05-14T18:48:23.819066Z"
    }
   },
   "outputs": [],
   "source": [
    "rf = RandomForestClassifier()"
   ]
  },
  {
   "cell_type": "code",
   "execution_count": 8,
   "metadata": {
    "ExecuteTime": {
     "end_time": "2020-05-14T18:48:24.596321Z",
     "start_time": "2020-05-14T18:48:23.844212Z"
    }
   },
   "outputs": [
    {
     "data": {
      "text/plain": [
       "RandomForestClassifier(bootstrap=True, ccp_alpha=0.0, class_weight=None,\n",
       "                       criterion='gini', max_depth=None, max_features='auto',\n",
       "                       max_leaf_nodes=None, max_samples=None,\n",
       "                       min_impurity_decrease=0.0, min_impurity_split=None,\n",
       "                       min_samples_leaf=1, min_samples_split=2,\n",
       "                       min_weight_fraction_leaf=0.0, n_estimators=100,\n",
       "                       n_jobs=None, oob_score=False, random_state=None,\n",
       "                       verbose=0, warm_start=False)"
      ]
     },
     "execution_count": 8,
     "metadata": {},
     "output_type": "execute_result"
    }
   ],
   "source": [
    "rf.fit(X_train, y_train)"
   ]
  },
  {
   "cell_type": "code",
   "execution_count": 9,
   "metadata": {
    "ExecuteTime": {
     "end_time": "2020-05-14T18:48:24.683315Z",
     "start_time": "2020-05-14T18:48:24.601052Z"
    }
   },
   "outputs": [
    {
     "data": {
      "text/plain": [
       "0.8789473684210526"
      ]
     },
     "execution_count": 9,
     "metadata": {},
     "output_type": "execute_result"
    }
   ],
   "source": [
    "rf.score(X_test, y_test)"
   ]
  },
  {
   "cell_type": "code",
   "execution_count": 10,
   "metadata": {
    "ExecuteTime": {
     "end_time": "2020-05-14T18:48:24.734958Z",
     "start_time": "2020-05-14T18:48:24.692965Z"
    }
   },
   "outputs": [],
   "source": [
    "def plot_features_importance(model):\n",
    "    model.feature_importances_\n",
    "    importances = pd.Series(data=rf.feature_importances_, index= X_train.columns)\n",
    "    importances_sorted = importances.sort_values()\n",
    "    importances_sorted.plot(kind='barh', color='red', figsize=(15,10))"
   ]
  },
  {
   "cell_type": "code",
   "execution_count": 11,
   "metadata": {
    "ExecuteTime": {
     "end_time": "2020-05-14T18:48:26.975252Z",
     "start_time": "2020-05-14T18:48:24.739612Z"
    }
   },
   "outputs": [
    {
     "data": {
      "image/png": "[encoded data removed]",
      "text/plain": [
       "<Figure size 1080x720 with 1 Axes>"
      ]
     },
     "metadata": {
      "needs_background": "light"
     },
     "output_type": "display_data"
    }
   ],
   "source": [
    "plot_features_importance(rf)"
   ]
  },
  {
   "cell_type": "markdown",
   "metadata": {},
   "source": [
    "Seems like there's too much noise with ALL 45 features. Going to break the data into and train models on:\n",
    "- Legs\n",
    "- Arms\n",
    "- Torso\n",
    "\n",
    "Goal:\n",
    "- Gain more insight on the devices, body parts, and their importance of prediciting an activity "
   ]
  },
  {
   "cell_type": "code",
   "execution_count": null,
   "metadata": {},
   "outputs": [],
   "source": []
  }
 ],
 "metadata": {
  "kernelspec": {
   "display_name": "Python 3",
   "language": "python",
   "name": "python3"
  },
  "language_info": {
   "codemirror_mode": {
    "name": "ipython",
    "version": 3
   },
   "file_extension": ".py",
   "mimetype": "text/x-python",
   "name": "python",
   "nbconvert_exporter": "python",
   "pygments_lexer": "ipython3",
   "version": "3.7.7"
  }
 },
 "nbformat": 4,
 "nbformat_minor": 4
}
