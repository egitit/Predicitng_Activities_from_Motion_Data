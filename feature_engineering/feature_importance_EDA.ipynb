{
 "cells": [
  {
   "cell_type": "code",
   "execution_count": 1,
   "metadata": {
    "ExecuteTime": {
     "end_time": "2020-05-15T20:16:58.047733Z",
     "start_time": "2020-05-15T20:16:54.797196Z"
    }
   },
   "outputs": [],
   "source": [
    "%run my_split_func2.ipynb\n",
    "# Function = my_train_test_split(X, y)\n",
    "%run plot_features_importance.ipynb\n",
    "#Function = plot_features_importance(model)"
   ]
  },
  {
   "cell_type": "code",
   "execution_count": 2,
   "metadata": {
    "ExecuteTime": {
     "end_time": "2020-05-15T20:16:58.174041Z",
     "start_time": "2020-05-15T20:16:58.050935Z"
    }
   },
   "outputs": [
    {
     "data": {
      "text/html": [
       "<div>\n",
       "<style scoped>\n",
       "    .dataframe tbody tr th:only-of-type {\n",
       "        vertical-align: middle;\n",
       "    }\n",
       "\n",
       "    .dataframe tbody tr th {\n",
       "        vertical-align: top;\n",
       "    }\n",
       "\n",
       "    .dataframe thead th {\n",
       "        text-align: right;\n",
       "    }\n",
       "</style>\n",
       "<table border=\"1\" class=\"dataframe\">\n",
       "  <thead>\n",
       "    <tr style=\"text-align: right;\">\n",
       "      <th></th>\n",
       "      <th>person</th>\n",
       "      <th>activity_number</th>\n",
       "      <th>time</th>\n",
       "      <th>T_xacc</th>\n",
       "      <th>T_yacc</th>\n",
       "      <th>T_zacc</th>\n",
       "      <th>T_xgyro</th>\n",
       "      <th>T_ygyro</th>\n",
       "      <th>T_zgyro</th>\n",
       "      <th>T_xmag</th>\n",
       "      <th>...</th>\n",
       "      <th>RL_zmag</th>\n",
       "      <th>LL_xacc</th>\n",
       "      <th>LL_yacc</th>\n",
       "      <th>LL_zacc</th>\n",
       "      <th>LL_xgyro</th>\n",
       "      <th>LL_ygyro</th>\n",
       "      <th>LL_zgyro</th>\n",
       "      <th>LL_xmag</th>\n",
       "      <th>LL_ymag</th>\n",
       "      <th>LL_zmag</th>\n",
       "    </tr>\n",
       "  </thead>\n",
       "  <tbody>\n",
       "    <tr>\n",
       "      <th>0</th>\n",
       "      <td>1</td>\n",
       "      <td>1</td>\n",
       "      <td>1.0</td>\n",
       "      <td>7.930544</td>\n",
       "      <td>1.169095</td>\n",
       "      <td>5.654536</td>\n",
       "      <td>0.002940</td>\n",
       "      <td>0.020659</td>\n",
       "      <td>-0.003139</td>\n",
       "      <td>-0.793103</td>\n",
       "      <td>...</td>\n",
       "      <td>-0.039000</td>\n",
       "      <td>-2.809729</td>\n",
       "      <td>-9.083978</td>\n",
       "      <td>2.626679</td>\n",
       "      <td>-0.005303</td>\n",
       "      <td>0.001935</td>\n",
       "      <td>-0.003317</td>\n",
       "      <td>0.740718</td>\n",
       "      <td>0.302500</td>\n",
       "      <td>-0.056373</td>\n",
       "    </tr>\n",
       "    <tr>\n",
       "      <th>1</th>\n",
       "      <td>1</td>\n",
       "      <td>1</td>\n",
       "      <td>2.0</td>\n",
       "      <td>7.883222</td>\n",
       "      <td>1.271661</td>\n",
       "      <td>5.700059</td>\n",
       "      <td>0.002205</td>\n",
       "      <td>0.020347</td>\n",
       "      <td>-0.003381</td>\n",
       "      <td>-0.792056</td>\n",
       "      <td>...</td>\n",
       "      <td>-0.039301</td>\n",
       "      <td>-2.796961</td>\n",
       "      <td>-9.086883</td>\n",
       "      <td>2.631203</td>\n",
       "      <td>-0.005166</td>\n",
       "      <td>0.001797</td>\n",
       "      <td>-0.003232</td>\n",
       "      <td>0.739271</td>\n",
       "      <td>0.302034</td>\n",
       "      <td>-0.056720</td>\n",
       "    </tr>\n",
       "    <tr>\n",
       "      <th>2</th>\n",
       "      <td>1</td>\n",
       "      <td>1</td>\n",
       "      <td>3.0</td>\n",
       "      <td>7.825126</td>\n",
       "      <td>1.340783</td>\n",
       "      <td>5.766320</td>\n",
       "      <td>0.002818</td>\n",
       "      <td>0.019563</td>\n",
       "      <td>-0.002821</td>\n",
       "      <td>-0.792395</td>\n",
       "      <td>...</td>\n",
       "      <td>-0.040353</td>\n",
       "      <td>-2.789059</td>\n",
       "      <td>-9.090416</td>\n",
       "      <td>2.629437</td>\n",
       "      <td>-0.005496</td>\n",
       "      <td>0.001615</td>\n",
       "      <td>-0.003151</td>\n",
       "      <td>0.738746</td>\n",
       "      <td>0.302321</td>\n",
       "      <td>-0.056930</td>\n",
       "    </tr>\n",
       "    <tr>\n",
       "      <th>3</th>\n",
       "      <td>1</td>\n",
       "      <td>1</td>\n",
       "      <td>4.0</td>\n",
       "      <td>7.838236</td>\n",
       "      <td>1.442390</td>\n",
       "      <td>5.724239</td>\n",
       "      <td>0.003405</td>\n",
       "      <td>0.020111</td>\n",
       "      <td>-0.003152</td>\n",
       "      <td>-0.791418</td>\n",
       "      <td>...</td>\n",
       "      <td>-0.041032</td>\n",
       "      <td>-2.780424</td>\n",
       "      <td>-9.095914</td>\n",
       "      <td>2.624423</td>\n",
       "      <td>-0.005100</td>\n",
       "      <td>0.001762</td>\n",
       "      <td>-0.002923</td>\n",
       "      <td>0.738183</td>\n",
       "      <td>0.302999</td>\n",
       "      <td>-0.057246</td>\n",
       "    </tr>\n",
       "    <tr>\n",
       "      <th>4</th>\n",
       "      <td>1</td>\n",
       "      <td>1</td>\n",
       "      <td>5.0</td>\n",
       "      <td>7.839314</td>\n",
       "      <td>1.497704</td>\n",
       "      <td>5.708884</td>\n",
       "      <td>0.003103</td>\n",
       "      <td>0.020234</td>\n",
       "      <td>-0.003310</td>\n",
       "      <td>-0.791132</td>\n",
       "      <td>...</td>\n",
       "      <td>-0.041533</td>\n",
       "      <td>-2.773596</td>\n",
       "      <td>-9.101732</td>\n",
       "      <td>2.611724</td>\n",
       "      <td>-0.005464</td>\n",
       "      <td>0.002143</td>\n",
       "      <td>-0.003231</td>\n",
       "      <td>0.737841</td>\n",
       "      <td>0.304157</td>\n",
       "      <td>-0.056492</td>\n",
       "    </tr>\n",
       "    <tr>\n",
       "      <th>...</th>\n",
       "      <td>...</td>\n",
       "      <td>...</td>\n",
       "      <td>...</td>\n",
       "      <td>...</td>\n",
       "      <td>...</td>\n",
       "      <td>...</td>\n",
       "      <td>...</td>\n",
       "      <td>...</td>\n",
       "      <td>...</td>\n",
       "      <td>...</td>\n",
       "      <td>...</td>\n",
       "      <td>...</td>\n",
       "      <td>...</td>\n",
       "      <td>...</td>\n",
       "      <td>...</td>\n",
       "      <td>...</td>\n",
       "      <td>...</td>\n",
       "      <td>...</td>\n",
       "      <td>...</td>\n",
       "      <td>...</td>\n",
       "      <td>...</td>\n",
       "    </tr>\n",
       "    <tr>\n",
       "      <th>755</th>\n",
       "      <td>8</td>\n",
       "      <td>19</td>\n",
       "      <td>1.0</td>\n",
       "      <td>9.557651</td>\n",
       "      <td>-0.270247</td>\n",
       "      <td>0.889742</td>\n",
       "      <td>-0.018187</td>\n",
       "      <td>-0.025092</td>\n",
       "      <td>-0.004337</td>\n",
       "      <td>-0.679222</td>\n",
       "      <td>...</td>\n",
       "      <td>0.006729</td>\n",
       "      <td>-10.063521</td>\n",
       "      <td>-0.619705</td>\n",
       "      <td>-1.140875</td>\n",
       "      <td>0.011341</td>\n",
       "      <td>-0.023558</td>\n",
       "      <td>-0.000605</td>\n",
       "      <td>0.642958</td>\n",
       "      <td>0.236710</td>\n",
       "      <td>0.255006</td>\n",
       "    </tr>\n",
       "    <tr>\n",
       "      <th>756</th>\n",
       "      <td>8</td>\n",
       "      <td>19</td>\n",
       "      <td>2.0</td>\n",
       "      <td>9.543666</td>\n",
       "      <td>-0.256911</td>\n",
       "      <td>1.084630</td>\n",
       "      <td>-0.024946</td>\n",
       "      <td>0.003205</td>\n",
       "      <td>0.001218</td>\n",
       "      <td>-0.688656</td>\n",
       "      <td>...</td>\n",
       "      <td>-0.106791</td>\n",
       "      <td>-10.025448</td>\n",
       "      <td>-1.088265</td>\n",
       "      <td>-1.242026</td>\n",
       "      <td>0.004165</td>\n",
       "      <td>0.019041</td>\n",
       "      <td>-0.021512</td>\n",
       "      <td>0.634369</td>\n",
       "      <td>0.256596</td>\n",
       "      <td>0.364230</td>\n",
       "    </tr>\n",
       "    <tr>\n",
       "      <th>757</th>\n",
       "      <td>8</td>\n",
       "      <td>19</td>\n",
       "      <td>3.0</td>\n",
       "      <td>9.511916</td>\n",
       "      <td>-0.201919</td>\n",
       "      <td>1.075178</td>\n",
       "      <td>-0.001791</td>\n",
       "      <td>0.004643</td>\n",
       "      <td>-0.017372</td>\n",
       "      <td>-0.660721</td>\n",
       "      <td>...</td>\n",
       "      <td>-0.009925</td>\n",
       "      <td>-10.018549</td>\n",
       "      <td>-0.919432</td>\n",
       "      <td>-1.106094</td>\n",
       "      <td>0.002843</td>\n",
       "      <td>-0.010134</td>\n",
       "      <td>-0.030319</td>\n",
       "      <td>0.660857</td>\n",
       "      <td>0.400970</td>\n",
       "      <td>0.208620</td>\n",
       "    </tr>\n",
       "    <tr>\n",
       "      <th>758</th>\n",
       "      <td>8</td>\n",
       "      <td>19</td>\n",
       "      <td>4.0</td>\n",
       "      <td>9.375888</td>\n",
       "      <td>-0.536230</td>\n",
       "      <td>0.363037</td>\n",
       "      <td>-0.067781</td>\n",
       "      <td>-0.004438</td>\n",
       "      <td>-0.033103</td>\n",
       "      <td>-0.718401</td>\n",
       "      <td>...</td>\n",
       "      <td>0.183034</td>\n",
       "      <td>-9.946248</td>\n",
       "      <td>-0.881898</td>\n",
       "      <td>-0.750747</td>\n",
       "      <td>0.065316</td>\n",
       "      <td>0.019333</td>\n",
       "      <td>0.006914</td>\n",
       "      <td>0.685286</td>\n",
       "      <td>-0.156595</td>\n",
       "      <td>0.134312</td>\n",
       "    </tr>\n",
       "    <tr>\n",
       "      <th>759</th>\n",
       "      <td>8</td>\n",
       "      <td>19</td>\n",
       "      <td>5.0</td>\n",
       "      <td>9.431383</td>\n",
       "      <td>-0.274984</td>\n",
       "      <td>0.553847</td>\n",
       "      <td>-0.093606</td>\n",
       "      <td>0.005759</td>\n",
       "      <td>-0.005918</td>\n",
       "      <td>-0.697486</td>\n",
       "      <td>...</td>\n",
       "      <td>-0.009218</td>\n",
       "      <td>-10.017905</td>\n",
       "      <td>-1.102235</td>\n",
       "      <td>-1.109637</td>\n",
       "      <td>0.076048</td>\n",
       "      <td>0.012068</td>\n",
       "      <td>-0.036647</td>\n",
       "      <td>0.664741</td>\n",
       "      <td>0.283675</td>\n",
       "      <td>0.271119</td>\n",
       "    </tr>\n",
       "  </tbody>\n",
       "</table>\n",
       "<p>760 rows × 48 columns</p>\n",
       "</div>"
      ],
      "text/plain": [
       "     person  activity_number  time    T_xacc    T_yacc    T_zacc   T_xgyro  \\\n",
       "0         1                1   1.0  7.930544  1.169095  5.654536  0.002940   \n",
       "1         1                1   2.0  7.883222  1.271661  5.700059  0.002205   \n",
       "2         1                1   3.0  7.825126  1.340783  5.766320  0.002818   \n",
       "3         1                1   4.0  7.838236  1.442390  5.724239  0.003405   \n",
       "4         1                1   5.0  7.839314  1.497704  5.708884  0.003103   \n",
       "..      ...              ...   ...       ...       ...       ...       ...   \n",
       "755       8               19   1.0  9.557651 -0.270247  0.889742 -0.018187   \n",
       "756       8               19   2.0  9.543666 -0.256911  1.084630 -0.024946   \n",
       "757       8               19   3.0  9.511916 -0.201919  1.075178 -0.001791   \n",
       "758       8               19   4.0  9.375888 -0.536230  0.363037 -0.067781   \n",
       "759       8               19   5.0  9.431383 -0.274984  0.553847 -0.093606   \n",
       "\n",
       "      T_ygyro   T_zgyro    T_xmag  ...   RL_zmag    LL_xacc   LL_yacc  \\\n",
       "0    0.020659 -0.003139 -0.793103  ... -0.039000  -2.809729 -9.083978   \n",
       "1    0.020347 -0.003381 -0.792056  ... -0.039301  -2.796961 -9.086883   \n",
       "2    0.019563 -0.002821 -0.792395  ... -0.040353  -2.789059 -9.090416   \n",
       "3    0.020111 -0.003152 -0.791418  ... -0.041032  -2.780424 -9.095914   \n",
       "4    0.020234 -0.003310 -0.791132  ... -0.041533  -2.773596 -9.101732   \n",
       "..        ...       ...       ...  ...       ...        ...       ...   \n",
       "755 -0.025092 -0.004337 -0.679222  ...  0.006729 -10.063521 -0.619705   \n",
       "756  0.003205  0.001218 -0.688656  ... -0.106791 -10.025448 -1.088265   \n",
       "757  0.004643 -0.017372 -0.660721  ... -0.009925 -10.018549 -0.919432   \n",
       "758 -0.004438 -0.033103 -0.718401  ...  0.183034  -9.946248 -0.881898   \n",
       "759  0.005759 -0.005918 -0.697486  ... -0.009218 -10.017905 -1.102235   \n",
       "\n",
       "      LL_zacc  LL_xgyro  LL_ygyro  LL_zgyro   LL_xmag   LL_ymag   LL_zmag  \n",
       "0    2.626679 -0.005303  0.001935 -0.003317  0.740718  0.302500 -0.056373  \n",
       "1    2.631203 -0.005166  0.001797 -0.003232  0.739271  0.302034 -0.056720  \n",
       "2    2.629437 -0.005496  0.001615 -0.003151  0.738746  0.302321 -0.056930  \n",
       "3    2.624423 -0.005100  0.001762 -0.002923  0.738183  0.302999 -0.057246  \n",
       "4    2.611724 -0.005464  0.002143 -0.003231  0.737841  0.304157 -0.056492  \n",
       "..        ...       ...       ...       ...       ...       ...       ...  \n",
       "755 -1.140875  0.011341 -0.023558 -0.000605  0.642958  0.236710  0.255006  \n",
       "756 -1.242026  0.004165  0.019041 -0.021512  0.634369  0.256596  0.364230  \n",
       "757 -1.106094  0.002843 -0.010134 -0.030319  0.660857  0.400970  0.208620  \n",
       "758 -0.750747  0.065316  0.019333  0.006914  0.685286 -0.156595  0.134312  \n",
       "759 -1.109637  0.076048  0.012068 -0.036647  0.664741  0.283675  0.271119  \n",
       "\n",
       "[760 rows x 48 columns]"
      ]
     },
     "execution_count": 2,
     "metadata": {},
     "output_type": "execute_result"
    }
   ],
   "source": [
    "# This Dataframe is working with the mean values for each minute of activity\n",
    "df"
   ]
  },
  {
   "cell_type": "code",
   "execution_count": 3,
   "metadata": {
    "ExecuteTime": {
     "end_time": "2020-05-15T20:16:58.202533Z",
     "start_time": "2020-05-15T20:16:58.195560Z"
    }
   },
   "outputs": [],
   "source": [
    "# df will return grouped dataframe to act on"
   ]
  },
  {
   "cell_type": "markdown",
   "metadata": {},
   "source": [
    "### Establish each body part dataframe for modeling"
   ]
  },
  {
   "cell_type": "code",
   "execution_count": 4,
   "metadata": {
    "ExecuteTime": {
     "end_time": "2020-05-15T20:16:58.263856Z",
     "start_time": "2020-05-15T20:16:58.227878Z"
    },
    "code_folding": [
     1
    ]
   },
   "outputs": [],
   "source": [
    "# This will drop Arms & Torso columns\n",
    "legs = df.drop(['LA_xacc', 'LA_yacc', 'LA_zacc', 'LA_xgyro', 'LA_ygyro',\n",
    "                'LA_zgyro', 'LA_xmag', 'LA_ymag', 'LA_zmag', 'RA_xacc', \n",
    "                'RA_yacc', 'RA_zacc', 'RA_xgyro', 'RA_ygyro', 'RA_zgyro', 'RA_xmag', \n",
    "                'RA_ymag', 'RA_zmag', 'T_xacc', 'T_yacc', 'T_zacc', 'T_xgyro', 'T_ygyro',\n",
    "                'T_zgyro', 'T_xmag', 'T_ymag', 'T_zmag'], axis=1)"
   ]
  },
  {
   "cell_type": "code",
   "execution_count": 5,
   "metadata": {
    "ExecuteTime": {
     "end_time": "2020-05-15T20:16:58.312540Z",
     "start_time": "2020-05-15T20:16:58.270398Z"
    },
    "code_folding": [
     1
    ]
   },
   "outputs": [],
   "source": [
    "# This will drop Legs & Torso\n",
    "arms = df.drop(['T_xacc', 'T_yacc', 'T_zacc', 'T_xgyro', 'T_ygyro', 'T_zgyro', \n",
    "                'T_xmag', 'T_ymag', 'T_zmag', 'RL_xacc', 'RL_yacc', 'RL_zacc', \n",
    "                'RL_xgyro', 'RL_ygyro', 'RL_zgyro', 'RL_xmag', 'RL_ymag', 'RL_zmag', \n",
    "                'LL_xacc', 'LL_yacc', 'LL_zacc', 'LL_xgyro', 'LL_ygyro', 'LL_zgyro', \n",
    "                'LL_xmag', 'LL_ymag', 'LL_zmag'], axis=1)"
   ]
  },
  {
   "cell_type": "code",
   "execution_count": 6,
   "metadata": {
    "ExecuteTime": {
     "end_time": "2020-05-15T20:16:58.363590Z",
     "start_time": "2020-05-15T20:16:58.330890Z"
    },
    "code_folding": [
     1
    ]
   },
   "outputs": [],
   "source": [
    "# This will drop arms & Legs\n",
    "torso = df.drop(['RA_xacc', 'RA_yacc', 'RA_zacc', 'RA_xgyro', 'RA_ygyro', 'RA_zgyro', \n",
    "                 'RA_xmag', 'RA_ymag', 'RA_zmag', 'LA_xacc', 'LA_yacc', 'LA_zacc', \n",
    "                 'LA_xgyro', 'LA_ygyro', 'LA_zgyro', 'LA_xmag', 'LA_ymag', 'LA_zmag', \n",
    "                 'RL_xacc', 'RL_yacc', 'RL_zacc', 'RL_xgyro', 'RL_ygyro', 'RL_zgyro', \n",
    "                 'RL_xmag', 'RL_ymag', 'RL_zmag', 'LL_xacc', 'LL_yacc', 'LL_zacc', \n",
    "                 'LL_xgyro', 'LL_ygyro', 'LL_zgyro', 'LL_xmag', 'LL_ymag', 'LL_zmag'], axis=1)"
   ]
  },
  {
   "cell_type": "markdown",
   "metadata": {},
   "source": [
    "# Train Model on Torso"
   ]
  },
  {
   "cell_type": "code",
   "execution_count": 7,
   "metadata": {
    "ExecuteTime": {
     "end_time": "2020-05-15T20:16:58.397506Z",
     "start_time": "2020-05-15T20:16:58.372481Z"
    }
   },
   "outputs": [],
   "source": [
    "rf_torso = RandomForestClassifier()"
   ]
  },
  {
   "cell_type": "code",
   "execution_count": 8,
   "metadata": {
    "ExecuteTime": {
     "end_time": "2020-05-15T20:16:58.432397Z",
     "start_time": "2020-05-15T20:16:58.411621Z"
    }
   },
   "outputs": [],
   "source": [
    "y = torso['activity_number']\n",
    "X = torso.drop('activity_number', axis=1)"
   ]
  },
  {
   "cell_type": "code",
   "execution_count": 9,
   "metadata": {
    "ExecuteTime": {
     "end_time": "2020-05-15T20:16:58.480170Z",
     "start_time": "2020-05-15T20:16:58.446363Z"
    }
   },
   "outputs": [],
   "source": [
    "X_train, X_test, y_train, y_test, random_values = my_train_test_split(X, y)"
   ]
  },
  {
   "cell_type": "code",
   "execution_count": 10,
   "metadata": {
    "ExecuteTime": {
     "end_time": "2020-05-15T20:16:59.450528Z",
     "start_time": "2020-05-15T20:16:58.506059Z"
    }
   },
   "outputs": [
    {
     "data": {
      "text/plain": [
       "RandomForestClassifier(bootstrap=True, ccp_alpha=0.0, class_weight=None,\n",
       "                       criterion='gini', max_depth=None, max_features='auto',\n",
       "                       max_leaf_nodes=None, max_samples=None,\n",
       "                       min_impurity_decrease=0.0, min_impurity_split=None,\n",
       "                       min_samples_leaf=1, min_samples_split=2,\n",
       "                       min_weight_fraction_leaf=0.0, n_estimators=100,\n",
       "                       n_jobs=None, oob_score=False, random_state=None,\n",
       "                       verbose=0, warm_start=False)"
      ]
     },
     "execution_count": 10,
     "metadata": {},
     "output_type": "execute_result"
    }
   ],
   "source": [
    "rf_torso.fit(X_train, y_train)"
   ]
  },
  {
   "cell_type": "code",
   "execution_count": 11,
   "metadata": {
    "ExecuteTime": {
     "end_time": "2020-05-15T20:16:59.556249Z",
     "start_time": "2020-05-15T20:16:59.466975Z"
    }
   },
   "outputs": [
    {
     "data": {
      "text/plain": [
       "0.5789473684210527"
      ]
     },
     "execution_count": 11,
     "metadata": {},
     "output_type": "execute_result"
    }
   ],
   "source": [
    "rf_torso.score(X_test, y_test)"
   ]
  },
  {
   "cell_type": "code",
   "execution_count": 12,
   "metadata": {
    "ExecuteTime": {
     "end_time": "2020-05-15T20:17:00.883356Z",
     "start_time": "2020-05-15T20:16:59.567895Z"
    }
   },
   "outputs": [
    {
     "data": {
      "image/png": "[encoded data removed]",
      "text/plain": [
       "<Figure size 1080x720 with 1 Axes>"
      ]
     },
     "metadata": {
      "needs_background": "light"
     },
     "output_type": "display_data"
    }
   ],
   "source": [
    "plot_features_importance(rf_torso, 'teal')"
   ]
  },
  {
   "cell_type": "markdown",
   "metadata": {},
   "source": [
    "# Train model on Arms"
   ]
  },
  {
   "cell_type": "code",
   "execution_count": 13,
   "metadata": {
    "ExecuteTime": {
     "end_time": "2020-05-15T20:17:00.914176Z",
     "start_time": "2020-05-15T20:17:00.888399Z"
    }
   },
   "outputs": [],
   "source": [
    "rf_arms = RandomForestClassifier()"
   ]
  },
  {
   "cell_type": "code",
   "execution_count": 14,
   "metadata": {
    "ExecuteTime": {
     "end_time": "2020-05-15T20:17:00.952233Z",
     "start_time": "2020-05-15T20:17:00.921199Z"
    }
   },
   "outputs": [],
   "source": [
    "y = arms['activity_number']\n",
    "X = arms.drop('activity_number', axis=1)"
   ]
  },
  {
   "cell_type": "code",
   "execution_count": 15,
   "metadata": {
    "ExecuteTime": {
     "end_time": "2020-05-15T20:17:00.986233Z",
     "start_time": "2020-05-15T20:17:00.957179Z"
    }
   },
   "outputs": [],
   "source": [
    "X_train, X_test, y_train, y_test, random_values = my_train_test_split(X, y)"
   ]
  },
  {
   "cell_type": "code",
   "execution_count": 16,
   "metadata": {
    "ExecuteTime": {
     "end_time": "2020-05-15T20:17:01.446535Z",
     "start_time": "2020-05-15T20:17:00.988380Z"
    }
   },
   "outputs": [
    {
     "data": {
      "text/plain": [
       "RandomForestClassifier(bootstrap=True, ccp_alpha=0.0, class_weight=None,\n",
       "                       criterion='gini', max_depth=None, max_features='auto',\n",
       "                       max_leaf_nodes=None, max_samples=None,\n",
       "                       min_impurity_decrease=0.0, min_impurity_split=None,\n",
       "                       min_samples_leaf=1, min_samples_split=2,\n",
       "                       min_weight_fraction_leaf=0.0, n_estimators=100,\n",
       "                       n_jobs=None, oob_score=False, random_state=None,\n",
       "                       verbose=0, warm_start=False)"
      ]
     },
     "execution_count": 16,
     "metadata": {},
     "output_type": "execute_result"
    }
   ],
   "source": [
    "rf_arms.fit(X_train, y_train)"
   ]
  },
  {
   "cell_type": "code",
   "execution_count": 17,
   "metadata": {
    "ExecuteTime": {
     "end_time": "2020-05-15T20:17:01.644096Z",
     "start_time": "2020-05-15T20:17:01.466640Z"
    }
   },
   "outputs": [
    {
     "data": {
      "text/plain": [
       "0.7315789473684211"
      ]
     },
     "execution_count": 17,
     "metadata": {},
     "output_type": "execute_result"
    }
   ],
   "source": [
    "rf_arms.score(X_test, y_test)"
   ]
  },
  {
   "cell_type": "code",
   "execution_count": 18,
   "metadata": {
    "ExecuteTime": {
     "end_time": "2020-05-15T20:17:02.321470Z",
     "start_time": "2020-05-15T20:17:01.663243Z"
    }
   },
   "outputs": [
    {
     "data": {
      "image/png": "[encoded data removed]",
      "text/plain": [
       "<Figure size 1080x720 with 1 Axes>"
      ]
     },
     "metadata": {
      "needs_background": "light"
     },
     "output_type": "display_data"
    }
   ],
   "source": [
    "plot_features_importance(rf_arms, 'red')"
   ]
  },
  {
   "cell_type": "markdown",
   "metadata": {},
   "source": [
    "# Train model on Legs"
   ]
  },
  {
   "cell_type": "code",
   "execution_count": 19,
   "metadata": {
    "ExecuteTime": {
     "end_time": "2020-05-15T20:17:02.337794Z",
     "start_time": "2020-05-15T20:17:02.330660Z"
    }
   },
   "outputs": [],
   "source": [
    "rf_legs = RandomForestClassifier()"
   ]
  },
  {
   "cell_type": "code",
   "execution_count": 20,
   "metadata": {
    "ExecuteTime": {
     "end_time": "2020-05-15T20:17:02.374124Z",
     "start_time": "2020-05-15T20:17:02.355775Z"
    }
   },
   "outputs": [],
   "source": [
    "y = legs['activity_number']\n",
    "X = legs.drop('activity_number', axis=1)"
   ]
  },
  {
   "cell_type": "code",
   "execution_count": 21,
   "metadata": {
    "ExecuteTime": {
     "end_time": "2020-05-15T20:17:02.432274Z",
     "start_time": "2020-05-15T20:17:02.386963Z"
    }
   },
   "outputs": [],
   "source": [
    "X_train, X_test, y_train, y_test, random_values = my_train_test_split(X, y)"
   ]
  },
  {
   "cell_type": "code",
   "execution_count": 22,
   "metadata": {
    "ExecuteTime": {
     "end_time": "2020-05-15T20:17:03.015626Z",
     "start_time": "2020-05-15T20:17:02.434194Z"
    }
   },
   "outputs": [
    {
     "data": {
      "text/plain": [
       "RandomForestClassifier(bootstrap=True, ccp_alpha=0.0, class_weight=None,\n",
       "                       criterion='gini', max_depth=None, max_features='auto',\n",
       "                       max_leaf_nodes=None, max_samples=None,\n",
       "                       min_impurity_decrease=0.0, min_impurity_split=None,\n",
       "                       min_samples_leaf=1, min_samples_split=2,\n",
       "                       min_weight_fraction_leaf=0.0, n_estimators=100,\n",
       "                       n_jobs=None, oob_score=False, random_state=None,\n",
       "                       verbose=0, warm_start=False)"
      ]
     },
     "execution_count": 22,
     "metadata": {},
     "output_type": "execute_result"
    }
   ],
   "source": [
    "rf_legs.fit(X_train, y_train)"
   ]
  },
  {
   "cell_type": "code",
   "execution_count": 23,
   "metadata": {
    "ExecuteTime": {
     "end_time": "2020-05-15T20:17:03.142796Z",
     "start_time": "2020-05-15T20:17:03.051677Z"
    },
    "scrolled": true
   },
   "outputs": [
    {
     "data": {
      "text/plain": [
       "0.8526315789473684"
      ]
     },
     "execution_count": 23,
     "metadata": {},
     "output_type": "execute_result"
    }
   ],
   "source": [
    "rf_legs.score(X_test, y_test)"
   ]
  },
  {
   "cell_type": "code",
   "execution_count": 24,
   "metadata": {
    "ExecuteTime": {
     "end_time": "2020-05-15T20:17:04.296981Z",
     "start_time": "2020-05-15T20:17:03.163822Z"
    }
   },
   "outputs": [
    {
     "data": {
      "image/png": "[encoded data removed]",
      "text/plain": [
       "<Figure size 1080x720 with 1 Axes>"
      ]
     },
     "metadata": {
      "needs_background": "light"
     },
     "output_type": "display_data"
    }
   ],
   "source": [
    "plot_features_importance(rf_legs, 'blue')"
   ]
  },
  {
   "cell_type": "markdown",
   "metadata": {},
   "source": [
    "## Torso conclusion:\n",
    "- Ranking of sensor importance for Torso:\n",
    "    - 1st mag(netometers)\n",
    "    - 2nd acc(elerometers)\n",
    "    - 3rd gyro(scopes)\n",
    "    \n",
    "### Leverage the Torso's x,y,z mag(netometers)"
   ]
  },
  {
   "cell_type": "markdown",
   "metadata": {},
   "source": [
    "## Arms conclusion:\n",
    "- Ranking of sensor importance for Arms:\n",
    "    - 1st mag(netometers)\n",
    "    - 2nd acc(elerometers)\n",
    "    - 3rd gyro(scopes)\n",
    "    \n",
    "### Leverage the Arms's x,y,z mag(netometers), mabe acc(elerometers) as a close 2nd..."
   ]
  },
  {
   "cell_type": "markdown",
   "metadata": {},
   "source": [
    "## Legs conclusion:\n",
    "- Ranking of sensor importance for Legs:\n",
    "    - 1st - TIE - mag(netometers) & acc(elerometers)\n",
    "    - 2nd - gyro(scopes)"
   ]
  },
  {
   "cell_type": "markdown",
   "metadata": {},
   "source": [
    "## Train model on limited combination\n",
    "Going to pull the following features from the dataframe:\n",
    "- Torso mag features (x,y,z)\n",
    "- Arms mag features (x,y,z)\n",
    "- Legs mag & acc (x,y,z)"
   ]
  },
  {
   "cell_type": "code",
   "execution_count": 25,
   "metadata": {
    "ExecuteTime": {
     "end_time": "2020-05-15T20:17:04.319903Z",
     "start_time": "2020-05-15T20:17:04.308158Z"
    }
   },
   "outputs": [],
   "source": [
    "rf_combo = RandomForestClassifier()"
   ]
  },
  {
   "cell_type": "code",
   "execution_count": 26,
   "metadata": {
    "ExecuteTime": {
     "end_time": "2020-05-15T20:17:04.366574Z",
     "start_time": "2020-05-15T20:17:04.334054Z"
    },
    "code_folding": []
   },
   "outputs": [],
   "source": [
    "drop_these = [\n",
    "    # Torso features to drop\n",
    "    'T_xacc', 'T_yacc', 'T_zacc', 'T_xgyro', 'T_ygyro', 'T_zgyro',\n",
    "    # Arm features to drop\n",
    "    'RA_xacc', 'RA_yacc', 'RA_zacc', 'RA_xgyro', 'RA_ygyro', 'RA_zgyro',\n",
    "    'LA_xacc', 'LA_yacc', 'LA_zacc', 'LA_xgyro', 'LA_ygyro', 'LA_zgyro',\n",
    "    #Leg features to drop\n",
    "    'RL_xacc', 'RL_yacc', 'RL_zacc', 'RL_xmag', 'RL_ymag', 'RL_zmag',\n",
    "    'LL_xacc', 'LL_yacc', 'LL_zacc', 'LL_xmag', 'LL_ymag', 'LL_zmag',\n",
    "    # Dropping person & time since it almost has 0 feature importance\n",
    "]"
   ]
  },
  {
   "cell_type": "code",
   "execution_count": 27,
   "metadata": {
    "ExecuteTime": {
     "end_time": "2020-05-15T20:17:04.396412Z",
     "start_time": "2020-05-15T20:17:04.373125Z"
    }
   },
   "outputs": [],
   "source": [
    "combo_df = df.drop(drop_these, axis=1)"
   ]
  },
  {
   "cell_type": "code",
   "execution_count": 28,
   "metadata": {
    "ExecuteTime": {
     "end_time": "2020-05-15T20:17:04.475558Z",
     "start_time": "2020-05-15T20:17:04.411677Z"
    }
   },
   "outputs": [
    {
     "data": {
      "text/html": [
       "<div>\n",
       "<style scoped>\n",
       "    .dataframe tbody tr th:only-of-type {\n",
       "        vertical-align: middle;\n",
       "    }\n",
       "\n",
       "    .dataframe tbody tr th {\n",
       "        vertical-align: top;\n",
       "    }\n",
       "\n",
       "    .dataframe thead th {\n",
       "        text-align: right;\n",
       "    }\n",
       "</style>\n",
       "<table border=\"1\" class=\"dataframe\">\n",
       "  <thead>\n",
       "    <tr style=\"text-align: right;\">\n",
       "      <th></th>\n",
       "      <th>person</th>\n",
       "      <th>activity_number</th>\n",
       "      <th>time</th>\n",
       "      <th>T_xmag</th>\n",
       "      <th>T_ymag</th>\n",
       "      <th>T_zmag</th>\n",
       "      <th>RA_xmag</th>\n",
       "      <th>RA_ymag</th>\n",
       "      <th>RA_zmag</th>\n",
       "      <th>LA_xmag</th>\n",
       "      <th>LA_ymag</th>\n",
       "      <th>LA_zmag</th>\n",
       "      <th>RL_xgyro</th>\n",
       "      <th>RL_ygyro</th>\n",
       "      <th>RL_zgyro</th>\n",
       "      <th>LL_xgyro</th>\n",
       "      <th>LL_ygyro</th>\n",
       "      <th>LL_zgyro</th>\n",
       "    </tr>\n",
       "  </thead>\n",
       "  <tbody>\n",
       "    <tr>\n",
       "      <th>0</th>\n",
       "      <td>1</td>\n",
       "      <td>1</td>\n",
       "      <td>1.0</td>\n",
       "      <td>-0.793103</td>\n",
       "      <td>-0.072006</td>\n",
       "      <td>0.131325</td>\n",
       "      <td>-0.563565</td>\n",
       "      <td>-0.570670</td>\n",
       "      <td>-0.202354</td>\n",
       "      <td>-0.648709</td>\n",
       "      <td>0.338936</td>\n",
       "      <td>0.076111</td>\n",
       "      <td>-0.000232</td>\n",
       "      <td>0.008071</td>\n",
       "      <td>-0.005528</td>\n",
       "      <td>-0.005303</td>\n",
       "      <td>0.001935</td>\n",
       "      <td>-0.003317</td>\n",
       "    </tr>\n",
       "    <tr>\n",
       "      <th>1</th>\n",
       "      <td>1</td>\n",
       "      <td>1</td>\n",
       "      <td>2.0</td>\n",
       "      <td>-0.792056</td>\n",
       "      <td>-0.076063</td>\n",
       "      <td>0.126504</td>\n",
       "      <td>-0.555162</td>\n",
       "      <td>-0.578211</td>\n",
       "      <td>-0.192863</td>\n",
       "      <td>-0.647243</td>\n",
       "      <td>0.337923</td>\n",
       "      <td>0.079152</td>\n",
       "      <td>0.000177</td>\n",
       "      <td>0.007755</td>\n",
       "      <td>-0.005822</td>\n",
       "      <td>-0.005166</td>\n",
       "      <td>0.001797</td>\n",
       "      <td>-0.003232</td>\n",
       "    </tr>\n",
       "    <tr>\n",
       "      <th>2</th>\n",
       "      <td>1</td>\n",
       "      <td>1</td>\n",
       "      <td>3.0</td>\n",
       "      <td>-0.792395</td>\n",
       "      <td>-0.076676</td>\n",
       "      <td>0.119918</td>\n",
       "      <td>-0.549699</td>\n",
       "      <td>-0.582941</td>\n",
       "      <td>-0.189006</td>\n",
       "      <td>-0.646768</td>\n",
       "      <td>0.338139</td>\n",
       "      <td>0.077506</td>\n",
       "      <td>-0.000511</td>\n",
       "      <td>0.007990</td>\n",
       "      <td>-0.006153</td>\n",
       "      <td>-0.005496</td>\n",
       "      <td>0.001615</td>\n",
       "      <td>-0.003151</td>\n",
       "    </tr>\n",
       "    <tr>\n",
       "      <th>3</th>\n",
       "      <td>1</td>\n",
       "      <td>1</td>\n",
       "      <td>4.0</td>\n",
       "      <td>-0.791418</td>\n",
       "      <td>-0.076935</td>\n",
       "      <td>0.123825</td>\n",
       "      <td>-0.541302</td>\n",
       "      <td>-0.590196</td>\n",
       "      <td>-0.181592</td>\n",
       "      <td>-0.648475</td>\n",
       "      <td>0.335099</td>\n",
       "      <td>0.070405</td>\n",
       "      <td>0.000019</td>\n",
       "      <td>0.008349</td>\n",
       "      <td>-0.005853</td>\n",
       "      <td>-0.005100</td>\n",
       "      <td>0.001762</td>\n",
       "      <td>-0.002923</td>\n",
       "    </tr>\n",
       "    <tr>\n",
       "      <th>4</th>\n",
       "      <td>1</td>\n",
       "      <td>1</td>\n",
       "      <td>5.0</td>\n",
       "      <td>-0.791132</td>\n",
       "      <td>-0.079372</td>\n",
       "      <td>0.124995</td>\n",
       "      <td>-0.537480</td>\n",
       "      <td>-0.594732</td>\n",
       "      <td>-0.175996</td>\n",
       "      <td>-0.651519</td>\n",
       "      <td>0.329680</td>\n",
       "      <td>0.067528</td>\n",
       "      <td>-0.000007</td>\n",
       "      <td>0.007939</td>\n",
       "      <td>-0.006059</td>\n",
       "      <td>-0.005464</td>\n",
       "      <td>0.002143</td>\n",
       "      <td>-0.003231</td>\n",
       "    </tr>\n",
       "    <tr>\n",
       "      <th>...</th>\n",
       "      <td>...</td>\n",
       "      <td>...</td>\n",
       "      <td>...</td>\n",
       "      <td>...</td>\n",
       "      <td>...</td>\n",
       "      <td>...</td>\n",
       "      <td>...</td>\n",
       "      <td>...</td>\n",
       "      <td>...</td>\n",
       "      <td>...</td>\n",
       "      <td>...</td>\n",
       "      <td>...</td>\n",
       "      <td>...</td>\n",
       "      <td>...</td>\n",
       "      <td>...</td>\n",
       "      <td>...</td>\n",
       "      <td>...</td>\n",
       "      <td>...</td>\n",
       "    </tr>\n",
       "    <tr>\n",
       "      <th>755</th>\n",
       "      <td>8</td>\n",
       "      <td>19</td>\n",
       "      <td>1.0</td>\n",
       "      <td>-0.679222</td>\n",
       "      <td>-0.181810</td>\n",
       "      <td>-0.243835</td>\n",
       "      <td>-0.261837</td>\n",
       "      <td>-0.361288</td>\n",
       "      <td>-0.194761</td>\n",
       "      <td>-0.191593</td>\n",
       "      <td>0.135017</td>\n",
       "      <td>-0.455834</td>\n",
       "      <td>0.037006</td>\n",
       "      <td>0.006736</td>\n",
       "      <td>0.029942</td>\n",
       "      <td>0.011341</td>\n",
       "      <td>-0.023558</td>\n",
       "      <td>-0.000605</td>\n",
       "    </tr>\n",
       "    <tr>\n",
       "      <th>756</th>\n",
       "      <td>8</td>\n",
       "      <td>19</td>\n",
       "      <td>2.0</td>\n",
       "      <td>-0.688656</td>\n",
       "      <td>-0.301232</td>\n",
       "      <td>-0.237127</td>\n",
       "      <td>-0.217667</td>\n",
       "      <td>-0.368338</td>\n",
       "      <td>-0.069998</td>\n",
       "      <td>-0.200031</td>\n",
       "      <td>0.075690</td>\n",
       "      <td>-0.472615</td>\n",
       "      <td>0.037611</td>\n",
       "      <td>-0.002659</td>\n",
       "      <td>0.020285</td>\n",
       "      <td>0.004165</td>\n",
       "      <td>0.019041</td>\n",
       "      <td>-0.021512</td>\n",
       "    </tr>\n",
       "    <tr>\n",
       "      <th>757</th>\n",
       "      <td>8</td>\n",
       "      <td>19</td>\n",
       "      <td>3.0</td>\n",
       "      <td>-0.660721</td>\n",
       "      <td>-0.141897</td>\n",
       "      <td>-0.398779</td>\n",
       "      <td>-0.071046</td>\n",
       "      <td>-0.375175</td>\n",
       "      <td>-0.209954</td>\n",
       "      <td>-0.042928</td>\n",
       "      <td>0.199028</td>\n",
       "      <td>-0.405811</td>\n",
       "      <td>0.029897</td>\n",
       "      <td>0.014308</td>\n",
       "      <td>0.000278</td>\n",
       "      <td>0.002843</td>\n",
       "      <td>-0.010134</td>\n",
       "      <td>-0.030319</td>\n",
       "    </tr>\n",
       "    <tr>\n",
       "      <th>758</th>\n",
       "      <td>8</td>\n",
       "      <td>19</td>\n",
       "      <td>4.0</td>\n",
       "      <td>-0.718401</td>\n",
       "      <td>-0.023834</td>\n",
       "      <td>0.190643</td>\n",
       "      <td>-0.281245</td>\n",
       "      <td>-0.184174</td>\n",
       "      <td>-0.162967</td>\n",
       "      <td>-0.333591</td>\n",
       "      <td>0.181358</td>\n",
       "      <td>-0.188207</td>\n",
       "      <td>0.063292</td>\n",
       "      <td>-0.007249</td>\n",
       "      <td>0.035794</td>\n",
       "      <td>0.065316</td>\n",
       "      <td>0.019333</td>\n",
       "      <td>0.006914</td>\n",
       "    </tr>\n",
       "    <tr>\n",
       "      <th>759</th>\n",
       "      <td>8</td>\n",
       "      <td>19</td>\n",
       "      <td>5.0</td>\n",
       "      <td>-0.697486</td>\n",
       "      <td>-0.197973</td>\n",
       "      <td>-0.220332</td>\n",
       "      <td>-0.239334</td>\n",
       "      <td>-0.386059</td>\n",
       "      <td>-0.108257</td>\n",
       "      <td>-0.179409</td>\n",
       "      <td>0.182757</td>\n",
       "      <td>-0.442856</td>\n",
       "      <td>0.095660</td>\n",
       "      <td>0.018079</td>\n",
       "      <td>0.019205</td>\n",
       "      <td>0.076048</td>\n",
       "      <td>0.012068</td>\n",
       "      <td>-0.036647</td>\n",
       "    </tr>\n",
       "  </tbody>\n",
       "</table>\n",
       "<p>760 rows × 18 columns</p>\n",
       "</div>"
      ],
      "text/plain": [
       "     person  activity_number  time    T_xmag    T_ymag    T_zmag   RA_xmag  \\\n",
       "0         1                1   1.0 -0.793103 -0.072006  0.131325 -0.563565   \n",
       "1         1                1   2.0 -0.792056 -0.076063  0.126504 -0.555162   \n",
       "2         1                1   3.0 -0.792395 -0.076676  0.119918 -0.549699   \n",
       "3         1                1   4.0 -0.791418 -0.076935  0.123825 -0.541302   \n",
       "4         1                1   5.0 -0.791132 -0.079372  0.124995 -0.537480   \n",
       "..      ...              ...   ...       ...       ...       ...       ...   \n",
       "755       8               19   1.0 -0.679222 -0.181810 -0.243835 -0.261837   \n",
       "756       8               19   2.0 -0.688656 -0.301232 -0.237127 -0.217667   \n",
       "757       8               19   3.0 -0.660721 -0.141897 -0.398779 -0.071046   \n",
       "758       8               19   4.0 -0.718401 -0.023834  0.190643 -0.281245   \n",
       "759       8               19   5.0 -0.697486 -0.197973 -0.220332 -0.239334   \n",
       "\n",
       "      RA_ymag   RA_zmag   LA_xmag   LA_ymag   LA_zmag  RL_xgyro  RL_ygyro  \\\n",
       "0   -0.570670 -0.202354 -0.648709  0.338936  0.076111 -0.000232  0.008071   \n",
       "1   -0.578211 -0.192863 -0.647243  0.337923  0.079152  0.000177  0.007755   \n",
       "2   -0.582941 -0.189006 -0.646768  0.338139  0.077506 -0.000511  0.007990   \n",
       "3   -0.590196 -0.181592 -0.648475  0.335099  0.070405  0.000019  0.008349   \n",
       "4   -0.594732 -0.175996 -0.651519  0.329680  0.067528 -0.000007  0.007939   \n",
       "..        ...       ...       ...       ...       ...       ...       ...   \n",
       "755 -0.361288 -0.194761 -0.191593  0.135017 -0.455834  0.037006  0.006736   \n",
       "756 -0.368338 -0.069998 -0.200031  0.075690 -0.472615  0.037611 -0.002659   \n",
       "757 -0.375175 -0.209954 -0.042928  0.199028 -0.405811  0.029897  0.014308   \n",
       "758 -0.184174 -0.162967 -0.333591  0.181358 -0.188207  0.063292 -0.007249   \n",
       "759 -0.386059 -0.108257 -0.179409  0.182757 -0.442856  0.095660  0.018079   \n",
       "\n",
       "     RL_zgyro  LL_xgyro  LL_ygyro  LL_zgyro  \n",
       "0   -0.005528 -0.005303  0.001935 -0.003317  \n",
       "1   -0.005822 -0.005166  0.001797 -0.003232  \n",
       "2   -0.006153 -0.005496  0.001615 -0.003151  \n",
       "3   -0.005853 -0.005100  0.001762 -0.002923  \n",
       "4   -0.006059 -0.005464  0.002143 -0.003231  \n",
       "..        ...       ...       ...       ...  \n",
       "755  0.029942  0.011341 -0.023558 -0.000605  \n",
       "756  0.020285  0.004165  0.019041 -0.021512  \n",
       "757  0.000278  0.002843 -0.010134 -0.030319  \n",
       "758  0.035794  0.065316  0.019333  0.006914  \n",
       "759  0.019205  0.076048  0.012068 -0.036647  \n",
       "\n",
       "[760 rows x 18 columns]"
      ]
     },
     "execution_count": 28,
     "metadata": {},
     "output_type": "execute_result"
    }
   ],
   "source": [
    "combo_df"
   ]
  },
  {
   "cell_type": "code",
   "execution_count": 29,
   "metadata": {
    "ExecuteTime": {
     "end_time": "2020-05-15T20:17:04.502157Z",
     "start_time": "2020-05-15T20:17:04.493452Z"
    }
   },
   "outputs": [],
   "source": [
    "y = combo_df['activity_number']\n",
    "X = combo_df.drop('activity_number', axis=1)"
   ]
  },
  {
   "cell_type": "code",
   "execution_count": 30,
   "metadata": {
    "ExecuteTime": {
     "end_time": "2020-05-15T20:17:04.562737Z",
     "start_time": "2020-05-15T20:17:04.507667Z"
    }
   },
   "outputs": [],
   "source": [
    "X_train, X_test, y_train, y_test, random_values = my_train_test_split(X, y)"
   ]
  },
  {
   "cell_type": "code",
   "execution_count": 31,
   "metadata": {
    "ExecuteTime": {
     "end_time": "2020-05-15T20:17:05.022313Z",
     "start_time": "2020-05-15T20:17:04.564991Z"
    }
   },
   "outputs": [
    {
     "data": {
      "text/plain": [
       "RandomForestClassifier(bootstrap=True, ccp_alpha=0.0, class_weight=None,\n",
       "                       criterion='gini', max_depth=None, max_features='auto',\n",
       "                       max_leaf_nodes=None, max_samples=None,\n",
       "                       min_impurity_decrease=0.0, min_impurity_split=None,\n",
       "                       min_samples_leaf=1, min_samples_split=2,\n",
       "                       min_weight_fraction_leaf=0.0, n_estimators=100,\n",
       "                       n_jobs=None, oob_score=False, random_state=None,\n",
       "                       verbose=0, warm_start=False)"
      ]
     },
     "execution_count": 31,
     "metadata": {},
     "output_type": "execute_result"
    }
   ],
   "source": [
    "rf_combo.fit(X_train, y_train)"
   ]
  },
  {
   "cell_type": "code",
   "execution_count": 32,
   "metadata": {
    "ExecuteTime": {
     "end_time": "2020-05-15T20:17:05.074482Z",
     "start_time": "2020-05-15T20:17:05.025454Z"
    }
   },
   "outputs": [
    {
     "data": {
      "text/plain": [
       "0.7263157894736842"
      ]
     },
     "execution_count": 32,
     "metadata": {},
     "output_type": "execute_result"
    }
   ],
   "source": [
    "rf_combo.score(X_test, y_test)"
   ]
  },
  {
   "cell_type": "code",
   "execution_count": 33,
   "metadata": {
    "ExecuteTime": {
     "end_time": "2020-05-15T20:17:05.639501Z",
     "start_time": "2020-05-15T20:17:05.077417Z"
    }
   },
   "outputs": [
    {
     "data": {
      "image/png": "[encoded data removed]",
      "text/plain": [
       "<Figure size 1080x720 with 1 Axes>"
      ]
     },
     "metadata": {
      "needs_background": "light"
     },
     "output_type": "display_data"
    }
   ],
   "source": [
    "plot_features_importance(rf_combo, 'purple')"
   ]
  },
  {
   "cell_type": "markdown",
   "metadata": {},
   "source": [
    "# Seems like the Torso sensors may have brought down the score... <br/> Will try combo with Arms & Legs"
   ]
  },
  {
   "cell_type": "code",
   "execution_count": 34,
   "metadata": {
    "ExecuteTime": {
     "end_time": "2020-05-15T20:17:05.662645Z",
     "start_time": "2020-05-15T20:17:05.654609Z"
    }
   },
   "outputs": [],
   "source": [
    "rf_combo2 = RandomForestClassifier()"
   ]
  },
  {
   "cell_type": "code",
   "execution_count": 35,
   "metadata": {
    "ExecuteTime": {
     "end_time": "2020-05-15T20:17:05.700225Z",
     "start_time": "2020-05-15T20:17:05.671795Z"
    },
    "code_folding": []
   },
   "outputs": [],
   "source": [
    "y = df['activity_number']\n",
    "X = df.drop(['T_xacc', 'T_yacc', 'T_zacc', \n",
    "     'T_xgyro', 'T_ygyro', 'T_zgyro', \n",
    "     'T_xmag', 'T_ymag', 'T_zmag', 'activity_number'], axis=1)"
   ]
  },
  {
   "cell_type": "code",
   "execution_count": 36,
   "metadata": {
    "ExecuteTime": {
     "end_time": "2020-05-15T20:17:05.732138Z",
     "start_time": "2020-05-15T20:17:05.703474Z"
    }
   },
   "outputs": [],
   "source": [
    "X_train, X_test, y_train, y_test, random_values = my_train_test_split(X, y)"
   ]
  },
  {
   "cell_type": "code",
   "execution_count": 37,
   "metadata": {
    "ExecuteTime": {
     "end_time": "2020-05-15T20:17:06.243963Z",
     "start_time": "2020-05-15T20:17:05.736058Z"
    }
   },
   "outputs": [
    {
     "data": {
      "text/plain": [
       "RandomForestClassifier(bootstrap=True, ccp_alpha=0.0, class_weight=None,\n",
       "                       criterion='gini', max_depth=None, max_features='auto',\n",
       "                       max_leaf_nodes=None, max_samples=None,\n",
       "                       min_impurity_decrease=0.0, min_impurity_split=None,\n",
       "                       min_samples_leaf=1, min_samples_split=2,\n",
       "                       min_weight_fraction_leaf=0.0, n_estimators=100,\n",
       "                       n_jobs=None, oob_score=False, random_state=None,\n",
       "                       verbose=0, warm_start=False)"
      ]
     },
     "execution_count": 37,
     "metadata": {},
     "output_type": "execute_result"
    }
   ],
   "source": [
    "rf_combo2.fit(X_train, y_train)"
   ]
  },
  {
   "cell_type": "code",
   "execution_count": 38,
   "metadata": {
    "ExecuteTime": {
     "end_time": "2020-05-15T20:17:06.295363Z",
     "start_time": "2020-05-15T20:17:06.247373Z"
    }
   },
   "outputs": [
    {
     "data": {
      "text/plain": [
       "0.8842105263157894"
      ]
     },
     "execution_count": 38,
     "metadata": {},
     "output_type": "execute_result"
    }
   ],
   "source": [
    "rf_combo2.score(X_test, y_test)"
   ]
  },
  {
   "cell_type": "code",
   "execution_count": 39,
   "metadata": {
    "ExecuteTime": {
     "end_time": "2020-05-15T20:17:06.939924Z",
     "start_time": "2020-05-15T20:17:06.311831Z"
    }
   },
   "outputs": [
    {
     "data": {
      "image/png": "[encoded data removed]",
      "text/plain": [
       "<Figure size 1080x720 with 1 Axes>"
      ]
     },
     "metadata": {
      "needs_background": "light"
     },
     "output_type": "display_data"
    }
   ],
   "source": [
    "plot_features_importance(rf_combo2, 'black')"
   ]
  },
  {
   "cell_type": "code",
   "execution_count": null,
   "metadata": {},
   "outputs": [],
   "source": []
  },
  {
   "cell_type": "markdown",
   "metadata": {},
   "source": [
    "### Train models on standard deviation & variance of the data"
   ]
  },
  {
   "cell_type": "code",
   "execution_count": 40,
   "metadata": {
    "ExecuteTime": {
     "end_time": "2020-05-15T20:17:06.948293Z",
     "start_time": "2020-05-15T20:17:06.942690Z"
    }
   },
   "outputs": [],
   "source": [
    "std = '/Users/Lisa/_Sports_Activity_Capstone/grouped_data/grouped_std_data.csv'\n",
    "var = '/Users/Lisa/_Sports_Activity_Capstone/grouped_data/grouped_variance_data.csv'"
   ]
  },
  {
   "cell_type": "code",
   "execution_count": 41,
   "metadata": {
    "ExecuteTime": {
     "end_time": "2020-05-15T20:17:07.025499Z",
     "start_time": "2020-05-15T20:17:06.956048Z"
    }
   },
   "outputs": [],
   "source": [
    "df_std = pd.read_csv(std)\n",
    "df_var = pd.read_csv(var)"
   ]
  },
  {
   "cell_type": "markdown",
   "metadata": {},
   "source": [
    "## Check feature importance for each dataframe"
   ]
  },
  {
   "cell_type": "markdown",
   "metadata": {},
   "source": [
    "### Checking feature importance for standard deviation data"
   ]
  },
  {
   "cell_type": "code",
   "execution_count": 42,
   "metadata": {
    "ExecuteTime": {
     "end_time": "2020-05-15T20:17:07.040322Z",
     "start_time": "2020-05-15T20:17:07.027644Z"
    }
   },
   "outputs": [],
   "source": [
    "rf_std = RandomForestClassifier()"
   ]
  },
  {
   "cell_type": "code",
   "execution_count": 43,
   "metadata": {
    "ExecuteTime": {
     "end_time": "2020-05-15T20:17:07.069309Z",
     "start_time": "2020-05-15T20:17:07.044947Z"
    }
   },
   "outputs": [],
   "source": [
    "y = df_std['activity_number']\n",
    "X = df_std.drop('activity_number', axis=1)"
   ]
  },
  {
   "cell_type": "code",
   "execution_count": 44,
   "metadata": {
    "ExecuteTime": {
     "end_time": "2020-05-15T20:17:07.103051Z",
     "start_time": "2020-05-15T20:17:07.075121Z"
    }
   },
   "outputs": [],
   "source": [
    "X_train, X_test, y_train, y_test, random_values = my_train_test_split(X, y)"
   ]
  },
  {
   "cell_type": "code",
   "execution_count": 45,
   "metadata": {
    "ExecuteTime": {
     "end_time": "2020-05-15T20:17:08.085087Z",
     "start_time": "2020-05-15T20:17:07.106767Z"
    }
   },
   "outputs": [
    {
     "data": {
      "text/plain": [
       "RandomForestClassifier(bootstrap=True, ccp_alpha=0.0, class_weight=None,\n",
       "                       criterion='gini', max_depth=None, max_features='auto',\n",
       "                       max_leaf_nodes=None, max_samples=None,\n",
       "                       min_impurity_decrease=0.0, min_impurity_split=None,\n",
       "                       min_samples_leaf=1, min_samples_split=2,\n",
       "                       min_weight_fraction_leaf=0.0, n_estimators=100,\n",
       "                       n_jobs=None, oob_score=False, random_state=None,\n",
       "                       verbose=0, warm_start=False)"
      ]
     },
     "execution_count": 45,
     "metadata": {},
     "output_type": "execute_result"
    }
   ],
   "source": [
    "rf_std.fit(X_train, y_train)"
   ]
  },
  {
   "cell_type": "code",
   "execution_count": 46,
   "metadata": {
    "ExecuteTime": {
     "end_time": "2020-05-15T20:17:08.176779Z",
     "start_time": "2020-05-15T20:17:08.100446Z"
    }
   },
   "outputs": [
    {
     "data": {
      "text/plain": [
       "0.8210526315789474"
      ]
     },
     "execution_count": 46,
     "metadata": {},
     "output_type": "execute_result"
    }
   ],
   "source": [
    "rf_std.score(X_test, y_test)"
   ]
  },
  {
   "cell_type": "code",
   "execution_count": 47,
   "metadata": {
    "ExecuteTime": {
     "end_time": "2020-05-15T20:17:09.067436Z",
     "start_time": "2020-05-15T20:17:08.183891Z"
    }
   },
   "outputs": [
    {
     "data": {
      "image/png": "[encoded data removed]",
      "text/plain": [
       "<Figure size 1080x720 with 1 Axes>"
      ]
     },
     "metadata": {
      "needs_background": "light"
     },
     "output_type": "display_data"
    }
   ],
   "source": [
    "plot_features_importance(rf_std, 'orange')"
   ]
  },
  {
   "cell_type": "markdown",
   "metadata": {},
   "source": [
    "### Checking feature importance for variance data"
   ]
  },
  {
   "cell_type": "code",
   "execution_count": 48,
   "metadata": {
    "ExecuteTime": {
     "end_time": "2020-05-15T20:17:09.086266Z",
     "start_time": "2020-05-15T20:17:09.070276Z"
    }
   },
   "outputs": [],
   "source": [
    "rf_var = RandomForestClassifier()"
   ]
  },
  {
   "cell_type": "code",
   "execution_count": 49,
   "metadata": {
    "ExecuteTime": {
     "end_time": "2020-05-15T20:17:09.104633Z",
     "start_time": "2020-05-15T20:17:09.091427Z"
    }
   },
   "outputs": [],
   "source": [
    "y = df_var['activity_number']\n",
    "X = df_var.drop('activity_number', axis=1)"
   ]
  },
  {
   "cell_type": "code",
   "execution_count": 50,
   "metadata": {
    "ExecuteTime": {
     "end_time": "2020-05-15T20:17:09.142139Z",
     "start_time": "2020-05-15T20:17:09.109830Z"
    }
   },
   "outputs": [],
   "source": [
    "X_train, X_test, y_train, y_test, random_values = my_train_test_split(X, y)"
   ]
  },
  {
   "cell_type": "code",
   "execution_count": 51,
   "metadata": {
    "ExecuteTime": {
     "end_time": "2020-05-15T20:17:09.688795Z",
     "start_time": "2020-05-15T20:17:09.155053Z"
    }
   },
   "outputs": [
    {
     "data": {
      "text/plain": [
       "RandomForestClassifier(bootstrap=True, ccp_alpha=0.0, class_weight=None,\n",
       "                       criterion='gini', max_depth=None, max_features='auto',\n",
       "                       max_leaf_nodes=None, max_samples=None,\n",
       "                       min_impurity_decrease=0.0, min_impurity_split=None,\n",
       "                       min_samples_leaf=1, min_samples_split=2,\n",
       "                       min_weight_fraction_leaf=0.0, n_estimators=100,\n",
       "                       n_jobs=None, oob_score=False, random_state=None,\n",
       "                       verbose=0, warm_start=False)"
      ]
     },
     "execution_count": 51,
     "metadata": {},
     "output_type": "execute_result"
    }
   ],
   "source": [
    "rf_var.fit(X_train, y_train)"
   ]
  },
  {
   "cell_type": "code",
   "execution_count": 52,
   "metadata": {
    "ExecuteTime": {
     "end_time": "2020-05-15T20:17:09.767320Z",
     "start_time": "2020-05-15T20:17:09.696244Z"
    }
   },
   "outputs": [
    {
     "data": {
      "text/plain": [
       "0.8894736842105263"
      ]
     },
     "execution_count": 52,
     "metadata": {},
     "output_type": "execute_result"
    }
   ],
   "source": [
    "rf_var.score(X_test, y_test)"
   ]
  },
  {
   "cell_type": "code",
   "execution_count": 53,
   "metadata": {
    "ExecuteTime": {
     "end_time": "2020-05-15T20:17:10.799493Z",
     "start_time": "2020-05-15T20:17:09.786779Z"
    }
   },
   "outputs": [
    {
     "data": {
      "image/png": "[encoded data removed]",
      "text/plain": [
       "<Figure size 1080x720 with 1 Axes>"
      ]
     },
     "metadata": {
      "needs_background": "light"
     },
     "output_type": "display_data"
    }
   ],
   "source": [
    "plot_features_importance(rf_var, 'pink')"
   ]
  },
  {
   "cell_type": "markdown",
   "metadata": {},
   "source": [
    "## Interesting performance on Legs & Variance - will combine the two dataframes"
   ]
  },
  {
   "cell_type": "code",
   "execution_count": 54,
   "metadata": {
    "ExecuteTime": {
     "end_time": "2020-05-15T20:17:10.813574Z",
     "start_time": "2020-05-15T20:17:10.802219Z"
    },
    "code_folding": []
   },
   "outputs": [],
   "source": [
    "# Combine the df_var & legs dataframe for modeling"
   ]
  },
  {
   "cell_type": "code",
   "execution_count": 55,
   "metadata": {
    "ExecuteTime": {
     "end_time": "2020-05-15T20:17:10.836766Z",
     "start_time": "2020-05-15T20:17:10.818367Z"
    }
   },
   "outputs": [],
   "source": [
    "rf_legs_and_var = RandomForestClassifier()"
   ]
  },
  {
   "cell_type": "code",
   "execution_count": 56,
   "metadata": {
    "ExecuteTime": {
     "end_time": "2020-05-15T20:17:10.867459Z",
     "start_time": "2020-05-15T20:17:10.845777Z"
    }
   },
   "outputs": [],
   "source": [
    "legs_and_var = pd.merge(df_var, legs, how='inner', on=['person', 'activity_number', 'time'])"
   ]
  },
  {
   "cell_type": "code",
   "execution_count": 57,
   "metadata": {
    "ExecuteTime": {
     "end_time": "2020-05-15T20:17:10.885267Z",
     "start_time": "2020-05-15T20:17:10.871616Z"
    }
   },
   "outputs": [],
   "source": [
    "y = legs_and_var['activity_number']\n",
    "X = legs_and_var.drop('activity_number', axis=1)"
   ]
  },
  {
   "cell_type": "code",
   "execution_count": 58,
   "metadata": {
    "ExecuteTime": {
     "end_time": "2020-05-15T20:17:10.920129Z",
     "start_time": "2020-05-15T20:17:10.890501Z"
    }
   },
   "outputs": [],
   "source": [
    "X_train, X_test, y_train, y_test, random_values = my_train_test_split(X, y)"
   ]
  },
  {
   "cell_type": "code",
   "execution_count": 59,
   "metadata": {
    "ExecuteTime": {
     "end_time": "2020-05-15T20:17:11.480623Z",
     "start_time": "2020-05-15T20:17:10.926453Z"
    }
   },
   "outputs": [
    {
     "data": {
      "text/plain": [
       "RandomForestClassifier(bootstrap=True, ccp_alpha=0.0, class_weight=None,\n",
       "                       criterion='gini', max_depth=None, max_features='auto',\n",
       "                       max_leaf_nodes=None, max_samples=None,\n",
       "                       min_impurity_decrease=0.0, min_impurity_split=None,\n",
       "                       min_samples_leaf=1, min_samples_split=2,\n",
       "                       min_weight_fraction_leaf=0.0, n_estimators=100,\n",
       "                       n_jobs=None, oob_score=False, random_state=None,\n",
       "                       verbose=0, warm_start=False)"
      ]
     },
     "execution_count": 59,
     "metadata": {},
     "output_type": "execute_result"
    }
   ],
   "source": [
    "rf_legs_and_var.fit(X_train, y_train)"
   ]
  },
  {
   "cell_type": "code",
   "execution_count": 60,
   "metadata": {
    "ExecuteTime": {
     "end_time": "2020-05-15T20:17:11.547317Z",
     "start_time": "2020-05-15T20:17:11.495760Z"
    }
   },
   "outputs": [
    {
     "data": {
      "text/plain": [
       "0.968421052631579"
      ]
     },
     "execution_count": 60,
     "metadata": {},
     "output_type": "execute_result"
    }
   ],
   "source": [
    "rf_legs_and_var.score(X_test, y_test)"
   ]
  },
  {
   "cell_type": "code",
   "execution_count": 61,
   "metadata": {
    "ExecuteTime": {
     "end_time": "2020-05-15T20:17:13.430841Z",
     "start_time": "2020-05-15T20:17:11.563631Z"
    }
   },
   "outputs": [
    {
     "data": {
      "image/png": "[encoded data removed]",
      "text/plain": [
       "<Figure size 1080x720 with 1 Axes>"
      ]
     },
     "metadata": {
      "needs_background": "light"
     },
     "output_type": "display_data"
    }
   ],
   "source": [
    "plot_features_importance(rf_legs_and_var, 'red')"
   ]
  },
  {
   "cell_type": "markdown",
   "metadata": {},
   "source": [
    "## Will also look at combining combo2 & Variance"
   ]
  },
  {
   "cell_type": "code",
   "execution_count": 62,
   "metadata": {
    "ExecuteTime": {
     "end_time": "2020-05-15T20:17:13.461335Z",
     "start_time": "2020-05-15T20:17:13.445308Z"
    }
   },
   "outputs": [],
   "source": [
    "rf_combo2_and_var = RandomForestClassifier()"
   ]
  },
  {
   "cell_type": "code",
   "execution_count": 63,
   "metadata": {
    "ExecuteTime": {
     "end_time": "2020-05-15T20:17:13.512730Z",
     "start_time": "2020-05-15T20:17:13.486740Z"
    },
    "code_folding": []
   },
   "outputs": [],
   "source": [
    "df = df.drop(['T_xacc', 'T_yacc', 'T_zacc', 'T_xgyro', 'T_ygyro',\n",
    "                'T_zgyro', 'T_xmag', 'T_ymag', 'T_zmag'], axis=1)"
   ]
  },
  {
   "cell_type": "code",
   "execution_count": 64,
   "metadata": {
    "ExecuteTime": {
     "end_time": "2020-05-15T20:17:13.548653Z",
     "start_time": "2020-05-15T20:17:13.515378Z"
    }
   },
   "outputs": [],
   "source": [
    "combo2_and_var = pd.merge(df, df_var, how='inner', on=['person', 'activity_number', 'time'])"
   ]
  },
  {
   "cell_type": "code",
   "execution_count": 65,
   "metadata": {
    "ExecuteTime": {
     "end_time": "2020-05-15T20:17:13.571487Z",
     "start_time": "2020-05-15T20:17:13.551203Z"
    }
   },
   "outputs": [],
   "source": [
    "y = combo2_and_var['activity_number']\n",
    "X = combo2_and_var.drop('activity_number', axis=1)"
   ]
  },
  {
   "cell_type": "code",
   "execution_count": 66,
   "metadata": {
    "ExecuteTime": {
     "end_time": "2020-05-15T20:17:13.601776Z",
     "start_time": "2020-05-15T20:17:13.575779Z"
    }
   },
   "outputs": [],
   "source": [
    "X_train, X_test, y_train, y_test, random_values = my_train_test_split(X, y)"
   ]
  },
  {
   "cell_type": "code",
   "execution_count": 67,
   "metadata": {
    "ExecuteTime": {
     "end_time": "2020-05-15T20:17:14.403678Z",
     "start_time": "2020-05-15T20:17:13.626307Z"
    }
   },
   "outputs": [
    {
     "data": {
      "text/plain": [
       "RandomForestClassifier(bootstrap=True, ccp_alpha=0.0, class_weight=None,\n",
       "                       criterion='gini', max_depth=None, max_features='auto',\n",
       "                       max_leaf_nodes=None, max_samples=None,\n",
       "                       min_impurity_decrease=0.0, min_impurity_split=None,\n",
       "                       min_samples_leaf=1, min_samples_split=2,\n",
       "                       min_weight_fraction_leaf=0.0, n_estimators=100,\n",
       "                       n_jobs=None, oob_score=False, random_state=None,\n",
       "                       verbose=0, warm_start=False)"
      ]
     },
     "execution_count": 67,
     "metadata": {},
     "output_type": "execute_result"
    }
   ],
   "source": [
    "rf_combo2_and_var.fit(X_train, y_train)"
   ]
  },
  {
   "cell_type": "code",
   "execution_count": 68,
   "metadata": {
    "ExecuteTime": {
     "end_time": "2020-05-15T20:17:14.530244Z",
     "start_time": "2020-05-15T20:17:14.435288Z"
    }
   },
   "outputs": [
    {
     "data": {
      "text/plain": [
       "0.9526315789473684"
      ]
     },
     "execution_count": 68,
     "metadata": {},
     "output_type": "execute_result"
    }
   ],
   "source": [
    "rf_combo2_and_var.score(X_test, y_test)"
   ]
  },
  {
   "cell_type": "code",
   "execution_count": 69,
   "metadata": {
    "ExecuteTime": {
     "end_time": "2020-05-15T20:17:16.518836Z",
     "start_time": "2020-05-15T20:17:14.541405Z"
    },
    "scrolled": false
   },
   "outputs": [
    {
     "data": {
      "image/png": "[encoded data removed]",
      "text/plain": [
       "<Figure size 1080x720 with 1 Axes>"
      ]
     },
     "metadata": {
      "needs_background": "light"
     },
     "output_type": "display_data"
    }
   ],
   "source": [
    "plot_features_importance(rf_combo2_and_var, 'orange')"
   ]
  },
  {
   "cell_type": "markdown",
   "metadata": {},
   "source": [
    "### Create my own cross_val_score function"
   ]
  },
  {
   "cell_type": "code",
   "execution_count": 70,
   "metadata": {
    "ExecuteTime": {
     "end_time": "2020-05-15T20:17:16.551162Z",
     "start_time": "2020-05-15T20:17:16.523236Z"
    },
    "code_folding": []
   },
   "outputs": [],
   "source": [
    "def my_cross_val_score(df):\n",
    "    '''\n",
    "    Create a function that will train/test my model with EVERY possible combination of participants\n",
    "    \n",
    "    parameters:\n",
    "    df - the dataframe where the training and testing sets will come from \n",
    "    \n",
    "    returns:\n",
    "    testing_sets, scores\n",
    "    '''\n",
    "    testing_sets = []\n",
    "    scores = []\n",
    "    for x in range(1,9):\n",
    "        for y in range(1,9):\n",
    "            if x == y:\n",
    "                continue\n",
    "            elif (y, x) in testing_sets:\n",
    "                continue\n",
    "            else:\n",
    "                testing_sets.append((x,y))\n",
    "    for a in testing_sets:\n",
    "        mask = (df['person'] == a[0]) | (df['person'] == a[1])\n",
    "        mask2 = (df['person'] != a[0]) & (df['person'] != a[1])\n",
    "        X_train = df[mask2].drop('activity_number', axis=1)\n",
    "        X_test = df[mask].drop('activity_number', axis=1)\n",
    "        y_train = df[mask2]['activity_number']\n",
    "        y_test = df[mask]['activity_number']\n",
    "        \n",
    "        rf = RandomForestClassifier()\n",
    "        rf.fit(X_train, y_train)\n",
    "        score = rf.score(X_test, y_test)\n",
    "        scores.append(score)\n",
    "    return testing_sets, scores"
   ]
  },
  {
   "cell_type": "code",
   "execution_count": 71,
   "metadata": {
    "ExecuteTime": {
     "end_time": "2020-05-15T20:17:34.352954Z",
     "start_time": "2020-05-15T20:17:16.554918Z"
    }
   },
   "outputs": [],
   "source": [
    "testing_sets, scores = my_cross_val_score(combo2_and_var)"
   ]
  },
  {
   "cell_type": "code",
   "execution_count": 72,
   "metadata": {
    "ExecuteTime": {
     "end_time": "2020-05-15T20:17:34.374158Z",
     "start_time": "2020-05-15T20:17:34.355397Z"
    },
    "code_folding": []
   },
   "outputs": [
    {
     "name": "stdout",
     "output_type": "stream",
     "text": [
      "Testing set (1, 2) scored: 0.96\n",
      "Testing set (1, 3) scored: 0.98\n",
      "Testing set (1, 4) scored: 0.97\n",
      "Testing set (1, 5) scored: 0.97\n",
      "Testing set (1, 6) scored: 0.99\n",
      "Testing set (1, 7) scored: 0.95\n",
      "Testing set (1, 8) scored: 0.99\n",
      "Testing set (2, 3) scored: 0.92\n",
      "Testing set (2, 4) scored: 0.95\n",
      "Testing set (2, 5) scored: 0.94\n",
      "Testing set (2, 6) scored: 0.93\n",
      "Testing set (2, 7) scored: 0.94\n",
      "Testing set (2, 8) scored: 0.94\n",
      "Testing set (3, 4) scored: 0.97\n",
      "Testing set (3, 5) scored: 0.95\n",
      "Testing set (3, 6) scored: 0.98\n",
      "Testing set (3, 7) scored: 0.93\n",
      "Testing set (3, 8) scored: 0.98\n",
      "Testing set (4, 5) scored: 0.95\n",
      "Testing set (4, 6) scored: 0.97\n",
      "Testing set (4, 7) scored: 0.95\n",
      "Testing set (4, 8) scored: 0.95\n",
      "Testing set (5, 6) scored: 0.97\n",
      "Testing set (5, 7) scored: 0.94\n",
      "Testing set (5, 8) scored: 0.98\n",
      "Testing set (6, 7) scored: 0.97\n",
      "Testing set (6, 8) scored: 0.97\n",
      "Testing set (7, 8) scored: 0.94\n"
     ]
    }
   ],
   "source": [
    "for x in range(0, len(testing_sets)):\n",
    "    print(f\"Testing set {testing_sets[x]} scored: {scores[x].round(2)}\")"
   ]
  },
  {
   "cell_type": "code",
   "execution_count": 73,
   "metadata": {
    "ExecuteTime": {
     "end_time": "2020-05-15T20:17:34.412363Z",
     "start_time": "2020-05-15T20:17:34.380468Z"
    }
   },
   "outputs": [
    {
     "data": {
      "text/plain": [
       "0.9588345864661656"
      ]
     },
     "execution_count": 73,
     "metadata": {},
     "output_type": "execute_result"
    }
   ],
   "source": [
    "sum(scores) / len(scores)"
   ]
  },
  {
   "cell_type": "code",
   "execution_count": null,
   "metadata": {},
   "outputs": [],
   "source": []
  }
 ],
 "metadata": {
  "kernelspec": {
   "display_name": "Python 3",
   "language": "python",
   "name": "python3"
  },
  "language_info": {
   "codemirror_mode": {
    "name": "ipython",
    "version": 3
   },
   "file_extension": ".py",
   "mimetype": "text/x-python",
   "name": "python",
   "nbconvert_exporter": "python",
   "pygments_lexer": "ipython3",
   "version": "3.7.7"
  }
 },
 "nbformat": 4,
 "nbformat_minor": 4
}
