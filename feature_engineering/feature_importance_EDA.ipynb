{
 "cells": [
  {
   "cell_type": "code",
   "execution_count": 1,
   "metadata": {
    "ExecuteTime": {
     "end_time": "2020-05-14T18:30:37.022815Z",
     "start_time": "2020-05-14T18:30:35.239715Z"
    }
   },
   "outputs": [],
   "source": [
    "%run my_split_func2.ipynb\n",
    "# Function = my_train_test_split(X, y)\n",
    "%run plot_features_importance.ipynb\n",
    "#Function = plot_features_importance(model)"
   ]
  },
  {
   "cell_type": "code",
   "execution_count": 2,
   "metadata": {
    "ExecuteTime": {
     "end_time": "2020-05-14T18:30:37.116051Z",
     "start_time": "2020-05-14T18:30:37.025682Z"
    },
    "collapsed": true
   },
   "outputs": [
    {
     "data": {
      "text/html": [
       "<div>\n",
       "<style scoped>\n",
       "    .dataframe tbody tr th:only-of-type {\n",
       "        vertical-align: middle;\n",
       "    }\n",
       "\n",
       "    .dataframe tbody tr th {\n",
       "        vertical-align: top;\n",
       "    }\n",
       "\n",
       "    .dataframe thead th {\n",
       "        text-align: right;\n",
       "    }\n",
       "</style>\n",
       "<table border=\"1\" class=\"dataframe\">\n",
       "  <thead>\n",
       "    <tr style=\"text-align: right;\">\n",
       "      <th></th>\n",
       "      <th>person</th>\n",
       "      <th>activity_number</th>\n",
       "      <th>time</th>\n",
       "      <th>T_xacc</th>\n",
       "      <th>T_yacc</th>\n",
       "      <th>T_zacc</th>\n",
       "      <th>T_xgyro</th>\n",
       "      <th>T_ygyro</th>\n",
       "      <th>T_zgyro</th>\n",
       "      <th>T_xmag</th>\n",
       "      <th>...</th>\n",
       "      <th>RL_zmag</th>\n",
       "      <th>LL_xacc</th>\n",
       "      <th>LL_yacc</th>\n",
       "      <th>LL_zacc</th>\n",
       "      <th>LL_xgyro</th>\n",
       "      <th>LL_ygyro</th>\n",
       "      <th>LL_zgyro</th>\n",
       "      <th>LL_xmag</th>\n",
       "      <th>LL_ymag</th>\n",
       "      <th>LL_zmag</th>\n",
       "    </tr>\n",
       "  </thead>\n",
       "  <tbody>\n",
       "    <tr>\n",
       "      <th>0</th>\n",
       "      <td>1</td>\n",
       "      <td>1</td>\n",
       "      <td>1.0</td>\n",
       "      <td>7.930544</td>\n",
       "      <td>1.169095</td>\n",
       "      <td>5.654536</td>\n",
       "      <td>0.002940</td>\n",
       "      <td>0.020659</td>\n",
       "      <td>-0.003139</td>\n",
       "      <td>-0.793103</td>\n",
       "      <td>...</td>\n",
       "      <td>-0.039000</td>\n",
       "      <td>-2.809729</td>\n",
       "      <td>-9.083978</td>\n",
       "      <td>2.626679</td>\n",
       "      <td>-0.005303</td>\n",
       "      <td>0.001935</td>\n",
       "      <td>-0.003317</td>\n",
       "      <td>0.740718</td>\n",
       "      <td>0.302500</td>\n",
       "      <td>-0.056373</td>\n",
       "    </tr>\n",
       "    <tr>\n",
       "      <th>1</th>\n",
       "      <td>1</td>\n",
       "      <td>1</td>\n",
       "      <td>2.0</td>\n",
       "      <td>7.883222</td>\n",
       "      <td>1.271661</td>\n",
       "      <td>5.700059</td>\n",
       "      <td>0.002205</td>\n",
       "      <td>0.020347</td>\n",
       "      <td>-0.003381</td>\n",
       "      <td>-0.792056</td>\n",
       "      <td>...</td>\n",
       "      <td>-0.039301</td>\n",
       "      <td>-2.796961</td>\n",
       "      <td>-9.086883</td>\n",
       "      <td>2.631203</td>\n",
       "      <td>-0.005166</td>\n",
       "      <td>0.001797</td>\n",
       "      <td>-0.003232</td>\n",
       "      <td>0.739271</td>\n",
       "      <td>0.302034</td>\n",
       "      <td>-0.056720</td>\n",
       "    </tr>\n",
       "    <tr>\n",
       "      <th>2</th>\n",
       "      <td>1</td>\n",
       "      <td>1</td>\n",
       "      <td>3.0</td>\n",
       "      <td>7.825126</td>\n",
       "      <td>1.340783</td>\n",
       "      <td>5.766320</td>\n",
       "      <td>0.002818</td>\n",
       "      <td>0.019563</td>\n",
       "      <td>-0.002821</td>\n",
       "      <td>-0.792395</td>\n",
       "      <td>...</td>\n",
       "      <td>-0.040353</td>\n",
       "      <td>-2.789059</td>\n",
       "      <td>-9.090416</td>\n",
       "      <td>2.629437</td>\n",
       "      <td>-0.005496</td>\n",
       "      <td>0.001615</td>\n",
       "      <td>-0.003151</td>\n",
       "      <td>0.738746</td>\n",
       "      <td>0.302321</td>\n",
       "      <td>-0.056930</td>\n",
       "    </tr>\n",
       "    <tr>\n",
       "      <th>3</th>\n",
       "      <td>1</td>\n",
       "      <td>1</td>\n",
       "      <td>4.0</td>\n",
       "      <td>7.838236</td>\n",
       "      <td>1.442390</td>\n",
       "      <td>5.724239</td>\n",
       "      <td>0.003405</td>\n",
       "      <td>0.020111</td>\n",
       "      <td>-0.003152</td>\n",
       "      <td>-0.791418</td>\n",
       "      <td>...</td>\n",
       "      <td>-0.041032</td>\n",
       "      <td>-2.780424</td>\n",
       "      <td>-9.095914</td>\n",
       "      <td>2.624423</td>\n",
       "      <td>-0.005100</td>\n",
       "      <td>0.001762</td>\n",
       "      <td>-0.002923</td>\n",
       "      <td>0.738183</td>\n",
       "      <td>0.302999</td>\n",
       "      <td>-0.057246</td>\n",
       "    </tr>\n",
       "    <tr>\n",
       "      <th>4</th>\n",
       "      <td>1</td>\n",
       "      <td>1</td>\n",
       "      <td>5.0</td>\n",
       "      <td>7.839314</td>\n",
       "      <td>1.497704</td>\n",
       "      <td>5.708884</td>\n",
       "      <td>0.003103</td>\n",
       "      <td>0.020234</td>\n",
       "      <td>-0.003310</td>\n",
       "      <td>-0.791132</td>\n",
       "      <td>...</td>\n",
       "      <td>-0.041533</td>\n",
       "      <td>-2.773596</td>\n",
       "      <td>-9.101732</td>\n",
       "      <td>2.611724</td>\n",
       "      <td>-0.005464</td>\n",
       "      <td>0.002143</td>\n",
       "      <td>-0.003231</td>\n",
       "      <td>0.737841</td>\n",
       "      <td>0.304157</td>\n",
       "      <td>-0.056492</td>\n",
       "    </tr>\n",
       "    <tr>\n",
       "      <th>...</th>\n",
       "      <td>...</td>\n",
       "      <td>...</td>\n",
       "      <td>...</td>\n",
       "      <td>...</td>\n",
       "      <td>...</td>\n",
       "      <td>...</td>\n",
       "      <td>...</td>\n",
       "      <td>...</td>\n",
       "      <td>...</td>\n",
       "      <td>...</td>\n",
       "      <td>...</td>\n",
       "      <td>...</td>\n",
       "      <td>...</td>\n",
       "      <td>...</td>\n",
       "      <td>...</td>\n",
       "      <td>...</td>\n",
       "      <td>...</td>\n",
       "      <td>...</td>\n",
       "      <td>...</td>\n",
       "      <td>...</td>\n",
       "      <td>...</td>\n",
       "    </tr>\n",
       "    <tr>\n",
       "      <th>755</th>\n",
       "      <td>8</td>\n",
       "      <td>19</td>\n",
       "      <td>1.0</td>\n",
       "      <td>9.557651</td>\n",
       "      <td>-0.270247</td>\n",
       "      <td>0.889742</td>\n",
       "      <td>-0.018187</td>\n",
       "      <td>-0.025092</td>\n",
       "      <td>-0.004337</td>\n",
       "      <td>-0.679222</td>\n",
       "      <td>...</td>\n",
       "      <td>0.006729</td>\n",
       "      <td>-10.063521</td>\n",
       "      <td>-0.619705</td>\n",
       "      <td>-1.140875</td>\n",
       "      <td>0.011341</td>\n",
       "      <td>-0.023558</td>\n",
       "      <td>-0.000605</td>\n",
       "      <td>0.642958</td>\n",
       "      <td>0.236710</td>\n",
       "      <td>0.255006</td>\n",
       "    </tr>\n",
       "    <tr>\n",
       "      <th>756</th>\n",
       "      <td>8</td>\n",
       "      <td>19</td>\n",
       "      <td>2.0</td>\n",
       "      <td>9.543666</td>\n",
       "      <td>-0.256911</td>\n",
       "      <td>1.084630</td>\n",
       "      <td>-0.024946</td>\n",
       "      <td>0.003205</td>\n",
       "      <td>0.001218</td>\n",
       "      <td>-0.688656</td>\n",
       "      <td>...</td>\n",
       "      <td>-0.106791</td>\n",
       "      <td>-10.025448</td>\n",
       "      <td>-1.088265</td>\n",
       "      <td>-1.242026</td>\n",
       "      <td>0.004165</td>\n",
       "      <td>0.019041</td>\n",
       "      <td>-0.021512</td>\n",
       "      <td>0.634369</td>\n",
       "      <td>0.256596</td>\n",
       "      <td>0.364230</td>\n",
       "    </tr>\n",
       "    <tr>\n",
       "      <th>757</th>\n",
       "      <td>8</td>\n",
       "      <td>19</td>\n",
       "      <td>3.0</td>\n",
       "      <td>9.511916</td>\n",
       "      <td>-0.201919</td>\n",
       "      <td>1.075178</td>\n",
       "      <td>-0.001791</td>\n",
       "      <td>0.004643</td>\n",
       "      <td>-0.017372</td>\n",
       "      <td>-0.660721</td>\n",
       "      <td>...</td>\n",
       "      <td>-0.009925</td>\n",
       "      <td>-10.018549</td>\n",
       "      <td>-0.919432</td>\n",
       "      <td>-1.106094</td>\n",
       "      <td>0.002843</td>\n",
       "      <td>-0.010134</td>\n",
       "      <td>-0.030319</td>\n",
       "      <td>0.660857</td>\n",
       "      <td>0.400970</td>\n",
       "      <td>0.208620</td>\n",
       "    </tr>\n",
       "    <tr>\n",
       "      <th>758</th>\n",
       "      <td>8</td>\n",
       "      <td>19</td>\n",
       "      <td>4.0</td>\n",
       "      <td>9.375888</td>\n",
       "      <td>-0.536230</td>\n",
       "      <td>0.363037</td>\n",
       "      <td>-0.067781</td>\n",
       "      <td>-0.004438</td>\n",
       "      <td>-0.033103</td>\n",
       "      <td>-0.718401</td>\n",
       "      <td>...</td>\n",
       "      <td>0.183034</td>\n",
       "      <td>-9.946248</td>\n",
       "      <td>-0.881898</td>\n",
       "      <td>-0.750747</td>\n",
       "      <td>0.065316</td>\n",
       "      <td>0.019333</td>\n",
       "      <td>0.006914</td>\n",
       "      <td>0.685286</td>\n",
       "      <td>-0.156595</td>\n",
       "      <td>0.134312</td>\n",
       "    </tr>\n",
       "    <tr>\n",
       "      <th>759</th>\n",
       "      <td>8</td>\n",
       "      <td>19</td>\n",
       "      <td>5.0</td>\n",
       "      <td>9.431383</td>\n",
       "      <td>-0.274984</td>\n",
       "      <td>0.553847</td>\n",
       "      <td>-0.093606</td>\n",
       "      <td>0.005759</td>\n",
       "      <td>-0.005918</td>\n",
       "      <td>-0.697486</td>\n",
       "      <td>...</td>\n",
       "      <td>-0.009218</td>\n",
       "      <td>-10.017905</td>\n",
       "      <td>-1.102235</td>\n",
       "      <td>-1.109637</td>\n",
       "      <td>0.076048</td>\n",
       "      <td>0.012068</td>\n",
       "      <td>-0.036647</td>\n",
       "      <td>0.664741</td>\n",
       "      <td>0.283675</td>\n",
       "      <td>0.271119</td>\n",
       "    </tr>\n",
       "  </tbody>\n",
       "</table>\n",
       "<p>760 rows × 48 columns</p>\n",
       "</div>"
      ],
      "text/plain": [
       "     person  activity_number  time    T_xacc    T_yacc    T_zacc   T_xgyro  \\\n",
       "0         1                1   1.0  7.930544  1.169095  5.654536  0.002940   \n",
       "1         1                1   2.0  7.883222  1.271661  5.700059  0.002205   \n",
       "2         1                1   3.0  7.825126  1.340783  5.766320  0.002818   \n",
       "3         1                1   4.0  7.838236  1.442390  5.724239  0.003405   \n",
       "4         1                1   5.0  7.839314  1.497704  5.708884  0.003103   \n",
       "..      ...              ...   ...       ...       ...       ...       ...   \n",
       "755       8               19   1.0  9.557651 -0.270247  0.889742 -0.018187   \n",
       "756       8               19   2.0  9.543666 -0.256911  1.084630 -0.024946   \n",
       "757       8               19   3.0  9.511916 -0.201919  1.075178 -0.001791   \n",
       "758       8               19   4.0  9.375888 -0.536230  0.363037 -0.067781   \n",
       "759       8               19   5.0  9.431383 -0.274984  0.553847 -0.093606   \n",
       "\n",
       "      T_ygyro   T_zgyro    T_xmag  ...   RL_zmag    LL_xacc   LL_yacc  \\\n",
       "0    0.020659 -0.003139 -0.793103  ... -0.039000  -2.809729 -9.083978   \n",
       "1    0.020347 -0.003381 -0.792056  ... -0.039301  -2.796961 -9.086883   \n",
       "2    0.019563 -0.002821 -0.792395  ... -0.040353  -2.789059 -9.090416   \n",
       "3    0.020111 -0.003152 -0.791418  ... -0.041032  -2.780424 -9.095914   \n",
       "4    0.020234 -0.003310 -0.791132  ... -0.041533  -2.773596 -9.101732   \n",
       "..        ...       ...       ...  ...       ...        ...       ...   \n",
       "755 -0.025092 -0.004337 -0.679222  ...  0.006729 -10.063521 -0.619705   \n",
       "756  0.003205  0.001218 -0.688656  ... -0.106791 -10.025448 -1.088265   \n",
       "757  0.004643 -0.017372 -0.660721  ... -0.009925 -10.018549 -0.919432   \n",
       "758 -0.004438 -0.033103 -0.718401  ...  0.183034  -9.946248 -0.881898   \n",
       "759  0.005759 -0.005918 -0.697486  ... -0.009218 -10.017905 -1.102235   \n",
       "\n",
       "      LL_zacc  LL_xgyro  LL_ygyro  LL_zgyro   LL_xmag   LL_ymag   LL_zmag  \n",
       "0    2.626679 -0.005303  0.001935 -0.003317  0.740718  0.302500 -0.056373  \n",
       "1    2.631203 -0.005166  0.001797 -0.003232  0.739271  0.302034 -0.056720  \n",
       "2    2.629437 -0.005496  0.001615 -0.003151  0.738746  0.302321 -0.056930  \n",
       "3    2.624423 -0.005100  0.001762 -0.002923  0.738183  0.302999 -0.057246  \n",
       "4    2.611724 -0.005464  0.002143 -0.003231  0.737841  0.304157 -0.056492  \n",
       "..        ...       ...       ...       ...       ...       ...       ...  \n",
       "755 -1.140875  0.011341 -0.023558 -0.000605  0.642958  0.236710  0.255006  \n",
       "756 -1.242026  0.004165  0.019041 -0.021512  0.634369  0.256596  0.364230  \n",
       "757 -1.106094  0.002843 -0.010134 -0.030319  0.660857  0.400970  0.208620  \n",
       "758 -0.750747  0.065316  0.019333  0.006914  0.685286 -0.156595  0.134312  \n",
       "759 -1.109637  0.076048  0.012068 -0.036647  0.664741  0.283675  0.271119  \n",
       "\n",
       "[760 rows x 48 columns]"
      ]
     },
     "execution_count": 2,
     "metadata": {},
     "output_type": "execute_result"
    }
   ],
   "source": [
    "# This Dataframe is working with the mean values for each minute of activity\n",
    "df"
   ]
  },
  {
   "cell_type": "code",
   "execution_count": 3,
   "metadata": {
    "ExecuteTime": {
     "end_time": "2020-05-14T18:30:37.138626Z",
     "start_time": "2020-05-14T18:30:37.124362Z"
    }
   },
   "outputs": [],
   "source": [
    "# df will return grouped dataframe to act on"
   ]
  },
  {
   "cell_type": "markdown",
   "metadata": {},
   "source": [
    "### Establish each body part dataframe for modeling"
   ]
  },
  {
   "cell_type": "code",
   "execution_count": 4,
   "metadata": {
    "ExecuteTime": {
     "end_time": "2020-05-14T18:30:37.185334Z",
     "start_time": "2020-05-14T18:30:37.155439Z"
    },
    "code_folding": [
     1
    ]
   },
   "outputs": [],
   "source": [
    "# This will drop Arms & Torso columns\n",
    "legs = df.drop(['LA_xacc', 'LA_yacc', 'LA_zacc', 'LA_xgyro', 'LA_ygyro',\n",
    "                'LA_zgyro', 'LA_xmag', 'LA_ymag', 'LA_zmag', 'RA_xacc', \n",
    "                'RA_yacc', 'RA_zacc', 'RA_xgyro', 'RA_ygyro', 'RA_zgyro', 'RA_xmag', \n",
    "                'RA_ymag', 'RA_zmag', 'T_xacc', 'T_yacc', 'T_zacc', 'T_xgyro', 'T_ygyro',\n",
    "                'T_zgyro', 'T_xmag', 'T_ymag', 'T_zmag'], axis=1)"
   ]
  },
  {
   "cell_type": "code",
   "execution_count": 5,
   "metadata": {
    "ExecuteTime": {
     "end_time": "2020-05-14T18:30:37.223162Z",
     "start_time": "2020-05-14T18:30:37.191693Z"
    },
    "code_folding": [
     1
    ]
   },
   "outputs": [],
   "source": [
    "# This will drop Legs & Torso\n",
    "arms = df.drop(['T_xacc', 'T_yacc', 'T_zacc', 'T_xgyro', 'T_ygyro', 'T_zgyro', \n",
    "                'T_xmag', 'T_ymag', 'T_zmag', 'RL_xacc', 'RL_yacc', 'RL_zacc', \n",
    "                'RL_xgyro', 'RL_ygyro', 'RL_zgyro', 'RL_xmag', 'RL_ymag', 'RL_zmag', \n",
    "                'LL_xacc', 'LL_yacc', 'LL_zacc', 'LL_xgyro', 'LL_ygyro', 'LL_zgyro', \n",
    "                'LL_xmag', 'LL_ymag', 'LL_zmag'], axis=1)"
   ]
  },
  {
   "cell_type": "code",
   "execution_count": 6,
   "metadata": {
    "ExecuteTime": {
     "end_time": "2020-05-14T18:30:37.281471Z",
     "start_time": "2020-05-14T18:30:37.252207Z"
    },
    "code_folding": [
     1
    ]
   },
   "outputs": [],
   "source": [
    "# This will drop arms & Legs\n",
    "torso = df.drop(['RA_xacc', 'RA_yacc', 'RA_zacc', 'RA_xgyro', 'RA_ygyro', 'RA_zgyro', \n",
    "                 'RA_xmag', 'RA_ymag', 'RA_zmag', 'LA_xacc', 'LA_yacc', 'LA_zacc', \n",
    "                 'LA_xgyro', 'LA_ygyro', 'LA_zgyro', 'LA_xmag', 'LA_ymag', 'LA_zmag', \n",
    "                 'RL_xacc', 'RL_yacc', 'RL_zacc', 'RL_xgyro', 'RL_ygyro', 'RL_zgyro', \n",
    "                 'RL_xmag', 'RL_ymag', 'RL_zmag', 'LL_xacc', 'LL_yacc', 'LL_zacc', \n",
    "                 'LL_xgyro', 'LL_ygyro', 'LL_zgyro', 'LL_xmag', 'LL_ymag', 'LL_zmag'], axis=1)"
   ]
  },
  {
   "cell_type": "markdown",
   "metadata": {},
   "source": [
    "# Train Model on Torso"
   ]
  },
  {
   "cell_type": "code",
   "execution_count": 7,
   "metadata": {
    "ExecuteTime": {
     "end_time": "2020-05-14T18:30:37.357065Z",
     "start_time": "2020-05-14T18:30:37.339087Z"
    }
   },
   "outputs": [],
   "source": [
    "rf_torso = RandomForestClassifier()"
   ]
  },
  {
   "cell_type": "code",
   "execution_count": 8,
   "metadata": {
    "ExecuteTime": {
     "end_time": "2020-05-14T18:30:37.432375Z",
     "start_time": "2020-05-14T18:30:37.401404Z"
    }
   },
   "outputs": [],
   "source": [
    "y = torso['activity_number']\n",
    "X = torso.drop('activity_number', axis=1)"
   ]
  },
  {
   "cell_type": "code",
   "execution_count": 9,
   "metadata": {
    "ExecuteTime": {
     "end_time": "2020-05-14T18:30:37.471321Z",
     "start_time": "2020-05-14T18:30:37.435953Z"
    }
   },
   "outputs": [],
   "source": [
    "X_train, X_test, y_train, y_test, random_values = my_train_test_split(X, y)"
   ]
  },
  {
   "cell_type": "code",
   "execution_count": 10,
   "metadata": {
    "ExecuteTime": {
     "end_time": "2020-05-14T18:30:38.237602Z",
     "start_time": "2020-05-14T18:30:37.481507Z"
    }
   },
   "outputs": [
    {
     "data": {
      "text/plain": [
       "RandomForestClassifier(bootstrap=True, ccp_alpha=0.0, class_weight=None,\n",
       "                       criterion='gini', max_depth=None, max_features='auto',\n",
       "                       max_leaf_nodes=None, max_samples=None,\n",
       "                       min_impurity_decrease=0.0, min_impurity_split=None,\n",
       "                       min_samples_leaf=1, min_samples_split=2,\n",
       "                       min_weight_fraction_leaf=0.0, n_estimators=100,\n",
       "                       n_jobs=None, oob_score=False, random_state=None,\n",
       "                       verbose=0, warm_start=False)"
      ]
     },
     "execution_count": 10,
     "metadata": {},
     "output_type": "execute_result"
    }
   ],
   "source": [
    "rf_torso.fit(X_train, y_train)"
   ]
  },
  {
   "cell_type": "code",
   "execution_count": 11,
   "metadata": {
    "ExecuteTime": {
     "end_time": "2020-05-14T18:30:38.311766Z",
     "start_time": "2020-05-14T18:30:38.242601Z"
    }
   },
   "outputs": [
    {
     "data": {
      "text/plain": [
       "0.5842105263157895"
      ]
     },
     "execution_count": 11,
     "metadata": {},
     "output_type": "execute_result"
    }
   ],
   "source": [
    "rf_torso.score(X_test, y_test)"
   ]
  },
  {
   "cell_type": "code",
   "execution_count": 12,
   "metadata": {
    "ExecuteTime": {
     "end_time": "2020-05-14T18:30:40.225440Z",
     "start_time": "2020-05-14T18:30:38.326022Z"
    }
   },
   "outputs": [
    {
     "data": {
      "image/png": "[encoded data removed]",
      "text/plain": [
       "<Figure size 1080x720 with 1 Axes>"
      ]
     },
     "metadata": {
      "needs_background": "light"
     },
     "output_type": "display_data"
    }
   ],
   "source": [
    "plot_features_importance(rf_torso, 'teal')"
   ]
  },
  {
   "cell_type": "markdown",
   "metadata": {},
   "source": [
    "# Train model on Arms"
   ]
  },
  {
   "cell_type": "code",
   "execution_count": 13,
   "metadata": {
    "ExecuteTime": {
     "end_time": "2020-05-14T18:30:40.277904Z",
     "start_time": "2020-05-14T18:30:40.255434Z"
    }
   },
   "outputs": [],
   "source": [
    "rf_arms = RandomForestClassifier()"
   ]
  },
  {
   "cell_type": "code",
   "execution_count": 14,
   "metadata": {
    "ExecuteTime": {
     "end_time": "2020-05-14T18:30:40.313920Z",
     "start_time": "2020-05-14T18:30:40.280718Z"
    }
   },
   "outputs": [],
   "source": [
    "y = arms['activity_number']\n",
    "X = arms.drop('activity_number', axis=1)"
   ]
  },
  {
   "cell_type": "code",
   "execution_count": 15,
   "metadata": {
    "ExecuteTime": {
     "end_time": "2020-05-14T18:30:40.356118Z",
     "start_time": "2020-05-14T18:30:40.316005Z"
    }
   },
   "outputs": [],
   "source": [
    "X_train, X_test, y_train, y_test, random_values = my_train_test_split(X, y)"
   ]
  },
  {
   "cell_type": "code",
   "execution_count": 16,
   "metadata": {
    "ExecuteTime": {
     "end_time": "2020-05-14T18:30:40.863861Z",
     "start_time": "2020-05-14T18:30:40.359098Z"
    }
   },
   "outputs": [
    {
     "data": {
      "text/plain": [
       "RandomForestClassifier(bootstrap=True, ccp_alpha=0.0, class_weight=None,\n",
       "                       criterion='gini', max_depth=None, max_features='auto',\n",
       "                       max_leaf_nodes=None, max_samples=None,\n",
       "                       min_impurity_decrease=0.0, min_impurity_split=None,\n",
       "                       min_samples_leaf=1, min_samples_split=2,\n",
       "                       min_weight_fraction_leaf=0.0, n_estimators=100,\n",
       "                       n_jobs=None, oob_score=False, random_state=None,\n",
       "                       verbose=0, warm_start=False)"
      ]
     },
     "execution_count": 16,
     "metadata": {},
     "output_type": "execute_result"
    }
   ],
   "source": [
    "rf_arms.fit(X_train, y_train)"
   ]
  },
  {
   "cell_type": "code",
   "execution_count": 17,
   "metadata": {
    "ExecuteTime": {
     "end_time": "2020-05-14T18:30:40.929607Z",
     "start_time": "2020-05-14T18:30:40.873375Z"
    }
   },
   "outputs": [
    {
     "data": {
      "text/plain": [
       "0.8105263157894737"
      ]
     },
     "execution_count": 17,
     "metadata": {},
     "output_type": "execute_result"
    }
   ],
   "source": [
    "rf_arms.score(X_test, y_test)"
   ]
  },
  {
   "cell_type": "code",
   "execution_count": 18,
   "metadata": {
    "ExecuteTime": {
     "end_time": "2020-05-14T18:30:41.455064Z",
     "start_time": "2020-05-14T18:30:40.938484Z"
    }
   },
   "outputs": [
    {
     "data": {
      "image/png": "[encoded data removed]",
      "text/plain": [
       "<Figure size 1080x720 with 1 Axes>"
      ]
     },
     "metadata": {
      "needs_background": "light"
     },
     "output_type": "display_data"
    }
   ],
   "source": [
    "plot_features_importance(rf_arms, 'red')"
   ]
  },
  {
   "cell_type": "markdown",
   "metadata": {},
   "source": [
    "# Train model on Legs"
   ]
  },
  {
   "cell_type": "code",
   "execution_count": 19,
   "metadata": {
    "ExecuteTime": {
     "end_time": "2020-05-14T18:30:41.482272Z",
     "start_time": "2020-05-14T18:30:41.461871Z"
    }
   },
   "outputs": [],
   "source": [
    "rf_legs = RandomForestClassifier()"
   ]
  },
  {
   "cell_type": "code",
   "execution_count": 20,
   "metadata": {
    "ExecuteTime": {
     "end_time": "2020-05-14T18:30:41.505031Z",
     "start_time": "2020-05-14T18:30:41.492177Z"
    }
   },
   "outputs": [],
   "source": [
    "y = legs['activity_number']\n",
    "X = legs.drop('activity_number', axis=1)"
   ]
  },
  {
   "cell_type": "code",
   "execution_count": 21,
   "metadata": {
    "ExecuteTime": {
     "end_time": "2020-05-14T18:30:41.549662Z",
     "start_time": "2020-05-14T18:30:41.514123Z"
    }
   },
   "outputs": [],
   "source": [
    "X_train, X_test, y_train, y_test, random_values = my_train_test_split(X, y)"
   ]
  },
  {
   "cell_type": "code",
   "execution_count": 22,
   "metadata": {
    "ExecuteTime": {
     "end_time": "2020-05-14T18:30:42.011968Z",
     "start_time": "2020-05-14T18:30:41.573654Z"
    }
   },
   "outputs": [
    {
     "data": {
      "text/plain": [
       "RandomForestClassifier(bootstrap=True, ccp_alpha=0.0, class_weight=None,\n",
       "                       criterion='gini', max_depth=None, max_features='auto',\n",
       "                       max_leaf_nodes=None, max_samples=None,\n",
       "                       min_impurity_decrease=0.0, min_impurity_split=None,\n",
       "                       min_samples_leaf=1, min_samples_split=2,\n",
       "                       min_weight_fraction_leaf=0.0, n_estimators=100,\n",
       "                       n_jobs=None, oob_score=False, random_state=None,\n",
       "                       verbose=0, warm_start=False)"
      ]
     },
     "execution_count": 22,
     "metadata": {},
     "output_type": "execute_result"
    }
   ],
   "source": [
    "rf_legs.fit(X_train, y_train)"
   ]
  },
  {
   "cell_type": "code",
   "execution_count": 23,
   "metadata": {
    "ExecuteTime": {
     "end_time": "2020-05-14T18:30:42.074919Z",
     "start_time": "2020-05-14T18:30:42.023605Z"
    },
    "scrolled": true
   },
   "outputs": [
    {
     "data": {
      "text/plain": [
       "0.7894736842105263"
      ]
     },
     "execution_count": 23,
     "metadata": {},
     "output_type": "execute_result"
    }
   ],
   "source": [
    "rf_legs.score(X_test, y_test)"
   ]
  },
  {
   "cell_type": "code",
   "execution_count": 24,
   "metadata": {
    "ExecuteTime": {
     "end_time": "2020-05-14T18:30:42.592308Z",
     "start_time": "2020-05-14T18:30:42.090841Z"
    }
   },
   "outputs": [
    {
     "data": {
      "image/png": "[encoded data removed]",
      "text/plain": [
       "<Figure size 1080x720 with 1 Axes>"
      ]
     },
     "metadata": {
      "needs_background": "light"
     },
     "output_type": "display_data"
    }
   ],
   "source": [
    "plot_features_importance(rf_legs, 'blue')"
   ]
  },
  {
   "cell_type": "markdown",
   "metadata": {},
   "source": [
    "## Torso conclusion:\n",
    "- Ranking of sensor importance for Torso:\n",
    "    - 1st mag(netometers)\n",
    "    - 2nd acc(elerometers)\n",
    "    - 3rd gyro(scopes)\n",
    "    \n",
    "### Leverage the Torso's x,y,z mag(netometers)"
   ]
  },
  {
   "cell_type": "markdown",
   "metadata": {},
   "source": [
    "## Arms conclusion:\n",
    "- Ranking of sensor importance for Arms:\n",
    "    - 1st mag(netometers)\n",
    "    - 2nd acc(elerometers)\n",
    "    - 3rd gyro(scopes)\n",
    "    \n",
    "### Leverage the Arms's x,y,z mag(netometers), mabe acc(elerometers) as a close 2nd..."
   ]
  },
  {
   "cell_type": "markdown",
   "metadata": {},
   "source": [
    "## Legs conclusion:\n",
    "- Ranking of sensor importance for Legs:\n",
    "    - 1st - TIE - mag(netometers) & acc(elerometers)\n",
    "    - 2nd - gyro(scopes)"
   ]
  },
  {
   "cell_type": "markdown",
   "metadata": {},
   "source": [
    "## Train model on limited combination\n",
    "Going to pull the following features from the dataframe:\n",
    "- Torso mag features (x,y,z)\n",
    "- Arms mag features (x,y,z)\n",
    "- Legs mag & acc (x,y,z)"
   ]
  },
  {
   "cell_type": "code",
   "execution_count": 25,
   "metadata": {
    "ExecuteTime": {
     "end_time": "2020-05-14T18:30:42.604085Z",
     "start_time": "2020-05-14T18:30:42.598106Z"
    }
   },
   "outputs": [],
   "source": [
    "rf_combo = RandomForestClassifier()"
   ]
  },
  {
   "cell_type": "code",
   "execution_count": 26,
   "metadata": {
    "ExecuteTime": {
     "end_time": "2020-05-14T18:30:42.651806Z",
     "start_time": "2020-05-14T18:30:42.618904Z"
    },
    "code_folding": []
   },
   "outputs": [],
   "source": [
    "drop_these = [\n",
    "    # Torso features to drop\n",
    "    'T_xacc', 'T_yacc', 'T_zacc', 'T_xgyro', 'T_ygyro', 'T_zgyro',\n",
    "    # Arm features to drop\n",
    "    'RA_xacc', 'RA_yacc', 'RA_zacc', 'RA_xgyro', 'RA_ygyro', 'RA_zgyro',\n",
    "    'LA_xacc', 'LA_yacc', 'LA_zacc', 'LA_xgyro', 'LA_ygyro', 'LA_zgyro',\n",
    "    #Leg features to drop\n",
    "    'RL_xacc', 'RL_yacc', 'RL_zacc', 'RL_xmag', 'RL_ymag', 'RL_zmag',\n",
    "    'LL_xacc', 'LL_yacc', 'LL_zacc', 'LL_xmag', 'LL_ymag', 'LL_zmag',\n",
    "    # Dropping person & time since it almost has 0 feature importance\n",
    "    'time', 'person'\n",
    "]"
   ]
  },
  {
   "cell_type": "code",
   "execution_count": 27,
   "metadata": {
    "ExecuteTime": {
     "end_time": "2020-05-14T18:30:42.681459Z",
     "start_time": "2020-05-14T18:30:42.655189Z"
    }
   },
   "outputs": [],
   "source": [
    "combo_df = df.drop(drop_these, axis=1)"
   ]
  },
  {
   "cell_type": "code",
   "execution_count": 28,
   "metadata": {
    "ExecuteTime": {
     "end_time": "2020-05-14T18:30:42.698810Z",
     "start_time": "2020-05-14T18:30:42.691157Z"
    }
   },
   "outputs": [],
   "source": [
    "y = combo_df['activity_number']\n",
    "X = combo_df.drop('activity_number', axis=1)"
   ]
  },
  {
   "cell_type": "code",
   "execution_count": 29,
   "metadata": {
    "ExecuteTime": {
     "end_time": "2020-05-14T18:30:42.746546Z",
     "start_time": "2020-05-14T18:30:42.728192Z"
    }
   },
   "outputs": [],
   "source": [
    "X_train, X_test, y_train, y_test, random_values = my_train_test_split(X, y)"
   ]
  },
  {
   "cell_type": "code",
   "execution_count": 30,
   "metadata": {
    "ExecuteTime": {
     "end_time": "2020-05-14T18:30:43.252045Z",
     "start_time": "2020-05-14T18:30:42.749147Z"
    }
   },
   "outputs": [
    {
     "data": {
      "text/plain": [
       "RandomForestClassifier(bootstrap=True, ccp_alpha=0.0, class_weight=None,\n",
       "                       criterion='gini', max_depth=None, max_features='auto',\n",
       "                       max_leaf_nodes=None, max_samples=None,\n",
       "                       min_impurity_decrease=0.0, min_impurity_split=None,\n",
       "                       min_samples_leaf=1, min_samples_split=2,\n",
       "                       min_weight_fraction_leaf=0.0, n_estimators=100,\n",
       "                       n_jobs=None, oob_score=False, random_state=None,\n",
       "                       verbose=0, warm_start=False)"
      ]
     },
     "execution_count": 30,
     "metadata": {},
     "output_type": "execute_result"
    }
   ],
   "source": [
    "rf_combo.fit(X_train, y_train)"
   ]
  },
  {
   "cell_type": "code",
   "execution_count": 31,
   "metadata": {
    "ExecuteTime": {
     "end_time": "2020-05-14T18:30:43.316806Z",
     "start_time": "2020-05-14T18:30:43.259631Z"
    }
   },
   "outputs": [
    {
     "data": {
      "text/plain": [
       "0.6789473684210526"
      ]
     },
     "execution_count": 31,
     "metadata": {},
     "output_type": "execute_result"
    }
   ],
   "source": [
    "rf_combo.score(X_test, y_test)"
   ]
  },
  {
   "cell_type": "code",
   "execution_count": 32,
   "metadata": {
    "ExecuteTime": {
     "end_time": "2020-05-14T18:30:43.834614Z",
     "start_time": "2020-05-14T18:30:43.326204Z"
    }
   },
   "outputs": [
    {
     "data": {
      "image/png": "[encoded data removed]",
      "text/plain": [
       "<Figure size 1080x720 with 1 Axes>"
      ]
     },
     "metadata": {
      "needs_background": "light"
     },
     "output_type": "display_data"
    }
   ],
   "source": [
    "plot_features_importance(rf_combo, 'purple')"
   ]
  },
  {
   "cell_type": "markdown",
   "metadata": {},
   "source": [
    "# Seems like the Torso sensors may have brought down the score... <br/> Will try combo with Arms & Legs"
   ]
  },
  {
   "cell_type": "code",
   "execution_count": 33,
   "metadata": {
    "ExecuteTime": {
     "end_time": "2020-05-14T18:30:43.860587Z",
     "start_time": "2020-05-14T18:30:43.851246Z"
    }
   },
   "outputs": [],
   "source": [
    "rf_combo2 = RandomForestClassifier()"
   ]
  },
  {
   "cell_type": "code",
   "execution_count": 34,
   "metadata": {
    "ExecuteTime": {
     "end_time": "2020-05-14T18:30:43.907289Z",
     "start_time": "2020-05-14T18:30:43.875453Z"
    },
    "code_folding": [
     1
    ]
   },
   "outputs": [],
   "source": [
    "y = df['activity_number']\n",
    "X = df.drop(['T_xacc', 'T_yacc', 'T_zacc', \n",
    "     'T_xgyro', 'T_ygyro', 'T_zgyro', \n",
    "     'T_xmag', 'T_ymag', 'T_zmag', 'activity_number'], axis=1)"
   ]
  },
  {
   "cell_type": "code",
   "execution_count": 35,
   "metadata": {
    "ExecuteTime": {
     "end_time": "2020-05-14T18:30:43.940426Z",
     "start_time": "2020-05-14T18:30:43.911105Z"
    }
   },
   "outputs": [],
   "source": [
    "X_train, X_test, y_train, y_test, random_values = my_train_test_split(X, y)"
   ]
  },
  {
   "cell_type": "code",
   "execution_count": 36,
   "metadata": {
    "ExecuteTime": {
     "end_time": "2020-05-14T18:30:44.508202Z",
     "start_time": "2020-05-14T18:30:43.942797Z"
    }
   },
   "outputs": [
    {
     "data": {
      "text/plain": [
       "RandomForestClassifier(bootstrap=True, ccp_alpha=0.0, class_weight=None,\n",
       "                       criterion='gini', max_depth=None, max_features='auto',\n",
       "                       max_leaf_nodes=None, max_samples=None,\n",
       "                       min_impurity_decrease=0.0, min_impurity_split=None,\n",
       "                       min_samples_leaf=1, min_samples_split=2,\n",
       "                       min_weight_fraction_leaf=0.0, n_estimators=100,\n",
       "                       n_jobs=None, oob_score=False, random_state=None,\n",
       "                       verbose=0, warm_start=False)"
      ]
     },
     "execution_count": 36,
     "metadata": {},
     "output_type": "execute_result"
    }
   ],
   "source": [
    "rf_combo2.fit(X_train, y_train)"
   ]
  },
  {
   "cell_type": "code",
   "execution_count": 37,
   "metadata": {
    "ExecuteTime": {
     "end_time": "2020-05-14T18:30:44.573154Z",
     "start_time": "2020-05-14T18:30:44.513022Z"
    }
   },
   "outputs": [
    {
     "data": {
      "text/plain": [
       "0.8526315789473684"
      ]
     },
     "execution_count": 37,
     "metadata": {},
     "output_type": "execute_result"
    }
   ],
   "source": [
    "rf_combo2.score(X_test, y_test)"
   ]
  },
  {
   "cell_type": "code",
   "execution_count": 38,
   "metadata": {
    "ExecuteTime": {
     "end_time": "2020-05-14T18:30:45.274933Z",
     "start_time": "2020-05-14T18:30:44.576456Z"
    }
   },
   "outputs": [
    {
     "data": {
      "image/png": "[encoded data removed]",
      "text/plain": [
       "<Figure size 1080x720 with 1 Axes>"
      ]
     },
     "metadata": {
      "needs_background": "light"
     },
     "output_type": "display_data"
    }
   ],
   "source": [
    "plot_features_importance(rf_combo2, 'black')"
   ]
  },
  {
   "cell_type": "markdown",
   "metadata": {},
   "source": [
    "### Train models on standard deviation & variance of the data"
   ]
  },
  {
   "cell_type": "code",
   "execution_count": 39,
   "metadata": {
    "ExecuteTime": {
     "end_time": "2020-05-14T18:30:45.321579Z",
     "start_time": "2020-05-14T18:30:45.298572Z"
    }
   },
   "outputs": [],
   "source": [
    "std = '/Users/Lisa/_Sports_Activity_Capstone/grouped_data/grouped_std_data.csv'\n",
    "var = '/Users/Lisa/_Sports_Activity_Capstone/grouped_data/grouped_variance_data.csv'"
   ]
  },
  {
   "cell_type": "code",
   "execution_count": 40,
   "metadata": {
    "ExecuteTime": {
     "end_time": "2020-05-14T18:30:45.399733Z",
     "start_time": "2020-05-14T18:30:45.325343Z"
    }
   },
   "outputs": [],
   "source": [
    "df_std = pd.read_csv(std)\n",
    "df_var = pd.read_csv(var)"
   ]
  },
  {
   "cell_type": "markdown",
   "metadata": {},
   "source": [
    "## Check feature importance for each dataframe"
   ]
  },
  {
   "cell_type": "markdown",
   "metadata": {},
   "source": [
    "### Checking feature importance for standard deviation data"
   ]
  },
  {
   "cell_type": "code",
   "execution_count": 41,
   "metadata": {
    "ExecuteTime": {
     "end_time": "2020-05-14T18:30:45.421580Z",
     "start_time": "2020-05-14T18:30:45.401932Z"
    }
   },
   "outputs": [],
   "source": [
    "rf_std = RandomForestClassifier()"
   ]
  },
  {
   "cell_type": "code",
   "execution_count": 42,
   "metadata": {
    "ExecuteTime": {
     "end_time": "2020-05-14T18:30:45.456022Z",
     "start_time": "2020-05-14T18:30:45.424640Z"
    }
   },
   "outputs": [],
   "source": [
    "y = df_std['activity_number']\n",
    "X = df_std.drop('activity_number', axis=1)"
   ]
  },
  {
   "cell_type": "code",
   "execution_count": 43,
   "metadata": {
    "ExecuteTime": {
     "end_time": "2020-05-14T18:30:45.495082Z",
     "start_time": "2020-05-14T18:30:45.458507Z"
    }
   },
   "outputs": [],
   "source": [
    "X_train, X_test, y_train, y_test, random_values = my_train_test_split(X, y)"
   ]
  },
  {
   "cell_type": "code",
   "execution_count": 44,
   "metadata": {
    "ExecuteTime": {
     "end_time": "2020-05-14T18:30:46.115715Z",
     "start_time": "2020-05-14T18:30:45.499828Z"
    }
   },
   "outputs": [
    {
     "data": {
      "text/plain": [
       "RandomForestClassifier(bootstrap=True, ccp_alpha=0.0, class_weight=None,\n",
       "                       criterion='gini', max_depth=None, max_features='auto',\n",
       "                       max_leaf_nodes=None, max_samples=None,\n",
       "                       min_impurity_decrease=0.0, min_impurity_split=None,\n",
       "                       min_samples_leaf=1, min_samples_split=2,\n",
       "                       min_weight_fraction_leaf=0.0, n_estimators=100,\n",
       "                       n_jobs=None, oob_score=False, random_state=None,\n",
       "                       verbose=0, warm_start=False)"
      ]
     },
     "execution_count": 44,
     "metadata": {},
     "output_type": "execute_result"
    }
   ],
   "source": [
    "rf_std.fit(X_train, y_train)"
   ]
  },
  {
   "cell_type": "code",
   "execution_count": 45,
   "metadata": {
    "ExecuteTime": {
     "end_time": "2020-05-14T18:30:46.176596Z",
     "start_time": "2020-05-14T18:30:46.120000Z"
    }
   },
   "outputs": [
    {
     "data": {
      "text/plain": [
       "0.868421052631579"
      ]
     },
     "execution_count": 45,
     "metadata": {},
     "output_type": "execute_result"
    }
   ],
   "source": [
    "rf_std.score(X_test, y_test)"
   ]
  },
  {
   "cell_type": "code",
   "execution_count": 46,
   "metadata": {
    "ExecuteTime": {
     "end_time": "2020-05-14T18:30:47.678774Z",
     "start_time": "2020-05-14T18:30:46.179726Z"
    }
   },
   "outputs": [
    {
     "data": {
      "image/png": "[encoded data removed]",
      "text/plain": [
       "<Figure size 1080x720 with 1 Axes>"
      ]
     },
     "metadata": {
      "needs_background": "light"
     },
     "output_type": "display_data"
    }
   ],
   "source": [
    "plot_features_importance(rf_std, 'orange')"
   ]
  },
  {
   "cell_type": "markdown",
   "metadata": {},
   "source": [
    "### Checking feature importance for variance data"
   ]
  },
  {
   "cell_type": "code",
   "execution_count": 47,
   "metadata": {
    "ExecuteTime": {
     "end_time": "2020-05-14T18:30:47.705705Z",
     "start_time": "2020-05-14T18:30:47.682613Z"
    }
   },
   "outputs": [],
   "source": [
    "rf_var = RandomForestClassifier()"
   ]
  },
  {
   "cell_type": "code",
   "execution_count": 48,
   "metadata": {
    "ExecuteTime": {
     "end_time": "2020-05-14T18:30:47.759335Z",
     "start_time": "2020-05-14T18:30:47.716738Z"
    }
   },
   "outputs": [],
   "source": [
    "y = df_var['activity_number']\n",
    "X = df_var.drop('activity_number', axis=1)"
   ]
  },
  {
   "cell_type": "code",
   "execution_count": 49,
   "metadata": {
    "ExecuteTime": {
     "end_time": "2020-05-14T18:30:47.794778Z",
     "start_time": "2020-05-14T18:30:47.771571Z"
    }
   },
   "outputs": [],
   "source": [
    "X_train, X_test, y_train, y_test, random_values = my_train_test_split(X, y)"
   ]
  },
  {
   "cell_type": "code",
   "execution_count": 50,
   "metadata": {
    "ExecuteTime": {
     "end_time": "2020-05-14T18:30:48.479233Z",
     "start_time": "2020-05-14T18:30:47.804864Z"
    }
   },
   "outputs": [
    {
     "data": {
      "text/plain": [
       "RandomForestClassifier(bootstrap=True, ccp_alpha=0.0, class_weight=None,\n",
       "                       criterion='gini', max_depth=None, max_features='auto',\n",
       "                       max_leaf_nodes=None, max_samples=None,\n",
       "                       min_impurity_decrease=0.0, min_impurity_split=None,\n",
       "                       min_samples_leaf=1, min_samples_split=2,\n",
       "                       min_weight_fraction_leaf=0.0, n_estimators=100,\n",
       "                       n_jobs=None, oob_score=False, random_state=None,\n",
       "                       verbose=0, warm_start=False)"
      ]
     },
     "execution_count": 50,
     "metadata": {},
     "output_type": "execute_result"
    }
   ],
   "source": [
    "rf_var.fit(X_train, y_train)"
   ]
  },
  {
   "cell_type": "code",
   "execution_count": 51,
   "metadata": {
    "ExecuteTime": {
     "end_time": "2020-05-14T18:30:48.563661Z",
     "start_time": "2020-05-14T18:30:48.512115Z"
    }
   },
   "outputs": [
    {
     "data": {
      "text/plain": [
       "0.8947368421052632"
      ]
     },
     "execution_count": 51,
     "metadata": {},
     "output_type": "execute_result"
    }
   ],
   "source": [
    "rf_var.score(X_test, y_test)"
   ]
  },
  {
   "cell_type": "code",
   "execution_count": 52,
   "metadata": {
    "ExecuteTime": {
     "end_time": "2020-05-14T18:30:49.492216Z",
     "start_time": "2020-05-14T18:30:48.573018Z"
    }
   },
   "outputs": [
    {
     "data": {
      "image/png": "[encoded data removed]",
      "text/plain": [
       "<Figure size 1080x720 with 1 Axes>"
      ]
     },
     "metadata": {
      "needs_background": "light"
     },
     "output_type": "display_data"
    }
   ],
   "source": [
    "plot_features_importance(rf_var, 'pink')"
   ]
  },
  {
   "cell_type": "markdown",
   "metadata": {},
   "source": [
    "## Interesting performance on Legs & Variance - will combine the two dataframes"
   ]
  },
  {
   "cell_type": "code",
   "execution_count": 53,
   "metadata": {
    "ExecuteTime": {
     "end_time": "2020-05-14T18:30:49.525829Z",
     "start_time": "2020-05-14T18:30:49.501216Z"
    },
    "code_folding": []
   },
   "outputs": [],
   "source": [
    "# Combine the df_var & legs dataframe for modeling"
   ]
  },
  {
   "cell_type": "code",
   "execution_count": 54,
   "metadata": {
    "ExecuteTime": {
     "end_time": "2020-05-14T18:30:49.566689Z",
     "start_time": "2020-05-14T18:30:49.531977Z"
    }
   },
   "outputs": [],
   "source": [
    "rf_legs_and_var = RandomForestClassifier()"
   ]
  },
  {
   "cell_type": "code",
   "execution_count": 55,
   "metadata": {
    "ExecuteTime": {
     "end_time": "2020-05-14T18:30:49.645161Z",
     "start_time": "2020-05-14T18:30:49.598050Z"
    }
   },
   "outputs": [],
   "source": [
    "legs_and_var = pd.merge(df_var, legs, how='inner', on=['person', 'activity_number', 'time'])"
   ]
  },
  {
   "cell_type": "code",
   "execution_count": 56,
   "metadata": {
    "ExecuteTime": {
     "end_time": "2020-05-14T18:30:49.678140Z",
     "start_time": "2020-05-14T18:30:49.652471Z"
    }
   },
   "outputs": [],
   "source": [
    "y = legs_and_var['activity_number']\n",
    "X = legs_and_var.drop('activity_number', axis=1)"
   ]
  },
  {
   "cell_type": "code",
   "execution_count": 57,
   "metadata": {
    "ExecuteTime": {
     "end_time": "2020-05-14T18:30:49.719045Z",
     "start_time": "2020-05-14T18:30:49.691119Z"
    }
   },
   "outputs": [],
   "source": [
    "X_train, X_test, y_train, y_test, random_values = my_train_test_split(X, y)"
   ]
  },
  {
   "cell_type": "code",
   "execution_count": 58,
   "metadata": {
    "ExecuteTime": {
     "end_time": "2020-05-14T18:30:50.306589Z",
     "start_time": "2020-05-14T18:30:49.723514Z"
    }
   },
   "outputs": [
    {
     "data": {
      "text/plain": [
       "RandomForestClassifier(bootstrap=True, ccp_alpha=0.0, class_weight=None,\n",
       "                       criterion='gini', max_depth=None, max_features='auto',\n",
       "                       max_leaf_nodes=None, max_samples=None,\n",
       "                       min_impurity_decrease=0.0, min_impurity_split=None,\n",
       "                       min_samples_leaf=1, min_samples_split=2,\n",
       "                       min_weight_fraction_leaf=0.0, n_estimators=100,\n",
       "                       n_jobs=None, oob_score=False, random_state=None,\n",
       "                       verbose=0, warm_start=False)"
      ]
     },
     "execution_count": 58,
     "metadata": {},
     "output_type": "execute_result"
    }
   ],
   "source": [
    "rf_legs_and_var.fit(X_train, y_train)"
   ]
  },
  {
   "cell_type": "code",
   "execution_count": 59,
   "metadata": {
    "ExecuteTime": {
     "end_time": "2020-05-14T18:30:50.367618Z",
     "start_time": "2020-05-14T18:30:50.312348Z"
    }
   },
   "outputs": [
    {
     "data": {
      "text/plain": [
       "0.9578947368421052"
      ]
     },
     "execution_count": 59,
     "metadata": {},
     "output_type": "execute_result"
    }
   ],
   "source": [
    "rf_legs_and_var.score(X_test, y_test)"
   ]
  },
  {
   "cell_type": "code",
   "execution_count": 60,
   "metadata": {
    "ExecuteTime": {
     "end_time": "2020-05-14T18:30:51.998885Z",
     "start_time": "2020-05-14T18:30:50.374674Z"
    }
   },
   "outputs": [
    {
     "data": {
      "image/png": "[encoded data removed]",
      "text/plain": [
       "<Figure size 1080x720 with 1 Axes>"
      ]
     },
     "metadata": {
      "needs_background": "light"
     },
     "output_type": "display_data"
    }
   ],
   "source": [
    "plot_features_importance(rf_legs_and_var, 'red')"
   ]
  },
  {
   "cell_type": "markdown",
   "metadata": {},
   "source": [
    "## Will also look at combining combo2 & Variance"
   ]
  },
  {
   "cell_type": "code",
   "execution_count": 61,
   "metadata": {
    "ExecuteTime": {
     "end_time": "2020-05-14T18:30:52.033747Z",
     "start_time": "2020-05-14T18:30:52.005524Z"
    }
   },
   "outputs": [],
   "source": [
    "rf_combo2_and_var = RandomForestClassifier()"
   ]
  },
  {
   "cell_type": "code",
   "execution_count": 62,
   "metadata": {
    "ExecuteTime": {
     "end_time": "2020-05-14T18:30:52.070986Z",
     "start_time": "2020-05-14T18:30:52.038699Z"
    },
    "code_folding": []
   },
   "outputs": [],
   "source": [
    "df = df.drop(['T_xacc', 'T_yacc', 'T_zacc', 'T_xgyro', 'T_ygyro',\n",
    "                'T_zgyro', 'T_xmag', 'T_ymag', 'T_zmag'], axis=1)"
   ]
  },
  {
   "cell_type": "code",
   "execution_count": 63,
   "metadata": {
    "ExecuteTime": {
     "end_time": "2020-05-14T18:30:52.119349Z",
     "start_time": "2020-05-14T18:30:52.091333Z"
    }
   },
   "outputs": [],
   "source": [
    "combo2_and_var = pd.merge(df, df_var, how='inner', on=['person', 'activity_number', 'time'])"
   ]
  },
  {
   "cell_type": "code",
   "execution_count": 64,
   "metadata": {
    "ExecuteTime": {
     "end_time": "2020-05-14T18:30:52.148977Z",
     "start_time": "2020-05-14T18:30:52.121409Z"
    }
   },
   "outputs": [],
   "source": [
    "y = combo2_and_var['activity_number']\n",
    "X = combo2_and_var.drop('activity_number', axis=1)"
   ]
  },
  {
   "cell_type": "code",
   "execution_count": 65,
   "metadata": {
    "ExecuteTime": {
     "end_time": "2020-05-14T18:30:52.187452Z",
     "start_time": "2020-05-14T18:30:52.152769Z"
    }
   },
   "outputs": [],
   "source": [
    "X_train, X_test, y_train, y_test, random_values = my_train_test_split(X, y)"
   ]
  },
  {
   "cell_type": "code",
   "execution_count": 66,
   "metadata": {
    "ExecuteTime": {
     "end_time": "2020-05-14T18:30:52.845927Z",
     "start_time": "2020-05-14T18:30:52.190482Z"
    }
   },
   "outputs": [
    {
     "data": {
      "text/plain": [
       "RandomForestClassifier(bootstrap=True, ccp_alpha=0.0, class_weight=None,\n",
       "                       criterion='gini', max_depth=None, max_features='auto',\n",
       "                       max_leaf_nodes=None, max_samples=None,\n",
       "                       min_impurity_decrease=0.0, min_impurity_split=None,\n",
       "                       min_samples_leaf=1, min_samples_split=2,\n",
       "                       min_weight_fraction_leaf=0.0, n_estimators=100,\n",
       "                       n_jobs=None, oob_score=False, random_state=None,\n",
       "                       verbose=0, warm_start=False)"
      ]
     },
     "execution_count": 66,
     "metadata": {},
     "output_type": "execute_result"
    }
   ],
   "source": [
    "rf_combo2_and_var.fit(X_train, y_train)"
   ]
  },
  {
   "cell_type": "code",
   "execution_count": 67,
   "metadata": {
    "ExecuteTime": {
     "end_time": "2020-05-14T18:30:52.895131Z",
     "start_time": "2020-05-14T18:30:52.854853Z"
    }
   },
   "outputs": [
    {
     "data": {
      "text/plain": [
       "0.968421052631579"
      ]
     },
     "execution_count": 67,
     "metadata": {},
     "output_type": "execute_result"
    }
   ],
   "source": [
    "rf_combo2_and_var.score(X_test, y_test)"
   ]
  },
  {
   "cell_type": "code",
   "execution_count": 68,
   "metadata": {
    "ExecuteTime": {
     "end_time": "2020-05-14T18:30:55.556058Z",
     "start_time": "2020-05-14T18:30:52.897282Z"
    },
    "scrolled": false
   },
   "outputs": [
    {
     "data": {
      "image/png": "[encoded data removed]",
      "text/plain": [
       "<Figure size 1080x720 with 1 Axes>"
      ]
     },
     "metadata": {
      "needs_background": "light"
     },
     "output_type": "display_data"
    }
   ],
   "source": [
    "plot_features_importance(rf_combo2_and_var, 'orange')"
   ]
  },
  {
   "cell_type": "code",
   "execution_count": 72,
   "metadata": {
    "ExecuteTime": {
     "end_time": "2020-05-14T18:35:47.799498Z",
     "start_time": "2020-05-14T18:35:47.778973Z"
    }
   },
   "outputs": [
    {
     "data": {
      "text/plain": [
       "84"
      ]
     },
     "execution_count": 72,
     "metadata": {},
     "output_type": "execute_result"
    }
   ],
   "source": [
    "len(combo2_and_var.columns)"
   ]
  },
  {
   "cell_type": "markdown",
   "metadata": {},
   "source": [
    "### The rf_combo2_and_var model seems to be consistantly preforming in the mid-to-high 90's"
   ]
  },
  {
   "cell_type": "code",
   "execution_count": 74,
   "metadata": {
    "ExecuteTime": {
     "end_time": "2020-05-14T18:59:42.479892Z",
     "start_time": "2020-05-14T18:59:42.467858Z"
    }
   },
   "outputs": [],
   "source": [
    "from sklearn.model_selection import cross_val_score"
   ]
  },
  {
   "cell_type": "code",
   "execution_count": 76,
   "metadata": {
    "ExecuteTime": {
     "end_time": "2020-05-14T19:51:37.821929Z",
     "start_time": "2020-05-14T19:51:35.008641Z"
    }
   },
   "outputs": [
    {
     "data": {
      "text/plain": [
       "array([0.97, 0.97, 0.96, 0.95])"
      ]
     },
     "execution_count": 76,
     "metadata": {},
     "output_type": "execute_result"
    }
   ],
   "source": [
    "cross_val_score(rf_combo2_and_var, X, y, cv=4).round(2)"
   ]
  },
  {
   "cell_type": "markdown",
   "metadata": {},
   "source": [
    "### Create my own cross_val_score function"
   ]
  },
  {
   "cell_type": "code",
   "execution_count": 79,
   "metadata": {
    "ExecuteTime": {
     "end_time": "2020-05-14T20:10:58.269040Z",
     "start_time": "2020-05-14T20:10:58.184636Z"
    }
   },
   "outputs": [
    {
     "data": {
      "text/html": [
       "<div>\n",
       "<style scoped>\n",
       "    .dataframe tbody tr th:only-of-type {\n",
       "        vertical-align: middle;\n",
       "    }\n",
       "\n",
       "    .dataframe tbody tr th {\n",
       "        vertical-align: top;\n",
       "    }\n",
       "\n",
       "    .dataframe thead th {\n",
       "        text-align: right;\n",
       "    }\n",
       "</style>\n",
       "<table border=\"1\" class=\"dataframe\">\n",
       "  <thead>\n",
       "    <tr style=\"text-align: right;\">\n",
       "      <th></th>\n",
       "      <th>person</th>\n",
       "      <th>activity_number</th>\n",
       "      <th>time</th>\n",
       "      <th>RA_xacc</th>\n",
       "      <th>RA_yacc</th>\n",
       "      <th>RA_zacc</th>\n",
       "      <th>RA_xgyro</th>\n",
       "      <th>RA_ygyro</th>\n",
       "      <th>RA_zgyro</th>\n",
       "      <th>RA_xmag</th>\n",
       "      <th>...</th>\n",
       "      <th>RL_zmag_variance</th>\n",
       "      <th>LL_xacc_variance</th>\n",
       "      <th>LL_yacc_variance</th>\n",
       "      <th>LL_zacc_variance</th>\n",
       "      <th>LL_xgyro_variance</th>\n",
       "      <th>LL_ygyro_variance</th>\n",
       "      <th>LL_zgyro_variance</th>\n",
       "      <th>LL_xmag_variance</th>\n",
       "      <th>LL_ymag_variance</th>\n",
       "      <th>LL_zmag_variance</th>\n",
       "    </tr>\n",
       "  </thead>\n",
       "  <tbody>\n",
       "    <tr>\n",
       "      <th>0</th>\n",
       "      <td>1</td>\n",
       "      <td>1</td>\n",
       "      <td>1.0</td>\n",
       "      <td>0.557273</td>\n",
       "      <td>5.898317</td>\n",
       "      <td>7.798223</td>\n",
       "      <td>0.009517</td>\n",
       "      <td>-0.003628</td>\n",
       "      <td>-0.001741</td>\n",
       "      <td>-0.563565</td>\n",
       "      <td>...</td>\n",
       "      <td>0.000003</td>\n",
       "      <td>0.000304</td>\n",
       "      <td>0.000156</td>\n",
       "      <td>0.000280</td>\n",
       "      <td>0.000054</td>\n",
       "      <td>0.000046</td>\n",
       "      <td>0.000049</td>\n",
       "      <td>9.333134e-07</td>\n",
       "      <td>8.401590e-07</td>\n",
       "      <td>9.448883e-07</td>\n",
       "    </tr>\n",
       "    <tr>\n",
       "      <th>1</th>\n",
       "      <td>1</td>\n",
       "      <td>1</td>\n",
       "      <td>2.0</td>\n",
       "      <td>0.408740</td>\n",
       "      <td>6.095126</td>\n",
       "      <td>7.655033</td>\n",
       "      <td>0.009564</td>\n",
       "      <td>-0.004017</td>\n",
       "      <td>-0.001352</td>\n",
       "      <td>-0.555162</td>\n",
       "      <td>...</td>\n",
       "      <td>0.000001</td>\n",
       "      <td>0.000316</td>\n",
       "      <td>0.000146</td>\n",
       "      <td>0.000284</td>\n",
       "      <td>0.000057</td>\n",
       "      <td>0.000046</td>\n",
       "      <td>0.000048</td>\n",
       "      <td>1.354638e-06</td>\n",
       "      <td>1.105122e-06</td>\n",
       "      <td>7.173305e-07</td>\n",
       "    </tr>\n",
       "    <tr>\n",
       "      <th>2</th>\n",
       "      <td>1</td>\n",
       "      <td>1</td>\n",
       "      <td>3.0</td>\n",
       "      <td>0.312816</td>\n",
       "      <td>6.190084</td>\n",
       "      <td>7.583673</td>\n",
       "      <td>0.009191</td>\n",
       "      <td>-0.004679</td>\n",
       "      <td>-0.001796</td>\n",
       "      <td>-0.549699</td>\n",
       "      <td>...</td>\n",
       "      <td>0.000002</td>\n",
       "      <td>0.000363</td>\n",
       "      <td>0.000173</td>\n",
       "      <td>0.000471</td>\n",
       "      <td>0.000057</td>\n",
       "      <td>0.000048</td>\n",
       "      <td>0.000048</td>\n",
       "      <td>1.760716e-06</td>\n",
       "      <td>1.466152e-06</td>\n",
       "      <td>7.659470e-07</td>\n",
       "    </tr>\n",
       "    <tr>\n",
       "      <th>3</th>\n",
       "      <td>1</td>\n",
       "      <td>1</td>\n",
       "      <td>4.0</td>\n",
       "      <td>0.180493</td>\n",
       "      <td>6.338310</td>\n",
       "      <td>7.464882</td>\n",
       "      <td>0.008808</td>\n",
       "      <td>-0.004834</td>\n",
       "      <td>-0.001488</td>\n",
       "      <td>-0.541302</td>\n",
       "      <td>...</td>\n",
       "      <td>0.000001</td>\n",
       "      <td>0.000207</td>\n",
       "      <td>0.000136</td>\n",
       "      <td>0.000322</td>\n",
       "      <td>0.000051</td>\n",
       "      <td>0.000047</td>\n",
       "      <td>0.000047</td>\n",
       "      <td>1.769071e-06</td>\n",
       "      <td>1.366128e-06</td>\n",
       "      <td>7.270727e-07</td>\n",
       "    </tr>\n",
       "    <tr>\n",
       "      <th>4</th>\n",
       "      <td>1</td>\n",
       "      <td>1</td>\n",
       "      <td>5.0</td>\n",
       "      <td>0.117713</td>\n",
       "      <td>6.429433</td>\n",
       "      <td>7.386833</td>\n",
       "      <td>0.009118</td>\n",
       "      <td>-0.004528</td>\n",
       "      <td>-0.001627</td>\n",
       "      <td>-0.537480</td>\n",
       "      <td>...</td>\n",
       "      <td>0.000002</td>\n",
       "      <td>0.000226</td>\n",
       "      <td>0.000138</td>\n",
       "      <td>0.000320</td>\n",
       "      <td>0.000049</td>\n",
       "      <td>0.000048</td>\n",
       "      <td>0.000051</td>\n",
       "      <td>1.795919e-06</td>\n",
       "      <td>1.343990e-06</td>\n",
       "      <td>1.650776e-06</td>\n",
       "    </tr>\n",
       "    <tr>\n",
       "      <th>...</th>\n",
       "      <td>...</td>\n",
       "      <td>...</td>\n",
       "      <td>...</td>\n",
       "      <td>...</td>\n",
       "      <td>...</td>\n",
       "      <td>...</td>\n",
       "      <td>...</td>\n",
       "      <td>...</td>\n",
       "      <td>...</td>\n",
       "      <td>...</td>\n",
       "      <td>...</td>\n",
       "      <td>...</td>\n",
       "      <td>...</td>\n",
       "      <td>...</td>\n",
       "      <td>...</td>\n",
       "      <td>...</td>\n",
       "      <td>...</td>\n",
       "      <td>...</td>\n",
       "      <td>...</td>\n",
       "      <td>...</td>\n",
       "      <td>...</td>\n",
       "    </tr>\n",
       "    <tr>\n",
       "      <th>755</th>\n",
       "      <td>8</td>\n",
       "      <td>19</td>\n",
       "      <td>1.0</td>\n",
       "      <td>7.195748</td>\n",
       "      <td>3.145193</td>\n",
       "      <td>3.708954</td>\n",
       "      <td>0.169829</td>\n",
       "      <td>-0.440183</td>\n",
       "      <td>-0.055140</td>\n",
       "      <td>-0.261837</td>\n",
       "      <td>...</td>\n",
       "      <td>0.101885</td>\n",
       "      <td>21.087969</td>\n",
       "      <td>27.495834</td>\n",
       "      <td>9.487125</td>\n",
       "      <td>2.075943</td>\n",
       "      <td>0.416494</td>\n",
       "      <td>1.161099</td>\n",
       "      <td>6.368171e-03</td>\n",
       "      <td>8.934273e-02</td>\n",
       "      <td>8.691279e-02</td>\n",
       "    </tr>\n",
       "    <tr>\n",
       "      <th>756</th>\n",
       "      <td>8</td>\n",
       "      <td>19</td>\n",
       "      <td>2.0</td>\n",
       "      <td>6.653864</td>\n",
       "      <td>3.707992</td>\n",
       "      <td>2.959736</td>\n",
       "      <td>0.005180</td>\n",
       "      <td>-0.326136</td>\n",
       "      <td>-0.071856</td>\n",
       "      <td>-0.217667</td>\n",
       "      <td>...</td>\n",
       "      <td>0.072103</td>\n",
       "      <td>27.651652</td>\n",
       "      <td>30.960925</td>\n",
       "      <td>14.255356</td>\n",
       "      <td>2.494329</td>\n",
       "      <td>0.569207</td>\n",
       "      <td>1.213667</td>\n",
       "      <td>8.452081e-03</td>\n",
       "      <td>9.843204e-02</td>\n",
       "      <td>6.629483e-02</td>\n",
       "    </tr>\n",
       "    <tr>\n",
       "      <th>757</th>\n",
       "      <td>8</td>\n",
       "      <td>19</td>\n",
       "      <td>3.0</td>\n",
       "      <td>6.300779</td>\n",
       "      <td>4.566586</td>\n",
       "      <td>2.752667</td>\n",
       "      <td>0.032615</td>\n",
       "      <td>-0.403825</td>\n",
       "      <td>-0.017640</td>\n",
       "      <td>-0.071046</td>\n",
       "      <td>...</td>\n",
       "      <td>0.103834</td>\n",
       "      <td>28.880643</td>\n",
       "      <td>34.143575</td>\n",
       "      <td>11.952002</td>\n",
       "      <td>2.385015</td>\n",
       "      <td>0.581272</td>\n",
       "      <td>1.330410</td>\n",
       "      <td>1.164000e-02</td>\n",
       "      <td>5.768067e-02</td>\n",
       "      <td>9.178830e-02</td>\n",
       "    </tr>\n",
       "    <tr>\n",
       "      <th>758</th>\n",
       "      <td>8</td>\n",
       "      <td>19</td>\n",
       "      <td>4.0</td>\n",
       "      <td>5.699967</td>\n",
       "      <td>3.986630</td>\n",
       "      <td>2.660734</td>\n",
       "      <td>0.075436</td>\n",
       "      <td>-0.458750</td>\n",
       "      <td>-0.125883</td>\n",
       "      <td>-0.281245</td>\n",
       "      <td>...</td>\n",
       "      <td>0.105520</td>\n",
       "      <td>23.137011</td>\n",
       "      <td>29.713234</td>\n",
       "      <td>12.854406</td>\n",
       "      <td>2.232039</td>\n",
       "      <td>0.577281</td>\n",
       "      <td>1.030578</td>\n",
       "      <td>7.011083e-03</td>\n",
       "      <td>9.702833e-02</td>\n",
       "      <td>9.252367e-02</td>\n",
       "    </tr>\n",
       "    <tr>\n",
       "      <th>759</th>\n",
       "      <td>8</td>\n",
       "      <td>19</td>\n",
       "      <td>5.0</td>\n",
       "      <td>7.396711</td>\n",
       "      <td>4.608422</td>\n",
       "      <td>2.017915</td>\n",
       "      <td>-0.042732</td>\n",
       "      <td>-0.374421</td>\n",
       "      <td>0.008957</td>\n",
       "      <td>-0.239334</td>\n",
       "      <td>...</td>\n",
       "      <td>0.141960</td>\n",
       "      <td>34.076661</td>\n",
       "      <td>41.376176</td>\n",
       "      <td>16.961274</td>\n",
       "      <td>2.865331</td>\n",
       "      <td>0.751717</td>\n",
       "      <td>1.580460</td>\n",
       "      <td>1.156151e-02</td>\n",
       "      <td>7.985573e-02</td>\n",
       "      <td>1.138418e-01</td>\n",
       "    </tr>\n",
       "  </tbody>\n",
       "</table>\n",
       "<p>760 rows × 84 columns</p>\n",
       "</div>"
      ],
      "text/plain": [
       "     person  activity_number  time   RA_xacc   RA_yacc   RA_zacc  RA_xgyro  \\\n",
       "0         1                1   1.0  0.557273  5.898317  7.798223  0.009517   \n",
       "1         1                1   2.0  0.408740  6.095126  7.655033  0.009564   \n",
       "2         1                1   3.0  0.312816  6.190084  7.583673  0.009191   \n",
       "3         1                1   4.0  0.180493  6.338310  7.464882  0.008808   \n",
       "4         1                1   5.0  0.117713  6.429433  7.386833  0.009118   \n",
       "..      ...              ...   ...       ...       ...       ...       ...   \n",
       "755       8               19   1.0  7.195748  3.145193  3.708954  0.169829   \n",
       "756       8               19   2.0  6.653864  3.707992  2.959736  0.005180   \n",
       "757       8               19   3.0  6.300779  4.566586  2.752667  0.032615   \n",
       "758       8               19   4.0  5.699967  3.986630  2.660734  0.075436   \n",
       "759       8               19   5.0  7.396711  4.608422  2.017915 -0.042732   \n",
       "\n",
       "     RA_ygyro  RA_zgyro   RA_xmag  ...  RL_zmag_variance  LL_xacc_variance  \\\n",
       "0   -0.003628 -0.001741 -0.563565  ...          0.000003          0.000304   \n",
       "1   -0.004017 -0.001352 -0.555162  ...          0.000001          0.000316   \n",
       "2   -0.004679 -0.001796 -0.549699  ...          0.000002          0.000363   \n",
       "3   -0.004834 -0.001488 -0.541302  ...          0.000001          0.000207   \n",
       "4   -0.004528 -0.001627 -0.537480  ...          0.000002          0.000226   \n",
       "..        ...       ...       ...  ...               ...               ...   \n",
       "755 -0.440183 -0.055140 -0.261837  ...          0.101885         21.087969   \n",
       "756 -0.326136 -0.071856 -0.217667  ...          0.072103         27.651652   \n",
       "757 -0.403825 -0.017640 -0.071046  ...          0.103834         28.880643   \n",
       "758 -0.458750 -0.125883 -0.281245  ...          0.105520         23.137011   \n",
       "759 -0.374421  0.008957 -0.239334  ...          0.141960         34.076661   \n",
       "\n",
       "     LL_yacc_variance  LL_zacc_variance  LL_xgyro_variance  LL_ygyro_variance  \\\n",
       "0            0.000156          0.000280           0.000054           0.000046   \n",
       "1            0.000146          0.000284           0.000057           0.000046   \n",
       "2            0.000173          0.000471           0.000057           0.000048   \n",
       "3            0.000136          0.000322           0.000051           0.000047   \n",
       "4            0.000138          0.000320           0.000049           0.000048   \n",
       "..                ...               ...                ...                ...   \n",
       "755         27.495834          9.487125           2.075943           0.416494   \n",
       "756         30.960925         14.255356           2.494329           0.569207   \n",
       "757         34.143575         11.952002           2.385015           0.581272   \n",
       "758         29.713234         12.854406           2.232039           0.577281   \n",
       "759         41.376176         16.961274           2.865331           0.751717   \n",
       "\n",
       "     LL_zgyro_variance  LL_xmag_variance  LL_ymag_variance  LL_zmag_variance  \n",
       "0             0.000049      9.333134e-07      8.401590e-07      9.448883e-07  \n",
       "1             0.000048      1.354638e-06      1.105122e-06      7.173305e-07  \n",
       "2             0.000048      1.760716e-06      1.466152e-06      7.659470e-07  \n",
       "3             0.000047      1.769071e-06      1.366128e-06      7.270727e-07  \n",
       "4             0.000051      1.795919e-06      1.343990e-06      1.650776e-06  \n",
       "..                 ...               ...               ...               ...  \n",
       "755           1.161099      6.368171e-03      8.934273e-02      8.691279e-02  \n",
       "756           1.213667      8.452081e-03      9.843204e-02      6.629483e-02  \n",
       "757           1.330410      1.164000e-02      5.768067e-02      9.178830e-02  \n",
       "758           1.030578      7.011083e-03      9.702833e-02      9.252367e-02  \n",
       "759           1.580460      1.156151e-02      7.985573e-02      1.138418e-01  \n",
       "\n",
       "[760 rows x 84 columns]"
      ]
     },
     "execution_count": 79,
     "metadata": {},
     "output_type": "execute_result"
    }
   ],
   "source": [
    "combo2_and_var"
   ]
  },
  {
   "cell_type": "code",
   "execution_count": 125,
   "metadata": {
    "ExecuteTime": {
     "end_time": "2020-05-14T20:42:48.243116Z",
     "start_time": "2020-05-14T20:42:48.232887Z"
    }
   },
   "outputs": [],
   "source": [
    "def my_cross_val_score(X, y):\n",
    "    '''\n",
    "    Create a function that will train/test my model with EVERY possible combination of participants\n",
    "    \n",
    "    parameters:\n",
    "    X - feature data\n",
    "    y - target data\n",
    "    \n",
    "    returns:\n",
    "    Scores from my model\n",
    "    '''\n",
    "    peeps = [1,2,3,4,5,6,7,8]\n",
    "    testing_sets = []\n",
    "    scores = []\n",
    "    for x in range(1,9):\n",
    "        for y in range(1,9):\n",
    "            if x == y:\n",
    "                continue\n",
    "            elif (y, x) in testing_sets:\n",
    "                continue\n",
    "            else:\n",
    "                testing_sets.append((x,y))\n",
    "    for a in testing_sets:\n",
    "        print(a[0], a[1])\n",
    "    #return testing_sets"
   ]
  },
  {
   "cell_type": "code",
   "execution_count": 126,
   "metadata": {
    "ExecuteTime": {
     "end_time": "2020-05-14T20:42:49.310451Z",
     "start_time": "2020-05-14T20:42:49.277856Z"
    }
   },
   "outputs": [
    {
     "name": "stdout",
     "output_type": "stream",
     "text": [
      "1 2\n",
      "1 3\n",
      "1 4\n",
      "1 5\n",
      "1 6\n",
      "1 7\n",
      "1 8\n",
      "2 3\n",
      "2 4\n",
      "2 5\n",
      "2 6\n",
      "2 7\n",
      "2 8\n",
      "3 4\n",
      "3 5\n",
      "3 6\n",
      "3 7\n",
      "3 8\n",
      "4 5\n",
      "4 6\n",
      "4 7\n",
      "4 8\n",
      "5 6\n",
      "5 7\n",
      "5 8\n",
      "6 7\n",
      "6 8\n",
      "7 8\n"
     ]
    }
   ],
   "source": [
    "my_cross_val_score(X, y)"
   ]
  },
  {
   "cell_type": "code",
   "execution_count": 118,
   "metadata": {
    "ExecuteTime": {
     "end_time": "2020-05-14T20:38:10.847535Z",
     "start_time": "2020-05-14T20:38:10.826264Z"
    }
   },
   "outputs": [
    {
     "name": "stdout",
     "output_type": "stream",
     "text": [
      "1\n",
      "2\n",
      "3\n",
      "4\n",
      "5\n",
      "6\n",
      "7\n",
      "8\n",
      "9\n",
      "10\n",
      "11\n",
      "12\n",
      "13\n",
      "14\n",
      "15\n",
      "16\n",
      "17\n",
      "18\n",
      "19\n",
      "20\n",
      "21\n",
      "22\n",
      "23\n",
      "24\n",
      "25\n",
      "26\n",
      "27\n",
      "28\n"
     ]
    }
   ],
   "source": [
    "for x in range(1,29):\n",
    "    print(x)"
   ]
  },
  {
   "cell_type": "code",
   "execution_count": null,
   "metadata": {},
   "outputs": [],
   "source": []
  },
  {
   "cell_type": "code",
   "execution_count": null,
   "metadata": {},
   "outputs": [],
   "source": []
  },
  {
   "cell_type": "code",
   "execution_count": null,
   "metadata": {},
   "outputs": [],
   "source": []
  },
  {
   "cell_type": "code",
   "execution_count": null,
   "metadata": {},
   "outputs": [],
   "source": []
  },
  {
   "cell_type": "code",
   "execution_count": null,
   "metadata": {},
   "outputs": [],
   "source": []
  },
  {
   "cell_type": "code",
   "execution_count": null,
   "metadata": {},
   "outputs": [],
   "source": []
  },
  {
   "cell_type": "code",
   "execution_count": null,
   "metadata": {},
   "outputs": [],
   "source": []
  },
  {
   "cell_type": "code",
   "execution_count": null,
   "metadata": {},
   "outputs": [],
   "source": []
  }
 ],
 "metadata": {
  "kernelspec": {
   "display_name": "Python 3",
   "language": "python",
   "name": "python3"
  },
  "language_info": {
   "codemirror_mode": {
    "name": "ipython",
    "version": 3
   },
   "file_extension": ".py",
   "mimetype": "text/x-python",
   "name": "python",
   "nbconvert_exporter": "python",
   "pygments_lexer": "ipython3",
   "version": "3.7.7"
  }
 },
 "nbformat": 4,
 "nbformat_minor": 4
}
