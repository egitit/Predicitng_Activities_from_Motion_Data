{
 "cells": [
  {
   "cell_type": "markdown",
   "metadata": {},
   "source": [
    "### Create a customized subplotting function"
   ]
  },
  {
   "cell_type": "code",
   "execution_count": null,
   "metadata": {},
   "outputs": [],
   "source": [
    "import pandas as pd\n",
    "import numpy as np\n",
    "import matplotlib.pyplot as plt\n",
    "%matplotlib inline\n",
    "import seaborn as sns\n",
    "sns.set()"
   ]
  },
  {
   "cell_type": "code",
   "execution_count": 6,
   "metadata": {
    "ExecuteTime": {
     "end_time": "2020-05-12T16:53:01.282438Z",
     "start_time": "2020-05-12T16:53:01.253114Z"
    },
    "code_folding": []
   },
   "outputs": [],
   "source": [
    "def make_user_subplots(df, column_name, activity_number, person_number):\n",
    "    '''\n",
    "    Enter a column name (as a string) in order to divide each column into more digestiable ranges\n",
    "    \n",
    "    Parameters:\n",
    "    column_name - the string of a columns name from the dataframe\n",
    "    activity_number - an integer value to identify which activity to look at\n",
    "    person_number - an integer to identify which participant to pull data on\n",
    "    \n",
    "    returns:\n",
    "    5 subplots (in a row) which will display all of the individuals activity\n",
    "    '''\n",
    "    # Establish a df to .loc from by entering participant number and activity number\n",
    "    df = df.loc[(df['person'] == person_number) & (df['activity_number'] == activity_number)]\n",
    "    \n",
    "    # Establish subplots for plotting\n",
    "    fig, ax = plt.subplots(1,5, figsize=(25,5))\n",
    "    \n",
    "    # Standardize the X-scale with time\n",
    "    x1 = df.iloc[0:1500]['time']\n",
    "    x2 = df.iloc[1500:3000]['time']\n",
    "    x3 = df.iloc[3000:4500]['time']\n",
    "    x4 = df.iloc[4500:6000]['time']\n",
    "    x5 = df.iloc[6000:7500]['time']\n",
    "    \n",
    "    # Y-scale will be the values pulled from the column_name parameter\n",
    "    y1 = df.iloc[0:1500][column_name]\n",
    "    y2 = df.iloc[1500:3000][column_name]\n",
    "    y3 = df.iloc[3000:4500][column_name]\n",
    "    y4 = df.iloc[4500:6000][column_name]\n",
    "    y5 = df.iloc[6000:7500][column_name]\n",
    "    \n",
    "    # Plot the 5 graphs to display all of the users data across 5 plots so its easier to digest\n",
    "    ax[0].plot(x1,y1)\n",
    "    ax[0].axhline(y=y1.mean(), c='red', lw=7.5)\n",
    "    ax[1].plot(x2,y2)\n",
    "    ax[1].axhline(y=y2.mean(), c='red', lw=7.5)\n",
    "    ax[2].plot(x3,y3)\n",
    "    ax[2].axhline(y=y3.mean(), c='red', lw=7.5)\n",
    "    ax[3].plot(x4,y4)\n",
    "    ax[3].axhline(y=y4.mean(), c='red', lw=7.5)\n",
    "    ax[4].plot(x5,y5)\n",
    "    ax[4].axhline(y=y5.mean(), c='red', lw=7.5)\n",
    "    \n",
    "    # Adding Labels for the data\n",
    "    fig.text(0.5, 0.04, 'Time (5 Minutes)', ha='center')\n",
    "    fig.text(0.04, 0.5, 'Motion Acivity', va='center', rotation='vertical')\n",
    "    plt.suptitle(f\"Participant {person_number}, Activity {activity_number}, sensor: {column_name}\")"
   ]
  }
 ],
 "metadata": {
  "kernelspec": {
   "display_name": "Python 3",
   "language": "python",
   "name": "python3"
  },
  "language_info": {
   "codemirror_mode": {
    "name": "ipython",
    "version": 3
   },
   "file_extension": ".py",
   "mimetype": "text/x-python",
   "name": "python",
   "nbconvert_exporter": "python",
   "pygments_lexer": "ipython3",
   "version": "3.7.7"
  }
 },
 "nbformat": 4,
 "nbformat_minor": 4
}
