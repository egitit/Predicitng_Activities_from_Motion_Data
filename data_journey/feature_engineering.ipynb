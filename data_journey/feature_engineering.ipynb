{
 "cells": [
  {
   "cell_type": "code",
   "execution_count": 12,
   "metadata": {
    "ExecuteTime": {
     "end_time": "2020-05-12T20:28:27.577216Z",
     "start_time": "2020-05-12T20:28:27.573289Z"
    }
   },
   "outputs": [],
   "source": [
    "import pandas as pd\n",
    "import numpy as np"
   ]
  },
  {
   "cell_type": "code",
   "execution_count": 2,
   "metadata": {
    "ExecuteTime": {
     "end_time": "2020-05-12T20:26:16.064775Z",
     "start_time": "2020-05-12T20:26:16.045504Z"
    }
   },
   "outputs": [],
   "source": [
    "file = '/Users/Lisa/_Sports_Activity_Capstone/df_with_times.csv'"
   ]
  },
  {
   "cell_type": "code",
   "execution_count": 3,
   "metadata": {
    "ExecuteTime": {
     "end_time": "2020-05-12T20:26:28.738642Z",
     "start_time": "2020-05-12T20:26:16.073977Z"
    }
   },
   "outputs": [],
   "source": [
    "df = pd.read_csv(file)"
   ]
  },
  {
   "cell_type": "code",
   "execution_count": 4,
   "metadata": {
    "ExecuteTime": {
     "end_time": "2020-05-12T20:26:29.139262Z",
     "start_time": "2020-05-12T20:26:28.740972Z"
    }
   },
   "outputs": [],
   "source": [
    "df.drop(['person', 'activity_number', 'time'], axis=1, inplace=True)"
   ]
  },
  {
   "cell_type": "code",
   "execution_count": 5,
   "metadata": {
    "ExecuteTime": {
     "end_time": "2020-05-12T20:26:29.179042Z",
     "start_time": "2020-05-12T20:26:29.153483Z"
    }
   },
   "outputs": [
    {
     "data": {
      "text/plain": [
       "Index(['Unnamed: 0', 'T_xacc', 'T_yacc', 'T_zacc', 'T_xgyro', 'T_ygyro',\n",
       "       'T_zgyro', 'T_xmag', 'T_ymag', 'T_zmag', 'RA_xacc', 'RA_yacc',\n",
       "       'RA_zacc', 'RA_xgyro', 'RA_ygyro', 'RA_zgyro', 'RA_xmag', 'RA_ymag',\n",
       "       'RA_zmag', 'LA_xacc', 'LA_yacc', 'LA_zacc', 'LA_xgyro', 'LA_ygyro',\n",
       "       'LA_zgyro', 'LA_xmag', 'LA_ymag', 'LA_zmag', 'RL_xacc', 'RL_yacc',\n",
       "       'RL_zacc', 'RL_xgyro', 'RL_ygyro', 'RL_zgyro', 'RL_xmag', 'RL_ymag',\n",
       "       'RL_zmag', 'LL_xacc', 'LL_yacc', 'LL_zacc', 'LL_xgyro', 'LL_ygyro',\n",
       "       'LL_zgyro', 'LL_xmag', 'LL_ymag', 'LL_zmag'],\n",
       "      dtype='object')"
      ]
     },
     "execution_count": 5,
     "metadata": {},
     "output_type": "execute_result"
    }
   ],
   "source": [
    "df.columns"
   ]
  },
  {
   "cell_type": "code",
   "execution_count": 6,
   "metadata": {
    "ExecuteTime": {
     "end_time": "2020-05-12T20:26:29.198436Z",
     "start_time": "2020-05-12T20:26:29.183106Z"
    }
   },
   "outputs": [],
   "source": [
    "columns = ['T_xacc', 'T_yacc', 'T_zacc',\n",
    "       'T_xgyro', 'T_ygyro', 'T_zgyro', 'T_xmag', 'T_ymag', 'T_zmag',\n",
    "       'RA_xacc', 'RA_yacc', 'RA_zacc', 'RA_xgyro', 'RA_ygyro', 'RA_zgyro',\n",
    "       'RA_xmag', 'RA_ymag', 'RA_zmag', 'LA_xacc', 'LA_yacc', 'LA_zacc',\n",
    "       'LA_xgyro', 'LA_ygyro', 'LA_zgyro', 'LA_xmag', 'LA_ymag', 'LA_zmag',\n",
    "       'RL_xacc', 'RL_yacc', 'RL_zacc', 'RL_xgyro', 'RL_ygyro', 'RL_zgyro',\n",
    "       'RL_xmag', 'RL_ymag', 'RL_zmag', 'LL_xacc', 'LL_yacc', 'LL_zacc',\n",
    "       'LL_xgyro', 'LL_ygyro', 'LL_zgyro', 'LL_xmag', 'LL_ymag', 'LL_zmag']"
   ]
  },
  {
   "cell_type": "code",
   "execution_count": 7,
   "metadata": {
    "ExecuteTime": {
     "end_time": "2020-05-12T20:26:29.242315Z",
     "start_time": "2020-05-12T20:26:29.205139Z"
    }
   },
   "outputs": [],
   "source": [
    "df2 = pd.DataFrame(columns = columns)"
   ]
  },
  {
   "cell_type": "code",
   "execution_count": 8,
   "metadata": {
    "ExecuteTime": {
     "end_time": "2020-05-12T20:26:29.283039Z",
     "start_time": "2020-05-12T20:26:29.246502Z"
    }
   },
   "outputs": [
    {
     "data": {
      "text/html": [
       "<div>\n",
       "<style scoped>\n",
       "    .dataframe tbody tr th:only-of-type {\n",
       "        vertical-align: middle;\n",
       "    }\n",
       "\n",
       "    .dataframe tbody tr th {\n",
       "        vertical-align: top;\n",
       "    }\n",
       "\n",
       "    .dataframe thead th {\n",
       "        text-align: right;\n",
       "    }\n",
       "</style>\n",
       "<table border=\"1\" class=\"dataframe\">\n",
       "  <thead>\n",
       "    <tr style=\"text-align: right;\">\n",
       "      <th></th>\n",
       "      <th>T_xacc</th>\n",
       "      <th>T_yacc</th>\n",
       "      <th>T_zacc</th>\n",
       "      <th>T_xgyro</th>\n",
       "      <th>T_ygyro</th>\n",
       "      <th>T_zgyro</th>\n",
       "      <th>T_xmag</th>\n",
       "      <th>T_ymag</th>\n",
       "      <th>T_zmag</th>\n",
       "      <th>RA_xacc</th>\n",
       "      <th>...</th>\n",
       "      <th>RL_zmag</th>\n",
       "      <th>LL_xacc</th>\n",
       "      <th>LL_yacc</th>\n",
       "      <th>LL_zacc</th>\n",
       "      <th>LL_xgyro</th>\n",
       "      <th>LL_ygyro</th>\n",
       "      <th>LL_zgyro</th>\n",
       "      <th>LL_xmag</th>\n",
       "      <th>LL_ymag</th>\n",
       "      <th>LL_zmag</th>\n",
       "    </tr>\n",
       "  </thead>\n",
       "  <tbody>\n",
       "  </tbody>\n",
       "</table>\n",
       "<p>0 rows × 45 columns</p>\n",
       "</div>"
      ],
      "text/plain": [
       "Empty DataFrame\n",
       "Columns: [T_xacc, T_yacc, T_zacc, T_xgyro, T_ygyro, T_zgyro, T_xmag, T_ymag, T_zmag, RA_xacc, RA_yacc, RA_zacc, RA_xgyro, RA_ygyro, RA_zgyro, RA_xmag, RA_ymag, RA_zmag, LA_xacc, LA_yacc, LA_zacc, LA_xgyro, LA_ygyro, LA_zgyro, LA_xmag, LA_ymag, LA_zmag, RL_xacc, RL_yacc, RL_zacc, RL_xgyro, RL_ygyro, RL_zgyro, RL_xmag, RL_ymag, RL_zmag, LL_xacc, LL_yacc, LL_zacc, LL_xgyro, LL_ygyro, LL_zgyro, LL_xmag, LL_ymag, LL_zmag]\n",
       "Index: []\n",
       "\n",
       "[0 rows x 45 columns]"
      ]
     },
     "execution_count": 8,
     "metadata": {},
     "output_type": "execute_result"
    }
   ],
   "source": [
    "df2"
   ]
  },
  {
   "cell_type": "markdown",
   "metadata": {},
   "source": [
    "- 0-1500 rows = 1 minute\n",
    "- 1500-3000 rows = 2 minutes\n",
    "- 3000-4500 rows = 3 minutes\n",
    "- 4500-6000 rows = 4 minutes\n",
    "- 6000-7500 rows = 5 minutes"
   ]
  },
  {
   "cell_type": "code",
   "execution_count": 19,
   "metadata": {
    "ExecuteTime": {
     "end_time": "2020-05-12T20:36:27.072105Z",
     "start_time": "2020-05-12T20:36:27.048144Z"
    }
   },
   "outputs": [],
   "source": [
    "def create_stats(df, df2):\n",
    "    '''\n",
    "    create a function that pulls and summarizes data from one dataframe and append it to a new one for modeling\n",
    "    \n",
    "    parameters:\n",
    "    df - original dataframe to .iloc into\n",
    "    df2 - an empty dataframe with the appropriate columns\n",
    "    \n",
    "    returns:\n",
    "    df2 - a new dataframe with data points summarized\n",
    "    '''\n",
    "    columns = ['T_xacc', 'T_yacc', 'T_zacc',\n",
    "       'T_xgyro', 'T_ygyro', 'T_zgyro', 'T_xmag', 'T_ymag', 'T_zmag',\n",
    "       'RA_xacc', 'RA_yacc', 'RA_zacc', 'RA_xgyro', 'RA_ygyro', 'RA_zgyro',\n",
    "       'RA_xmag', 'RA_ymag', 'RA_zmag', 'LA_xacc', 'LA_yacc', 'LA_zacc',\n",
    "       'LA_xgyro', 'LA_ygyro', 'LA_zgyro', 'LA_xmag', 'LA_ymag', 'LA_zmag',\n",
    "       'RL_xacc', 'RL_yacc', 'RL_zacc', 'RL_xgyro', 'RL_ygyro', 'RL_zgyro',\n",
    "       'RL_xmag', 'RL_ymag', 'RL_zmag', 'LL_xacc', 'LL_yacc', 'LL_zacc',\n",
    "       'LL_xgyro', 'LL_ygyro', 'LL_zgyro', 'LL_xmag', 'LL_ymag', 'LL_zmag']\n",
    "    ranges = np.arange(0,7501,1500)\n",
    "    for x in columns:\n",
    "        for y in range(5):\n",
    "            app = df.iloc[ranges[y]:ranges[y+1]][x].mean()\n",
    "            df2[x] = app\n",
    "    return df2"
   ]
  },
  {
   "cell_type": "code",
   "execution_count": 20,
   "metadata": {
    "ExecuteTime": {
     "end_time": "2020-05-12T20:36:28.031786Z",
     "start_time": "2020-05-12T20:36:27.850756Z"
    }
   },
   "outputs": [
    {
     "data": {
      "text/html": [
       "<div>\n",
       "<style scoped>\n",
       "    .dataframe tbody tr th:only-of-type {\n",
       "        vertical-align: middle;\n",
       "    }\n",
       "\n",
       "    .dataframe tbody tr th {\n",
       "        vertical-align: top;\n",
       "    }\n",
       "\n",
       "    .dataframe thead th {\n",
       "        text-align: right;\n",
       "    }\n",
       "</style>\n",
       "<table border=\"1\" class=\"dataframe\">\n",
       "  <thead>\n",
       "    <tr style=\"text-align: right;\">\n",
       "      <th></th>\n",
       "      <th>T_xacc</th>\n",
       "      <th>T_yacc</th>\n",
       "      <th>T_zacc</th>\n",
       "      <th>T_xgyro</th>\n",
       "      <th>T_ygyro</th>\n",
       "      <th>T_zgyro</th>\n",
       "      <th>T_xmag</th>\n",
       "      <th>T_ymag</th>\n",
       "      <th>T_zmag</th>\n",
       "      <th>RA_xacc</th>\n",
       "      <th>...</th>\n",
       "      <th>RL_zmag</th>\n",
       "      <th>LL_xacc</th>\n",
       "      <th>LL_yacc</th>\n",
       "      <th>LL_zacc</th>\n",
       "      <th>LL_xgyro</th>\n",
       "      <th>LL_ygyro</th>\n",
       "      <th>LL_zgyro</th>\n",
       "      <th>LL_xmag</th>\n",
       "      <th>LL_ymag</th>\n",
       "      <th>LL_zmag</th>\n",
       "    </tr>\n",
       "  </thead>\n",
       "  <tbody>\n",
       "  </tbody>\n",
       "</table>\n",
       "<p>0 rows × 45 columns</p>\n",
       "</div>"
      ],
      "text/plain": [
       "Empty DataFrame\n",
       "Columns: [T_xacc, T_yacc, T_zacc, T_xgyro, T_ygyro, T_zgyro, T_xmag, T_ymag, T_zmag, RA_xacc, RA_yacc, RA_zacc, RA_xgyro, RA_ygyro, RA_zgyro, RA_xmag, RA_ymag, RA_zmag, LA_xacc, LA_yacc, LA_zacc, LA_xgyro, LA_ygyro, LA_zgyro, LA_xmag, LA_ymag, LA_zmag, RL_xacc, RL_yacc, RL_zacc, RL_xgyro, RL_ygyro, RL_zgyro, RL_xmag, RL_ymag, RL_zmag, LL_xacc, LL_yacc, LL_zacc, LL_xgyro, LL_ygyro, LL_zgyro, LL_xmag, LL_ymag, LL_zmag]\n",
       "Index: []\n",
       "\n",
       "[0 rows x 45 columns]"
      ]
     },
     "execution_count": 20,
     "metadata": {},
     "output_type": "execute_result"
    }
   ],
   "source": [
    "create_stats(df, df2)"
   ]
  },
  {
   "cell_type": "code",
   "execution_count": 14,
   "metadata": {
    "ExecuteTime": {
     "end_time": "2020-05-12T20:29:00.690288Z",
     "start_time": "2020-05-12T20:29:00.678671Z"
    }
   },
   "outputs": [
    {
     "name": "stdout",
     "output_type": "stream",
     "text": [
      "0\n",
      "1500\n",
      "3000\n",
      "4500\n",
      "6000\n",
      "7500\n"
     ]
    }
   ],
   "source": [
    "for x in np.arange(0,7501,1500):\n",
    "    print(x)"
   ]
  },
  {
   "cell_type": "code",
   "execution_count": null,
   "metadata": {},
   "outputs": [],
   "source": []
  }
 ],
 "metadata": {
  "kernelspec": {
   "display_name": "Python 3",
   "language": "python",
   "name": "python3"
  },
  "language_info": {
   "codemirror_mode": {
    "name": "ipython",
    "version": 3
   },
   "file_extension": ".py",
   "mimetype": "text/x-python",
   "name": "python",
   "nbconvert_exporter": "python",
   "pygments_lexer": "ipython3",
   "version": "3.7.7"
  }
 },
 "nbformat": 4,
 "nbformat_minor": 4
}
