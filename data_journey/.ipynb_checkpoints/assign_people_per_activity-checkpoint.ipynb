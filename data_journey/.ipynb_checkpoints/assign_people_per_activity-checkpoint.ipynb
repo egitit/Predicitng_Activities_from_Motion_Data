{
 "cells": [
  {
   "cell_type": "code",
   "execution_count": null,
   "metadata": {
    "ExecuteTime": {
     "end_time": "2020-05-11T16:59:19.385901Z",
     "start_time": "2020-05-11T16:58:54.267Z"
    }
   },
   "outputs": [],
   "source": [
    "import pandas as pd\n",
    "import numpy as np"
   ]
  },
  {
   "cell_type": "code",
   "execution_count": null,
   "metadata": {
    "ExecuteTime": {
     "end_time": "2020-05-11T16:59:19.390198Z",
     "start_time": "2020-05-11T16:58:54.271Z"
    }
   },
   "outputs": [],
   "source": [
    "!pwd"
   ]
  },
  {
   "cell_type": "code",
   "execution_count": null,
   "metadata": {
    "ExecuteTime": {
     "end_time": "2020-05-11T16:59:19.398616Z",
     "start_time": "2020-05-11T16:58:54.279Z"
    }
   },
   "outputs": [],
   "source": [
    "file = '/Users/Lisa/_Sports_Activity_Capstone/complete_data_with_activities.csv'"
   ]
  },
  {
   "cell_type": "code",
   "execution_count": null,
   "metadata": {
    "ExecuteTime": {
     "end_time": "2020-05-11T16:59:19.413008Z",
     "start_time": "2020-05-11T16:58:54.282Z"
    }
   },
   "outputs": [],
   "source": [
    "df = pd.read_csv(file)"
   ]
  },
  {
   "cell_type": "code",
   "execution_count": null,
   "metadata": {
    "ExecuteTime": {
     "end_time": "2020-05-11T16:59:19.416663Z",
     "start_time": "2020-05-11T16:58:54.285Z"
    }
   },
   "outputs": [],
   "source": [
    "df.drop('Unnamed: 0', axis=1, inplace=True)"
   ]
  },
  {
   "cell_type": "code",
   "execution_count": null,
   "metadata": {
    "ExecuteTime": {
     "end_time": "2020-05-11T16:59:19.422787Z",
     "start_time": "2020-05-11T16:58:54.288Z"
    }
   },
   "outputs": [],
   "source": [
    "df"
   ]
  },
  {
   "cell_type": "code",
   "execution_count": null,
   "metadata": {
    "ExecuteTime": {
     "end_time": "2020-05-11T16:59:19.446573Z",
     "start_time": "2020-05-11T16:58:54.290Z"
    }
   },
   "outputs": [],
   "source": [
    "peoples_nums = np.arange(0,1140001,7500)"
   ]
  },
  {
   "cell_type": "code",
   "execution_count": null,
   "metadata": {
    "ExecuteTime": {
     "end_time": "2020-05-11T16:59:19.450104Z",
     "start_time": "2020-05-11T16:58:54.294Z"
    }
   },
   "outputs": [],
   "source": [
    "len(peoples_nums)"
   ]
  },
  {
   "cell_type": "code",
   "execution_count": null,
   "metadata": {
    "ExecuteTime": {
     "end_time": "2020-05-11T16:59:19.464511Z",
     "start_time": "2020-05-11T16:58:54.296Z"
    },
    "scrolled": true
   },
   "outputs": [],
   "source": [
    "peoples_nums"
   ]
  },
  {
   "cell_type": "code",
   "execution_count": null,
   "metadata": {
    "ExecuteTime": {
     "end_time": "2020-05-11T16:59:19.481923Z",
     "start_time": "2020-05-11T16:58:54.301Z"
    }
   },
   "outputs": [],
   "source": [
    "people = [\"p1\", \"p2\", \"p3\", \"p4\", \"p5\", \"p6\", \"p7\", \"p8\"]"
   ]
  },
  {
   "cell_type": "code",
   "execution_count": null,
   "metadata": {
    "ExecuteTime": {
     "end_time": "2020-05-11T16:59:19.484247Z",
     "start_time": "2020-05-11T16:58:54.305Z"
    }
   },
   "outputs": [],
   "source": [
    "df['person'] = 0"
   ]
  },
  {
   "cell_type": "code",
   "execution_count": null,
   "metadata": {
    "ExecuteTime": {
     "end_time": "2020-05-11T16:59:19.488730Z",
     "start_time": "2020-05-11T16:58:54.307Z"
    },
    "scrolled": true
   },
   "outputs": [],
   "source": [
    "df"
   ]
  },
  {
   "cell_type": "code",
   "execution_count": null,
   "metadata": {
    "ExecuteTime": {
     "end_time": "2020-05-11T16:59:19.494834Z",
     "start_time": "2020-05-11T16:58:54.310Z"
    }
   },
   "outputs": [],
   "source": [
    "people = [\"p1\", \"p2\", \"p3\", \"p4\", \"p5\", \"p6\", \"p7\", \"p8\"]\n",
    "peoples_nums = np.arange(0,1140001,7500)"
   ]
  },
  {
   "cell_type": "code",
   "execution_count": null,
   "metadata": {
    "ExecuteTime": {
     "end_time": "2020-05-11T16:59:19.500564Z",
     "start_time": "2020-05-11T16:58:54.315Z"
    }
   },
   "outputs": [],
   "source": [
    "peoples_nums"
   ]
  },
  {
   "cell_type": "code",
   "execution_count": null,
   "metadata": {
    "ExecuteTime": {
     "end_time": "2020-05-11T16:59:19.522713Z",
     "start_time": "2020-05-11T16:58:54.322Z"
    }
   },
   "outputs": [],
   "source": [
    "len(peoples_nums)"
   ]
  },
  {
   "cell_type": "code",
   "execution_count": null,
   "metadata": {
    "ExecuteTime": {
     "end_time": "2020-05-11T16:59:19.524879Z",
     "start_time": "2020-05-11T16:58:54.326Z"
    }
   },
   "outputs": [],
   "source": [
    "def assign_p1(df):\n",
    "    people = [\"p1\", \"p2\", \"p3\", \"p4\", \"p5\", \"p6\", \"p7\", \"p8\"]\n",
    "    peoples_nums = np.arange(0,1140001,7500)\n",
    "    for i in range(1,153):\n",
    "#         if i < 8:\n",
    "#             df.loc[(peoples_nums[i-1]):(peoples_nums[i]), 'person'] = i\n",
    "#         else:\n",
    "        df.loc[(peoples_nums[i-1]):(peoples_nums[i]), 'person'] = ((i-1)%8 + 1)\n",
    "    return df"
   ]
  },
  {
   "cell_type": "code",
   "execution_count": null,
   "metadata": {
    "ExecuteTime": {
     "end_time": "2020-05-11T16:59:19.543031Z",
     "start_time": "2020-05-11T16:58:54.329Z"
    },
    "scrolled": true
   },
   "outputs": [],
   "source": [
    "df2 = assign_p1(df)"
   ]
  },
  {
   "cell_type": "code",
   "execution_count": null,
   "metadata": {
    "ExecuteTime": {
     "end_time": "2020-05-11T16:59:19.555544Z",
     "start_time": "2020-05-11T16:58:54.332Z"
    }
   },
   "outputs": [],
   "source": [
    "df2.iloc[7490:7510]"
   ]
  },
  {
   "cell_type": "code",
   "execution_count": null,
   "metadata": {
    "ExecuteTime": {
     "end_time": "2020-05-11T16:59:19.653142Z",
     "start_time": "2020-05-11T16:58:54.339Z"
    }
   },
   "outputs": [],
   "source": [
    "df2.iloc[1490:1510]"
   ]
  },
  {
   "cell_type": "code",
   "execution_count": null,
   "metadata": {
    "ExecuteTime": {
     "end_time": "2020-05-11T16:59:19.757319Z",
     "start_time": "2020-05-11T16:58:54.343Z"
    }
   },
   "outputs": [],
   "source": [
    "df2.groupby('person').count()"
   ]
  },
  {
   "cell_type": "code",
   "execution_count": null,
   "metadata": {},
   "outputs": [],
   "source": []
  }
 ],
 "metadata": {
  "kernelspec": {
   "display_name": "Python 3",
   "language": "python",
   "name": "python3"
  },
  "language_info": {
   "codemirror_mode": {
    "name": "ipython",
    "version": 3
   },
   "file_extension": ".py",
   "mimetype": "text/x-python",
   "name": "python",
   "nbconvert_exporter": "python",
   "pygments_lexer": "ipython3",
   "version": "3.7.7"
  }
 },
 "nbformat": 4,
 "nbformat_minor": 4
}
