{
 "cells": [
  {
   "cell_type": "code",
   "execution_count": 1,
   "metadata": {},
   "outputs": [],
   "source": [
    "import pandas as pd\n",
    "import numpy as np"
   ]
  },
  {
   "cell_type": "code",
   "execution_count": 2,
   "metadata": {},
   "outputs": [
    {
     "name": "stdout",
     "output_type": "stream",
     "text": [
      "/Users/Lisa/Sports_Activity_Capstone\r\n"
     ]
    }
   ],
   "source": [
    "!pwd"
   ]
  },
  {
   "cell_type": "code",
   "execution_count": 3,
   "metadata": {},
   "outputs": [],
   "source": [
    "# File pathing for ccomplete dataset\n",
    "file = '/Users/Lisa/Sports_Activity_Capstone/complete_dataset.csv'"
   ]
  },
  {
   "cell_type": "code",
   "execution_count": 4,
   "metadata": {},
   "outputs": [],
   "source": [
    "# Load complete dataset into a dataframe\n",
    "df = pd.read_csv(file)"
   ]
  },
  {
   "cell_type": "code",
   "execution_count": 5,
   "metadata": {
    "scrolled": true
   },
   "outputs": [],
   "source": [
    "# Drop extra column that gets added\n",
    "df.drop(['Unnamed: 0'], inplace=True, axis=1)"
   ]
  },
  {
   "cell_type": "code",
   "execution_count": 6,
   "metadata": {},
   "outputs": [],
   "source": [
    "# Initialize the Acivity Column\n",
    "df['activity_number'] = 0"
   ]
  },
  {
   "cell_type": "code",
   "execution_count": 7,
   "metadata": {},
   "outputs": [],
   "source": [
    "# Create a copy of the dataframe in order to test out the assigning funciton \n",
    "df2 = df.copy()"
   ]
  },
  {
   "cell_type": "code",
   "execution_count": 8,
   "metadata": {},
   "outputs": [],
   "source": [
    "# Create a function to assign column ranges to their activities\n",
    "def assign_activities(df):\n",
    "    '''\n",
    "    Enter a dataframe and iterate through the complete variable in order to\n",
    "    assign activities to the appropraite range of columns\n",
    "    parameters:\n",
    "    the complete dataframe\n",
    "    \n",
    "    returns:\n",
    "    dataframe with a new column that has the activities assigned to them\n",
    "    '''\n",
    "    # create activity ranges for assignment\n",
    "    complete = np.arange(0,1200000,60000)    \n",
    "    for x in range(1,20):\n",
    "        df.iloc[(complete[x-1]):(complete[x])]['activity_number'] = x\n",
    "    return df"
   ]
  },
  {
   "cell_type": "code",
   "execution_count": 9,
   "metadata": {},
   "outputs": [],
   "source": [
    "# Test function to see if activites column was added\n",
    "# assign_activities(df2)\n",
    "# Works! Now do another test to make sure the activities are evenly distributed"
   ]
  },
  {
   "cell_type": "code",
   "execution_count": 10,
   "metadata": {},
   "outputs": [],
   "source": [
    "# Testing to make sure activities are evenly distrubted\n",
    "# df2.groupby('activity_number').count()\n",
    "# Works! Each activity has 60000 data points associated with it.\n",
    "# 60000 comes from each import having a 125 rows of data, with 480 imports"
   ]
  },
  {
   "cell_type": "code",
   "execution_count": 11,
   "metadata": {},
   "outputs": [],
   "source": [
    "# All good, now create csv for modeling\n",
    "# df2.to_csv('data_with_activity.csv')\n",
    "# Commented out to prevent multiple csv's from being created"
   ]
  },
  {
   "cell_type": "code",
   "execution_count": null,
   "metadata": {},
   "outputs": [],
   "source": []
  },
  {
   "cell_type": "code",
   "execution_count": null,
   "metadata": {},
   "outputs": [],
   "source": []
  },
  {
   "cell_type": "code",
   "execution_count": null,
   "metadata": {},
   "outputs": [],
   "source": []
  },
  {
   "cell_type": "code",
   "execution_count": null,
   "metadata": {},
   "outputs": [],
   "source": []
  }
 ],
 "metadata": {
  "kernelspec": {
   "display_name": "Python 3",
   "language": "python",
   "name": "python3"
  },
  "language_info": {
   "codemirror_mode": {
    "name": "ipython",
    "version": 3
   },
   "file_extension": ".py",
   "mimetype": "text/x-python",
   "name": "python",
   "nbconvert_exporter": "python",
   "pygments_lexer": "ipython3",
   "version": "3.7.7"
  }
 },
 "nbformat": 4,
 "nbformat_minor": 4
}
