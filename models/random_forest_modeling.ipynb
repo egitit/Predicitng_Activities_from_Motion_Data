{
 "cells": [
  {
   "cell_type": "markdown",
   "metadata": {},
   "source": [
    "### Imports needed to setup a RandomForest and ways to evaluate it"
   ]
  },
  {
   "cell_type": "code",
   "execution_count": 16,
   "metadata": {
    "ExecuteTime": {
     "end_time": "2020-05-12T13:36:01.067278Z",
     "start_time": "2020-05-12T13:36:01.051312Z"
    }
   },
   "outputs": [],
   "source": [
    "import pandas as pd\n",
    "import numpy as np\n",
    "from sklearn.ensemble import RandomForestClassifier\n",
    "from sklearn.model_selection import train_test_split\n",
    "# Importing my train_test_split\n",
    "from custom_train_test_split import *\n",
    "from sklearn.metrics import confusion_matrix, accuracy_score, recall_score, precision_score, roc_curve, roc_auc_score\n",
    "from sklearn.metrics import mean_squared_error as MSE\n",
    "from sklearn.model_selection import GridSearchCV"
   ]
  },
  {
   "cell_type": "markdown",
   "metadata": {},
   "source": [
    "### Figure out a way to import my function from another notebook:"
   ]
  },
  {
   "cell_type": "code",
   "execution_count": 9,
   "metadata": {
    "ExecuteTime": {
     "end_time": "2020-05-12T00:24:37.320725Z",
     "start_time": "2020-05-12T00:24:37.315176Z"
    }
   },
   "outputs": [],
   "source": []
  },
  {
   "cell_type": "code",
   "execution_count": 10,
   "metadata": {
    "ExecuteTime": {
     "end_time": "2020-05-12T00:24:43.437481Z",
     "start_time": "2020-05-12T00:24:43.434071Z"
    }
   },
   "outputs": [],
   "source": [
    "# function to use:\n",
    "# my_train_test_split(X, y)"
   ]
  },
  {
   "cell_type": "markdown",
   "metadata": {},
   "source": [
    "### Load in the DataFrame and drop extra columns"
   ]
  },
  {
   "cell_type": "code",
   "execution_count": 11,
   "metadata": {
    "ExecuteTime": {
     "end_time": "2020-05-12T00:24:46.950315Z",
     "start_time": "2020-05-12T00:24:46.946205Z"
    }
   },
   "outputs": [],
   "source": [
    "file = '/Users/Lisa/_Sports_Activity_Capstone/df_with_times.csv'"
   ]
  },
  {
   "cell_type": "code",
   "execution_count": 12,
   "metadata": {
    "ExecuteTime": {
     "end_time": "2020-05-12T00:24:59.414345Z",
     "start_time": "2020-05-12T00:24:48.451171Z"
    }
   },
   "outputs": [],
   "source": [
    "df = pd.read_csv(file)"
   ]
  },
  {
   "cell_type": "code",
   "execution_count": 13,
   "metadata": {
    "ExecuteTime": {
     "end_time": "2020-05-12T00:25:02.324718Z",
     "start_time": "2020-05-12T00:25:01.460710Z"
    }
   },
   "outputs": [
    {
     "data": {
      "text/html": [
       "<div>\n",
       "<style scoped>\n",
       "    .dataframe tbody tr th:only-of-type {\n",
       "        vertical-align: middle;\n",
       "    }\n",
       "\n",
       "    .dataframe tbody tr th {\n",
       "        vertical-align: top;\n",
       "    }\n",
       "\n",
       "    .dataframe thead th {\n",
       "        text-align: right;\n",
       "    }\n",
       "</style>\n",
       "<table border=\"1\" class=\"dataframe\">\n",
       "  <thead>\n",
       "    <tr style=\"text-align: right;\">\n",
       "      <th></th>\n",
       "      <th>person</th>\n",
       "      <th>activity_number</th>\n",
       "      <th>time</th>\n",
       "      <th>T_xacc</th>\n",
       "      <th>T_yacc</th>\n",
       "      <th>T_zacc</th>\n",
       "      <th>T_xgyro</th>\n",
       "      <th>T_ygyro</th>\n",
       "      <th>T_zgyro</th>\n",
       "      <th>T_xmag</th>\n",
       "      <th>...</th>\n",
       "      <th>RL_zmag</th>\n",
       "      <th>LL_xacc</th>\n",
       "      <th>LL_yacc</th>\n",
       "      <th>LL_zacc</th>\n",
       "      <th>LL_xgyro</th>\n",
       "      <th>LL_ygyro</th>\n",
       "      <th>LL_zgyro</th>\n",
       "      <th>LL_xmag</th>\n",
       "      <th>LL_ymag</th>\n",
       "      <th>LL_zmag</th>\n",
       "    </tr>\n",
       "  </thead>\n",
       "  <tbody>\n",
       "    <tr>\n",
       "      <th>0</th>\n",
       "      <td>1</td>\n",
       "      <td>1</td>\n",
       "      <td>0.04</td>\n",
       "      <td>8.13050</td>\n",
       "      <td>1.03490</td>\n",
       "      <td>5.42170</td>\n",
       "      <td>-0.009461</td>\n",
       "      <td>0.001915</td>\n",
       "      <td>-0.003424</td>\n",
       "      <td>-0.78712</td>\n",
       "      <td>...</td>\n",
       "      <td>-0.036453</td>\n",
       "      <td>-2.8071</td>\n",
       "      <td>-9.0812</td>\n",
       "      <td>2.6220</td>\n",
       "      <td>-0.000232</td>\n",
       "      <td>-0.012092</td>\n",
       "      <td>-0.004457</td>\n",
       "      <td>0.74017</td>\n",
       "      <td>0.30053</td>\n",
       "      <td>-0.057730</td>\n",
       "    </tr>\n",
       "    <tr>\n",
       "      <th>1</th>\n",
       "      <td>1</td>\n",
       "      <td>1</td>\n",
       "      <td>0.08</td>\n",
       "      <td>8.13050</td>\n",
       "      <td>1.02020</td>\n",
       "      <td>5.38430</td>\n",
       "      <td>-0.009368</td>\n",
       "      <td>0.023485</td>\n",
       "      <td>0.001953</td>\n",
       "      <td>-0.78717</td>\n",
       "      <td>...</td>\n",
       "      <td>-0.034005</td>\n",
       "      <td>-2.8146</td>\n",
       "      <td>-9.0737</td>\n",
       "      <td>2.6218</td>\n",
       "      <td>-0.014784</td>\n",
       "      <td>-0.016477</td>\n",
       "      <td>0.002789</td>\n",
       "      <td>0.73937</td>\n",
       "      <td>0.30183</td>\n",
       "      <td>-0.057514</td>\n",
       "    </tr>\n",
       "    <tr>\n",
       "      <th>2</th>\n",
       "      <td>1</td>\n",
       "      <td>1</td>\n",
       "      <td>0.12</td>\n",
       "      <td>8.16040</td>\n",
       "      <td>1.02010</td>\n",
       "      <td>5.36220</td>\n",
       "      <td>0.015046</td>\n",
       "      <td>0.014330</td>\n",
       "      <td>0.000204</td>\n",
       "      <td>-0.78664</td>\n",
       "      <td>...</td>\n",
       "      <td>-0.036489</td>\n",
       "      <td>-2.8221</td>\n",
       "      <td>-9.0886</td>\n",
       "      <td>2.6366</td>\n",
       "      <td>-0.012770</td>\n",
       "      <td>0.005717</td>\n",
       "      <td>-0.007918</td>\n",
       "      <td>0.73955</td>\n",
       "      <td>0.30052</td>\n",
       "      <td>-0.057219</td>\n",
       "    </tr>\n",
       "    <tr>\n",
       "      <th>3</th>\n",
       "      <td>1</td>\n",
       "      <td>1</td>\n",
       "      <td>0.16</td>\n",
       "      <td>8.16030</td>\n",
       "      <td>1.00520</td>\n",
       "      <td>5.37700</td>\n",
       "      <td>0.006892</td>\n",
       "      <td>0.018045</td>\n",
       "      <td>0.005649</td>\n",
       "      <td>-0.78529</td>\n",
       "      <td>...</td>\n",
       "      <td>-0.036151</td>\n",
       "      <td>-2.8071</td>\n",
       "      <td>-9.0811</td>\n",
       "      <td>2.6070</td>\n",
       "      <td>-0.005725</td>\n",
       "      <td>0.009620</td>\n",
       "      <td>0.006555</td>\n",
       "      <td>0.74029</td>\n",
       "      <td>0.30184</td>\n",
       "      <td>-0.057750</td>\n",
       "    </tr>\n",
       "    <tr>\n",
       "      <th>4</th>\n",
       "      <td>1</td>\n",
       "      <td>1</td>\n",
       "      <td>0.20</td>\n",
       "      <td>8.16050</td>\n",
       "      <td>1.02750</td>\n",
       "      <td>5.34730</td>\n",
       "      <td>0.008811</td>\n",
       "      <td>0.030433</td>\n",
       "      <td>-0.005346</td>\n",
       "      <td>-0.78742</td>\n",
       "      <td>...</td>\n",
       "      <td>-0.033807</td>\n",
       "      <td>-2.8146</td>\n",
       "      <td>-9.0737</td>\n",
       "      <td>2.6218</td>\n",
       "      <td>-0.003929</td>\n",
       "      <td>-0.008371</td>\n",
       "      <td>0.002816</td>\n",
       "      <td>0.73845</td>\n",
       "      <td>0.30090</td>\n",
       "      <td>-0.057527</td>\n",
       "    </tr>\n",
       "    <tr>\n",
       "      <th>...</th>\n",
       "      <td>...</td>\n",
       "      <td>...</td>\n",
       "      <td>...</td>\n",
       "      <td>...</td>\n",
       "      <td>...</td>\n",
       "      <td>...</td>\n",
       "      <td>...</td>\n",
       "      <td>...</td>\n",
       "      <td>...</td>\n",
       "      <td>...</td>\n",
       "      <td>...</td>\n",
       "      <td>...</td>\n",
       "      <td>...</td>\n",
       "      <td>...</td>\n",
       "      <td>...</td>\n",
       "      <td>...</td>\n",
       "      <td>...</td>\n",
       "      <td>...</td>\n",
       "      <td>...</td>\n",
       "      <td>...</td>\n",
       "      <td>...</td>\n",
       "    </tr>\n",
       "    <tr>\n",
       "      <th>1139995</th>\n",
       "      <td>8</td>\n",
       "      <td>19</td>\n",
       "      <td>299.84</td>\n",
       "      <td>16.00800</td>\n",
       "      <td>-2.01660</td>\n",
       "      <td>-0.58220</td>\n",
       "      <td>2.027100</td>\n",
       "      <td>1.656800</td>\n",
       "      <td>0.584410</td>\n",
       "      <td>-0.73195</td>\n",
       "      <td>...</td>\n",
       "      <td>-0.079139</td>\n",
       "      <td>-10.7520</td>\n",
       "      <td>4.3231</td>\n",
       "      <td>-4.5931</td>\n",
       "      <td>-0.230600</td>\n",
       "      <td>0.180890</td>\n",
       "      <td>-2.082300</td>\n",
       "      <td>0.56876</td>\n",
       "      <td>0.39409</td>\n",
       "      <td>0.518170</td>\n",
       "    </tr>\n",
       "    <tr>\n",
       "      <th>1139996</th>\n",
       "      <td>8</td>\n",
       "      <td>19</td>\n",
       "      <td>299.88</td>\n",
       "      <td>8.28230</td>\n",
       "      <td>-0.69936</td>\n",
       "      <td>0.48698</td>\n",
       "      <td>2.887900</td>\n",
       "      <td>1.603900</td>\n",
       "      <td>-0.020417</td>\n",
       "      <td>-0.73055</td>\n",
       "      <td>...</td>\n",
       "      <td>-0.030868</td>\n",
       "      <td>-5.1838</td>\n",
       "      <td>1.2551</td>\n",
       "      <td>-4.1113</td>\n",
       "      <td>1.817200</td>\n",
       "      <td>0.312510</td>\n",
       "      <td>-1.021600</td>\n",
       "      <td>0.53822</td>\n",
       "      <td>0.43745</td>\n",
       "      <td>0.504010</td>\n",
       "    </tr>\n",
       "    <tr>\n",
       "      <th>1139997</th>\n",
       "      <td>8</td>\n",
       "      <td>19</td>\n",
       "      <td>299.92</td>\n",
       "      <td>2.71210</td>\n",
       "      <td>0.49967</td>\n",
       "      <td>0.84053</td>\n",
       "      <td>1.996400</td>\n",
       "      <td>1.465800</td>\n",
       "      <td>-0.072605</td>\n",
       "      <td>-0.72533</td>\n",
       "      <td>...</td>\n",
       "      <td>-0.063032</td>\n",
       "      <td>-1.0348</td>\n",
       "      <td>15.6940</td>\n",
       "      <td>1.2942</td>\n",
       "      <td>1.842100</td>\n",
       "      <td>0.349400</td>\n",
       "      <td>-0.282080</td>\n",
       "      <td>0.51752</td>\n",
       "      <td>0.47280</td>\n",
       "      <td>0.489250</td>\n",
       "    </tr>\n",
       "    <tr>\n",
       "      <th>1139998</th>\n",
       "      <td>8</td>\n",
       "      <td>19</td>\n",
       "      <td>299.96</td>\n",
       "      <td>2.03080</td>\n",
       "      <td>-0.71349</td>\n",
       "      <td>-0.11264</td>\n",
       "      <td>1.766100</td>\n",
       "      <td>1.010300</td>\n",
       "      <td>-0.102120</td>\n",
       "      <td>-0.71933</td>\n",
       "      <td>...</td>\n",
       "      <td>-0.194960</td>\n",
       "      <td>-3.6479</td>\n",
       "      <td>-7.4632</td>\n",
       "      <td>-12.3640</td>\n",
       "      <td>-0.150260</td>\n",
       "      <td>1.563400</td>\n",
       "      <td>-0.368450</td>\n",
       "      <td>0.50440</td>\n",
       "      <td>0.51029</td>\n",
       "      <td>0.446480</td>\n",
       "    </tr>\n",
       "    <tr>\n",
       "      <th>1139999</th>\n",
       "      <td>8</td>\n",
       "      <td>19</td>\n",
       "      <td>300.00</td>\n",
       "      <td>-0.04915</td>\n",
       "      <td>0.76302</td>\n",
       "      <td>-0.19343</td>\n",
       "      <td>2.590200</td>\n",
       "      <td>0.179090</td>\n",
       "      <td>0.011850</td>\n",
       "      <td>-0.71592</td>\n",
       "      <td>...</td>\n",
       "      <td>-0.212350</td>\n",
       "      <td>3.6284</td>\n",
       "      <td>15.0540</td>\n",
       "      <td>7.0935</td>\n",
       "      <td>-3.677800</td>\n",
       "      <td>0.151150</td>\n",
       "      <td>-0.740350</td>\n",
       "      <td>0.47028</td>\n",
       "      <td>0.43618</td>\n",
       "      <td>0.545110</td>\n",
       "    </tr>\n",
       "  </tbody>\n",
       "</table>\n",
       "<p>1140000 rows × 48 columns</p>\n",
       "</div>"
      ],
      "text/plain": [
       "         person  activity_number    time    T_xacc   T_yacc   T_zacc  \\\n",
       "0             1                1    0.04   8.13050  1.03490  5.42170   \n",
       "1             1                1    0.08   8.13050  1.02020  5.38430   \n",
       "2             1                1    0.12   8.16040  1.02010  5.36220   \n",
       "3             1                1    0.16   8.16030  1.00520  5.37700   \n",
       "4             1                1    0.20   8.16050  1.02750  5.34730   \n",
       "...         ...              ...     ...       ...      ...      ...   \n",
       "1139995       8               19  299.84  16.00800 -2.01660 -0.58220   \n",
       "1139996       8               19  299.88   8.28230 -0.69936  0.48698   \n",
       "1139997       8               19  299.92   2.71210  0.49967  0.84053   \n",
       "1139998       8               19  299.96   2.03080 -0.71349 -0.11264   \n",
       "1139999       8               19  300.00  -0.04915  0.76302 -0.19343   \n",
       "\n",
       "          T_xgyro   T_ygyro   T_zgyro   T_xmag  ...   RL_zmag  LL_xacc  \\\n",
       "0       -0.009461  0.001915 -0.003424 -0.78712  ... -0.036453  -2.8071   \n",
       "1       -0.009368  0.023485  0.001953 -0.78717  ... -0.034005  -2.8146   \n",
       "2        0.015046  0.014330  0.000204 -0.78664  ... -0.036489  -2.8221   \n",
       "3        0.006892  0.018045  0.005649 -0.78529  ... -0.036151  -2.8071   \n",
       "4        0.008811  0.030433 -0.005346 -0.78742  ... -0.033807  -2.8146   \n",
       "...           ...       ...       ...      ...  ...       ...      ...   \n",
       "1139995  2.027100  1.656800  0.584410 -0.73195  ... -0.079139 -10.7520   \n",
       "1139996  2.887900  1.603900 -0.020417 -0.73055  ... -0.030868  -5.1838   \n",
       "1139997  1.996400  1.465800 -0.072605 -0.72533  ... -0.063032  -1.0348   \n",
       "1139998  1.766100  1.010300 -0.102120 -0.71933  ... -0.194960  -3.6479   \n",
       "1139999  2.590200  0.179090  0.011850 -0.71592  ... -0.212350   3.6284   \n",
       "\n",
       "         LL_yacc  LL_zacc  LL_xgyro  LL_ygyro  LL_zgyro  LL_xmag  LL_ymag  \\\n",
       "0        -9.0812   2.6220 -0.000232 -0.012092 -0.004457  0.74017  0.30053   \n",
       "1        -9.0737   2.6218 -0.014784 -0.016477  0.002789  0.73937  0.30183   \n",
       "2        -9.0886   2.6366 -0.012770  0.005717 -0.007918  0.73955  0.30052   \n",
       "3        -9.0811   2.6070 -0.005725  0.009620  0.006555  0.74029  0.30184   \n",
       "4        -9.0737   2.6218 -0.003929 -0.008371  0.002816  0.73845  0.30090   \n",
       "...          ...      ...       ...       ...       ...      ...      ...   \n",
       "1139995   4.3231  -4.5931 -0.230600  0.180890 -2.082300  0.56876  0.39409   \n",
       "1139996   1.2551  -4.1113  1.817200  0.312510 -1.021600  0.53822  0.43745   \n",
       "1139997  15.6940   1.2942  1.842100  0.349400 -0.282080  0.51752  0.47280   \n",
       "1139998  -7.4632 -12.3640 -0.150260  1.563400 -0.368450  0.50440  0.51029   \n",
       "1139999  15.0540   7.0935 -3.677800  0.151150 -0.740350  0.47028  0.43618   \n",
       "\n",
       "          LL_zmag  \n",
       "0       -0.057730  \n",
       "1       -0.057514  \n",
       "2       -0.057219  \n",
       "3       -0.057750  \n",
       "4       -0.057527  \n",
       "...           ...  \n",
       "1139995  0.518170  \n",
       "1139996  0.504010  \n",
       "1139997  0.489250  \n",
       "1139998  0.446480  \n",
       "1139999  0.545110  \n",
       "\n",
       "[1140000 rows x 48 columns]"
      ]
     },
     "execution_count": 13,
     "metadata": {},
     "output_type": "execute_result"
    }
   ],
   "source": [
    "df.drop('Unnamed: 0', axis=1, inplace=True)\n",
    "df"
   ]
  },
  {
   "cell_type": "markdown",
   "metadata": {},
   "source": [
    "### Run a quick model without much parameter tweaking"
   ]
  },
  {
   "cell_type": "code",
   "execution_count": 6,
   "metadata": {},
   "outputs": [],
   "source": [
    "X = df.drop('activity_number', axis=1)"
   ]
  },
  {
   "cell_type": "code",
   "execution_count": 7,
   "metadata": {},
   "outputs": [],
   "source": [
    "y = df['activity_number']"
   ]
  },
  {
   "cell_type": "code",
   "execution_count": 14,
   "metadata": {
    "ExecuteTime": {
     "end_time": "2020-05-12T00:33:39.558632Z",
     "start_time": "2020-05-12T00:33:39.554871Z"
    }
   },
   "outputs": [],
   "source": [
    "# X_train, X_test, y_train, y_test = train_test_split(X, y, test_size=.2, random_state=42)\n",
    "# Commenting out since their train_test_split wasn't ideal for my situation"
   ]
  },
  {
   "cell_type": "code",
   "execution_count": 11,
   "metadata": {},
   "outputs": [],
   "source": [
    "rf = RandomForestClassifier()"
   ]
  },
  {
   "cell_type": "code",
   "execution_count": 12,
   "metadata": {},
   "outputs": [
    {
     "data": {
      "text/plain": [
       "RandomForestClassifier(bootstrap=True, ccp_alpha=0.0, class_weight=None,\n",
       "                       criterion='gini', max_depth=None, max_features='auto',\n",
       "                       max_leaf_nodes=None, max_samples=None,\n",
       "                       min_impurity_decrease=0.0, min_impurity_split=None,\n",
       "                       min_samples_leaf=1, min_samples_split=2,\n",
       "                       min_weight_fraction_leaf=0.0, n_estimators=100,\n",
       "                       n_jobs=None, oob_score=False, random_state=None,\n",
       "                       verbose=0, warm_start=False)"
      ]
     },
     "execution_count": 12,
     "metadata": {},
     "output_type": "execute_result"
    }
   ],
   "source": [
    "# rf.fit(X_train, y_train)"
   ]
  },
  {
   "cell_type": "code",
   "execution_count": 13,
   "metadata": {},
   "outputs": [],
   "source": [
    "# y_pred = rf.predict(X_test)"
   ]
  },
  {
   "cell_type": "code",
   "execution_count": 14,
   "metadata": {},
   "outputs": [
    {
     "data": {
      "text/plain": [
       "0.9960789473684211"
      ]
     },
     "execution_count": 14,
     "metadata": {},
     "output_type": "execute_result"
    }
   ],
   "source": [
    "# rf.score(X_test, y_test)"
   ]
  },
  {
   "cell_type": "code",
   "execution_count": null,
   "metadata": {},
   "outputs": [],
   "source": []
  },
  {
   "cell_type": "code",
   "execution_count": null,
   "metadata": {},
   "outputs": [],
   "source": []
  },
  {
   "cell_type": "code",
   "execution_count": null,
   "metadata": {},
   "outputs": [],
   "source": []
  },
  {
   "cell_type": "code",
   "execution_count": null,
   "metadata": {},
   "outputs": [],
   "source": []
  },
  {
   "cell_type": "code",
   "execution_count": null,
   "metadata": {},
   "outputs": [],
   "source": []
  },
  {
   "cell_type": "code",
   "execution_count": null,
   "metadata": {},
   "outputs": [],
   "source": []
  },
  {
   "cell_type": "code",
   "execution_count": null,
   "metadata": {},
   "outputs": [],
   "source": []
  },
  {
   "cell_type": "code",
   "execution_count": null,
   "metadata": {},
   "outputs": [],
   "source": []
  },
  {
   "cell_type": "code",
   "execution_count": null,
   "metadata": {},
   "outputs": [],
   "source": []
  },
  {
   "cell_type": "code",
   "execution_count": null,
   "metadata": {},
   "outputs": [],
   "source": []
  },
  {
   "cell_type": "code",
   "execution_count": null,
   "metadata": {},
   "outputs": [],
   "source": []
  }
 ],
 "metadata": {
  "kernelspec": {
   "display_name": "Python 3",
   "language": "python",
   "name": "python3"
  },
  "language_info": {
   "codemirror_mode": {
    "name": "ipython",
    "version": 3
   },
   "file_extension": ".py",
   "mimetype": "text/x-python",
   "name": "python",
   "nbconvert_exporter": "python",
   "pygments_lexer": "ipython3",
   "version": "3.7.7"
  }
 },
 "nbformat": 4,
 "nbformat_minor": 4
}
