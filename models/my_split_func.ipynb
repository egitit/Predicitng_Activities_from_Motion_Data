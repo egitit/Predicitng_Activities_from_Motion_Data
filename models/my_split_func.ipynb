{
 "cells": [
  {
   "cell_type": "code",
   "execution_count": 1,
   "metadata": {
    "ExecuteTime": {
     "end_time": "2020-05-12T19:40:25.029779Z",
     "start_time": "2020-05-12T19:40:24.242548Z"
    }
   },
   "outputs": [],
   "source": [
    "import pandas as pd\n",
    "import numpy as np\n",
    "import random\n",
    "\n",
    "def my_train_test_split(X, y):\n",
    "    '''\n",
    "    Create a custom train_test_split function to split my data accordingly.\n",
    "    Creating since my data needs to be specifically sliced \n",
    "    i.e.\n",
    "    - participants 1-6 = training data\n",
    "    - participants 7-8 = testing data\n",
    "    \n",
    "    Parameters:\n",
    "    X: features\n",
    "    y: target values\n",
    "    \n",
    "    returns:\n",
    "    X_train, X_test, y_train, y_test, random_values\n",
    "    '''\n",
    "    random_values = random.sample(range(1,9), 6)\n",
    "    mask = df['person'].isin(random_values)\n",
    "    X_train = X[mask]\n",
    "    X_test = X[~mask]\n",
    "    y_train = y[mask]\n",
    "    y_test = y[~mask]\n",
    "    return X_train, X_test, y_train, y_test, random_values"
   ]
  }
 ],
 "metadata": {
  "kernelspec": {
   "display_name": "Python 3",
   "language": "python",
   "name": "python3"
  },
  "language_info": {
   "codemirror_mode": {
    "name": "ipython",
    "version": 3
   },
   "file_extension": ".py",
   "mimetype": "text/x-python",
   "name": "python",
   "nbconvert_exporter": "python",
   "pygments_lexer": "ipython3",
   "version": "3.7.7"
  }
 },
 "nbformat": 4,
 "nbformat_minor": 4
}
